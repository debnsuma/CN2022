{
 "cells": [
  {
   "cell_type": "code",
   "execution_count": 1,
   "id": "a7eda98c",
   "metadata": {},
   "outputs": [
    {
     "name": "stdout",
     "output_type": "stream",
     "text": [
      "[[0, 0, 0, 0], [0, 1, 2, 3], [0, 2, 4, 6]]\n"
     ]
    }
   ],
   "source": [
    "li = [[ i*j for j in range(4)] for i in range(3)]\n",
    "print(li)"
   ]
  },
  {
   "cell_type": "markdown",
   "id": "74e600c5",
   "metadata": {},
   "source": [
    "# Row Wise Sum"
   ]
  },
  {
   "cell_type": "code",
   "execution_count": 10,
   "id": "7d92e1f3",
   "metadata": {},
   "outputs": [
    {
     "name": "stdout",
     "output_type": "stream",
     "text": [
      "28 16 23 29 \n"
     ]
    }
   ],
   "source": [
    "from sys import stdin\n",
    "\n",
    "def rowWiseSum(mat, nRows, mCols):\n",
    "    for arr in mat:\n",
    "        result = sum([int(i) for i in arr])\n",
    "        print(result, end=' ')\n",
    "\n",
    "\n",
    "\n",
    "\n",
    "mat = [[6, 9, 8, 5], [9, 2, 4, 1], [8, 3, 9, 3], [8, 7, 8, 6]]\n",
    "nRows = 4\n",
    "mCols = 4\n",
    "rowWiseSum(mat, nRows, mCols)\n",
    "print()\n"
   ]
  },
  {
   "cell_type": "code",
   "execution_count": 8,
   "id": "cd8c5b4a",
   "metadata": {},
   "outputs": [],
   "source": [
    "li = stdin.readline().rstrip().split(\" \")"
   ]
  },
  {
   "cell_type": "code",
   "execution_count": 6,
   "id": "bd0cd5c1",
   "metadata": {},
   "outputs": [
    {
     "data": {
      "text/plain": [
       "['']"
      ]
     },
     "execution_count": 6,
     "metadata": {},
     "output_type": "execute_result"
    }
   ],
   "source": [
    "li"
   ]
  },
  {
   "cell_type": "markdown",
   "id": "b61a1679",
   "metadata": {},
   "source": [
    "# Largest Row or Column"
   ]
  },
  {
   "cell_type": "code",
   "execution_count": 62,
   "id": "a1f7325e",
   "metadata": {},
   "outputs": [],
   "source": [
    "def findLargest(arr, nRows, mCols):\n",
    "    rowSums = []\n",
    "    colSums = []\n",
    "        \n",
    "    if nRows == 0 or mCols == 0:\n",
    "        print(\"row 0 -2147483648\")\n",
    "        return\n",
    "    # Calclulate the rowSums \n",
    "    for row in arr:\n",
    "        _sum = sum(row)\n",
    "        rowSums.append(_sum)\n",
    "    \n",
    "    \n",
    "    # Calculate the colSums\n",
    "    for col in range(mCols):\n",
    "        _sum = 0\n",
    "        for row in range(nRows):\n",
    "            _sum += arr[row][col]\n",
    "        \n",
    "        colSums.append(_sum)\n",
    "    \n",
    "    maxSumRow = max(rowSums)\n",
    "    maxSumRowNo = rowSums.index(maxSumRow)\n",
    "    \n",
    "    maxSumCol = max(colSums)\n",
    "    maxSumColNo = colSums.index(maxSumCol)\n",
    "    \n",
    "#     print(rowSums)\n",
    "#     print(colSums)\n",
    "    \n",
    "#     print(maxSumRowNo, maxSumRow)\n",
    "#     print(maxSumColNo, maxSumCol)\n",
    "    \n",
    "    if maxSumRow > maxSumCol:\n",
    "        print(\"row {0} {1}\".format(maxSumRowNo, maxSumRow))\n",
    "    if maxSumRow == maxSumCol:\n",
    "        if maxSumRowNo <= maxSumColNo:\n",
    "            print(\"row {0} {1}\".format(maxSumRowNo, maxSumRow))\n",
    "        else:\n",
    "            print(\"column {0} {1}\".format(maxSumColNo, maxSumCol))\n",
    "            \n",
    "    else:\n",
    "        print(\"column {0} {1}\".format(maxSumColNo, maxSumCol))"
   ]
  },
  {
   "cell_type": "code",
   "execution_count": 63,
   "id": "aab4ddb8",
   "metadata": {},
   "outputs": [],
   "source": [
    "#Taking Input Using Fast I/O\n",
    "def take2DInput() :\n",
    "    li = input().rstrip().split(\" \")\n",
    "    nRows = int(li[0])\n",
    "    mCols = int(li[1])\n",
    "    \n",
    "    if nRows == 0 :\n",
    "        return list(), 0, 0\n",
    "    \n",
    "    mat = [list(map(int, input().strip().split(\" \"))) for row in range(nRows)]\n",
    "    return mat, nRows, mCols\n"
   ]
  },
  {
   "cell_type": "code",
   "execution_count": 64,
   "id": "ee7000e9",
   "metadata": {},
   "outputs": [
    {
     "name": "stdout",
     "output_type": "stream",
     "text": [
      "4 2\n",
      "1 2\n",
      "90 100\n",
      "3 40\n",
      "-10 200\n",
      "column 1 342\n"
     ]
    }
   ],
   "source": [
    "mat, nRows, mCols = take2DInput()\n",
    "findLargest(mat, nRows, mCols)"
   ]
  },
  {
   "cell_type": "code",
   "execution_count": 67,
   "id": "27691c25",
   "metadata": {},
   "outputs": [],
   "source": [
    "def findLargest(arr, nRows, mCols):\n",
    "    \n",
    "    isRow = True\n",
    "    largestSum = -2147483648\n",
    "    num = 0\n",
    "    \n",
    "    for i in range(nRows):\n",
    "        _sum = 0\n",
    "        for j in range(mCols):\n",
    "            _sum += arr[i][j]\n",
    "        \n",
    "        if _sum > largestSum:\n",
    "            num = i\n",
    "            largestSum = _sum\n",
    "    \n",
    "    for i in range(mCols):\n",
    "        _sum = 0\n",
    "        for j in range(nRows):\n",
    "            _sum += arr[j][i]\n",
    "        \n",
    "        if _sum > largestSum:\n",
    "            num = i\n",
    "            largestSum = _sum\n",
    "            isRow = False\n",
    "        \n",
    "    if isRow:\n",
    "        print(\"row {0} {1}\".format(num, largestSum))\n",
    "    else:\n",
    "        print(\"column {0} {1}\".format(num, largestSum))\n",
    "    "
   ]
  },
  {
   "cell_type": "code",
   "execution_count": 68,
   "id": "89e52b4b",
   "metadata": {},
   "outputs": [],
   "source": [
    "#Taking Input Using Fast I/O\n",
    "def take2DInput() :\n",
    "    li = input().rstrip().split(\" \")\n",
    "    nRows = int(li[0])\n",
    "    mCols = int(li[1])\n",
    "    \n",
    "    if nRows == 0 :\n",
    "        return list(), 0, 0\n",
    "    \n",
    "    mat = [list(map(int, input().strip().split(\" \"))) for row in range(nRows)]\n",
    "    return mat, nRows, mCols\n"
   ]
  },
  {
   "cell_type": "code",
   "execution_count": 69,
   "id": "766eb2c3",
   "metadata": {},
   "outputs": [
    {
     "name": "stdout",
     "output_type": "stream",
     "text": [
      "4 2\n",
      "1 2\n",
      "90 100\n",
      "3 40\n",
      "-10 200\n",
      "column 1 342\n"
     ]
    }
   ],
   "source": [
    "mat, nRows, mCols = take2DInput()\n",
    "findLargest(mat, nRows, mCols)"
   ]
  },
  {
   "cell_type": "markdown",
   "id": "3a13dc9d",
   "metadata": {},
   "source": [
    "# Wave Print\n"
   ]
  },
  {
   "cell_type": "code",
   "execution_count": 106,
   "id": "e6bfdc33",
   "metadata": {},
   "outputs": [],
   "source": [
    "def wavePrint(mat, nRows, mCols):\n",
    "    \n",
    "    evenColFlag = True\n",
    "    for i in range(mCols):\n",
    "\n",
    "        if i % 2 != 0:\n",
    "            evenColFlag = False\n",
    "        else:\n",
    "            evenColFlag = True\n",
    "        if evenColFlag:\n",
    "            for j in range(nRows):\n",
    "                print(mat[j][i], end= \" \")\n",
    "        \n",
    "        else:\n",
    "            for j in range(nRows-1, -1, -1):\n",
    "                print(mat[j][i], end= \" \")"
   ]
  },
  {
   "cell_type": "code",
   "execution_count": 107,
   "id": "e89e700a",
   "metadata": {},
   "outputs": [
    {
     "name": "stdout",
     "output_type": "stream",
     "text": [
      "3 3\n",
      "10 20 30\n",
      "40 50 60\n",
      "70 80 90\n",
      "10 40 70 80 50 20 30 60 90 \n"
     ]
    }
   ],
   "source": [
    "mat, nRows, mCols = take2DInput()\n",
    "wavePrint(mat, nRows, mCols)\n",
    "print()"
   ]
  },
  {
   "cell_type": "code",
   "execution_count": 93,
   "id": "def40b1a",
   "metadata": {},
   "outputs": [
    {
     "data": {
      "text/plain": [
       "0"
      ]
     },
     "execution_count": 93,
     "metadata": {},
     "output_type": "execute_result"
    }
   ],
   "source": [
    "0 % 2"
   ]
  },
  {
   "cell_type": "markdown",
   "id": "d8f184f4",
   "metadata": {},
   "source": [
    "# Spiral Print\n"
   ]
  },
  {
   "cell_type": "code",
   "execution_count": null,
   "id": "4bd77ac3",
   "metadata": {},
   "outputs": [],
   "source": [
    "def spiralPrint(mat, nRows, mCols):\n",
    "    total_elements = nRows + mCols\n",
    "    minIndex = 0 \n",
    "    maxIndex = total_elements - 1\n",
    "    \n",
    "    startRow = 0\n",
    "    startCol = 0\n",
    "    \n",
    "    for i in range(total_elements):\n",
    "        \n",
    "        \n"
   ]
  }
 ],
 "metadata": {
  "kernelspec": {
   "display_name": "Python 3 (ipykernel)",
   "language": "python",
   "name": "python3"
  },
  "language_info": {
   "codemirror_mode": {
    "name": "ipython",
    "version": 3
   },
   "file_extension": ".py",
   "mimetype": "text/x-python",
   "name": "python",
   "nbconvert_exporter": "python",
   "pygments_lexer": "ipython3",
   "version": "3.9.7"
  }
 },
 "nbformat": 4,
 "nbformat_minor": 5
}
