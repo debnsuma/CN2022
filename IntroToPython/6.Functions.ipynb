{
 "cells": [
  {
   "cell_type": "markdown",
   "id": "02ec2b73",
   "metadata": {},
   "source": [
    "### Fibonacci Member\n"
   ]
  },
  {
   "cell_type": "raw",
   "id": "d786751e",
   "metadata": {},
   "source": [
    "5 \n",
    "\n",
    "1, 1, 2, 3, 5, 8\n",
    "\n",
    "F(n) = F(n-1) + F(n-2)\n"
   ]
  },
  {
   "cell_type": "code",
   "execution_count": 4,
   "id": "1dcb9cfb",
   "metadata": {},
   "outputs": [],
   "source": [
    "def fibo(n):\n",
    "    \n",
    "    f_n_1 = 1\n",
    "    f_n_2 = 1\n",
    "    \n",
    "    print(f_n_1, end = ' ')\n",
    "    print(f_n_2, end = ' ')\n",
    "    for i in range(2, n+1):\n",
    "        f_n_1, f_n_2 = f_n_2, f_n_1 + f_n_2\n",
    "            \n",
    "        print(f_n_2, end = ' ')\n",
    "        "
   ]
  },
  {
   "cell_type": "code",
   "execution_count": 6,
   "id": "4aaaa27a",
   "metadata": {},
   "outputs": [
    {
     "name": "stdout",
     "output_type": "stream",
     "text": [
      "1 1 2 3 5 8 13 21 34 55 89 144 233 377 "
     ]
    }
   ],
   "source": [
    "fibo(13)"
   ]
  },
  {
   "cell_type": "code",
   "execution_count": 7,
   "id": "872ca4ca",
   "metadata": {},
   "outputs": [],
   "source": [
    "def checkMember(n):\n",
    "    \n",
    "    result = fibo(n)\n",
    "    if n in result:\n",
    "        return True\n",
    "    else:\n",
    "        return False"
   ]
  },
  {
   "cell_type": "markdown",
   "id": "0acfa2a6",
   "metadata": {},
   "source": [
    "### Palindrome number\n"
   ]
  },
  {
   "cell_type": "code",
   "execution_count": 42,
   "id": "22e2d6d4",
   "metadata": {},
   "outputs": [],
   "source": [
    "def checkPalindrome(n):\n",
    "    reverNum = ''\n",
    "    orgNum = n\n",
    "    \n",
    "    while n % 10 != n:\n",
    "        last_dig = n % 10\n",
    "        reverNum += str(last_dig)\n",
    "        n = n // 10\n",
    "    reverNum += str(n)\n",
    "    \n",
    "    reverNum = int(reverNum)\n",
    "    \n",
    "    if reverNum != orgNum:\n",
    "        return False\n",
    "    else:\n",
    "        return True\n",
    "    "
   ]
  },
  {
   "cell_type": "code",
   "execution_count": 44,
   "id": "f9a66d6e",
   "metadata": {},
   "outputs": [
    {
     "data": {
      "text/plain": [
       "True"
      ]
     },
     "execution_count": 44,
     "metadata": {},
     "output_type": "execute_result"
    }
   ],
   "source": [
    "checkPalindrome(121)"
   ]
  },
  {
   "cell_type": "markdown",
   "id": "d30f77ad",
   "metadata": {},
   "source": [
    "### Check Armstrong\n"
   ]
  },
  {
   "cell_type": "raw",
   "id": "e70cea07",
   "metadata": {},
   "source": [
    "Write a Program to determine if the given number is Armstrong number or not. Print true if number is armstrong, otherwise print false.\n",
    "An Armstrong number is a number (with digits n) such that the sum of its digits raised to nth power is equal to the number itself.\n",
    "\n",
    "For example,\n",
    "371, as 3^3 + 7^3 + 1^3 = 371\n",
    "1634, as 1^4 + 6^4 + 3^4 + 4^4 = 1634"
   ]
  },
  {
   "cell_type": "code",
   "execution_count": 52,
   "id": "204f643a",
   "metadata": {},
   "outputs": [],
   "source": [
    "def checkArmstong(n):\n",
    "    digits = []\n",
    "    orgNum = n\n",
    "    armSum = 0\n",
    "    \n",
    "    while n % 10 != n:\n",
    "        last_dig = n % 10\n",
    "        digits.append(last_dig)\n",
    "        n = n // 10\n",
    "    digits.append(n)\n",
    "        \n",
    "    for i in range(len(digits)):\n",
    "        armSum += digits[i] ** len(digits)\n",
    "    \n",
    "    if armSum == orgNum:\n",
    "        return True\n",
    "    else:\n",
    "        return False"
   ]
  },
  {
   "cell_type": "code",
   "execution_count": 54,
   "id": "46e00b6e",
   "metadata": {},
   "outputs": [
    {
     "data": {
      "text/plain": [
       "True"
      ]
     },
     "execution_count": 54,
     "metadata": {},
     "output_type": "execute_result"
    }
   ],
   "source": [
    "checkArmstong(1)"
   ]
  },
  {
   "cell_type": "code",
   "execution_count": 47,
   "id": "0c4fd55d",
   "metadata": {},
   "outputs": [
    {
     "data": {
      "text/plain": [
       "16"
      ]
     },
     "execution_count": 47,
     "metadata": {},
     "output_type": "execute_result"
    }
   ],
   "source": [
    "2 ** 4"
   ]
  },
  {
   "cell_type": "code",
   "execution_count": null,
   "id": "bb082d32",
   "metadata": {},
   "outputs": [],
   "source": []
  }
 ],
 "metadata": {
  "kernelspec": {
   "display_name": "Python 3 (ipykernel)",
   "language": "python",
   "name": "python3"
  },
  "language_info": {
   "codemirror_mode": {
    "name": "ipython",
    "version": 3
   },
   "file_extension": ".py",
   "mimetype": "text/x-python",
   "name": "python",
   "nbconvert_exporter": "python",
   "pygments_lexer": "ipython3",
   "version": "3.9.7"
  }
 },
 "nbformat": 4,
 "nbformat_minor": 5
}
