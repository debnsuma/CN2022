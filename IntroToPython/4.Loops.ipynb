{
 "cells": [
  {
   "cell_type": "code",
   "execution_count": 3,
   "id": "60e7eefd",
   "metadata": {},
   "outputs": [
    {
     "name": "stdout",
     "output_type": "stream",
     "text": [
      "1 2 3 4 5 "
     ]
    }
   ],
   "source": [
    "i=1\n",
    "while i<7:\n",
    "    if i == 6:\n",
    "        break\n",
    "    print(i,end=\" \")\n",
    "    i = i + 1\n",
    "else:\n",
    "    print(\"Else is also printed\")"
   ]
  },
  {
   "cell_type": "code",
   "execution_count": 5,
   "id": "4d052e14",
   "metadata": {},
   "outputs": [
    {
     "name": "stdout",
     "output_type": "stream",
     "text": [
      "1 2 4 "
     ]
    }
   ],
   "source": [
    "i=1\n",
    "while i<5:\n",
    "    if i==3:\n",
    "        i += 1\n",
    "        continue\n",
    "    print(i,end=\" \")\n",
    "    i = i + 1"
   ]
  },
  {
   "cell_type": "code",
   "execution_count": 7,
   "id": "6702fc30",
   "metadata": {},
   "outputs": [
    {
     "name": "stdout",
     "output_type": "stream",
     "text": [
      "1 2 4 5 1 2 4 5 "
     ]
    }
   ],
   "source": [
    "i=1\n",
    "while i<3:\n",
    "    j=0\n",
    "    while j<5:\n",
    "        j = j +1\n",
    "        if j==3:\n",
    "            continue\n",
    "        print(j,end=\" \")\n",
    "    i = i +1"
   ]
  },
  {
   "cell_type": "markdown",
   "id": "ce02af4e",
   "metadata": {},
   "source": [
    "### Binary Pattern"
   ]
  },
  {
   "cell_type": "raw",
   "id": "bb761554",
   "metadata": {},
   "source": [
    "\n",
    "Pattern for N = 4\n",
    "1111\n",
    "000\n",
    "11\n",
    "0"
   ]
  },
  {
   "cell_type": "code",
   "execution_count": 8,
   "id": "da75add6",
   "metadata": {},
   "outputs": [],
   "source": [
    "def binPat(n):\n",
    "    \n",
    "    for i in range(1, n+1):\n",
    "        if i % 2 != 0:\n",
    "            print(\"1\"*(n-i+1))\n",
    "        else:\n",
    "            print(\"0\"*(n-i+1)) "
   ]
  },
  {
   "cell_type": "code",
   "execution_count": 9,
   "id": "5b0fe72f",
   "metadata": {},
   "outputs": [
    {
     "name": "stdout",
     "output_type": "stream",
     "text": [
      "1111\n",
      "000\n",
      "11\n",
      "0\n"
     ]
    }
   ],
   "source": [
    "binPat(4)"
   ]
  },
  {
   "cell_type": "code",
   "execution_count": null,
   "id": "8da9413c",
   "metadata": {},
   "outputs": [],
   "source": []
  }
 ],
 "metadata": {
  "kernelspec": {
   "display_name": "Python 3 (ipykernel)",
   "language": "python",
   "name": "python3"
  },
  "language_info": {
   "codemirror_mode": {
    "name": "ipython",
    "version": 3
   },
   "file_extension": ".py",
   "mimetype": "text/x-python",
   "name": "python",
   "nbconvert_exporter": "python",
   "pygments_lexer": "ipython3",
   "version": "3.9.7"
  }
 },
 "nbformat": 4,
 "nbformat_minor": 5
}
