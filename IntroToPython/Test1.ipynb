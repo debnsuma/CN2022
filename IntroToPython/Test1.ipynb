{
 "cells": [
  {
   "cell_type": "markdown",
   "id": "b0a3af71",
   "metadata": {},
   "source": [
    "### Find the power of a number"
   ]
  },
  {
   "cell_type": "code",
   "execution_count": 1,
   "id": "79ab1faa",
   "metadata": {},
   "outputs": [],
   "source": [
    "def myPow(x, n):\n",
    "    result = x\n",
    "    for i in range(n-1):\n",
    "        result *= x\n",
    "    \n",
    "    return result"
   ]
  },
  {
   "cell_type": "code",
   "execution_count": 2,
   "id": "940e8b3e",
   "metadata": {},
   "outputs": [
    {
     "data": {
      "text/plain": [
       "8"
      ]
     },
     "execution_count": 2,
     "metadata": {},
     "output_type": "execute_result"
    }
   ],
   "source": [
    "myPow(2, 3)"
   ]
  },
  {
   "cell_type": "code",
   "execution_count": 3,
   "id": "095d2b2b",
   "metadata": {},
   "outputs": [
    {
     "data": {
      "text/plain": [
       "8"
      ]
     },
     "execution_count": 3,
     "metadata": {},
     "output_type": "execute_result"
    }
   ],
   "source": [
    "2**3"
   ]
  },
  {
   "cell_type": "code",
   "execution_count": 4,
   "id": "76d24db6",
   "metadata": {},
   "outputs": [
    {
     "data": {
      "text/plain": [
       "10000000000"
      ]
     },
     "execution_count": 4,
     "metadata": {},
     "output_type": "execute_result"
    }
   ],
   "source": [
    "myPow(10, 10)"
   ]
  },
  {
   "cell_type": "code",
   "execution_count": 5,
   "id": "46c101fb",
   "metadata": {},
   "outputs": [
    {
     "data": {
      "text/plain": [
       "10000000000"
      ]
     },
     "execution_count": 5,
     "metadata": {},
     "output_type": "execute_result"
    }
   ],
   "source": [
    "10**10"
   ]
  },
  {
   "cell_type": "code",
   "execution_count": 6,
   "id": "8f29b4f7",
   "metadata": {},
   "outputs": [
    {
     "data": {
      "text/plain": [
       "0"
      ]
     },
     "execution_count": 6,
     "metadata": {},
     "output_type": "execute_result"
    }
   ],
   "source": [
    "myPow(0, 100)"
   ]
  },
  {
   "cell_type": "markdown",
   "id": "45be4fbf",
   "metadata": {},
   "source": [
    "### Alpha Pattern"
   ]
  },
  {
   "cell_type": "raw",
   "id": "c56fa5ca",
   "metadata": {},
   "source": [
    "A\n",
    "BB\n",
    "CCC\n",
    "DDDD"
   ]
  },
  {
   "cell_type": "code",
   "execution_count": 8,
   "id": "10a01d5b",
   "metadata": {},
   "outputs": [
    {
     "data": {
      "text/plain": [
       "66"
      ]
     },
     "execution_count": 8,
     "metadata": {},
     "output_type": "execute_result"
    }
   ],
   "source": [
    "ord('A') + 1"
   ]
  },
  {
   "cell_type": "code",
   "execution_count": 9,
   "id": "c7631c1d",
   "metadata": {},
   "outputs": [
    {
     "data": {
      "text/plain": [
       "'B'"
      ]
     },
     "execution_count": 9,
     "metadata": {},
     "output_type": "execute_result"
    }
   ],
   "source": [
    "chr(66)"
   ]
  },
  {
   "cell_type": "code",
   "execution_count": 10,
   "id": "2d490060",
   "metadata": {},
   "outputs": [],
   "source": [
    "def alphaParr(n):\n",
    "    char = ord('A')\n",
    "    \n",
    "    for i in range(1, n+1):\n",
    "        print(chr(char) * i)\n",
    "        char += 1 "
   ]
  },
  {
   "cell_type": "code",
   "execution_count": 11,
   "id": "cbd996d4",
   "metadata": {},
   "outputs": [
    {
     "name": "stdout",
     "output_type": "stream",
     "text": [
      "A\n",
      "BB\n",
      "CCC\n",
      "DDDD\n",
      "EEEEE\n",
      "FFFFFF\n",
      "GGGGGGG\n"
     ]
    }
   ],
   "source": [
    "alphaParr(7)"
   ]
  },
  {
   "cell_type": "markdown",
   "id": "6b8aa903",
   "metadata": {},
   "source": [
    "### All prime numbers"
   ]
  },
  {
   "cell_type": "code",
   "execution_count": 25,
   "id": "3a13608c",
   "metadata": {},
   "outputs": [],
   "source": [
    "def check_prime(n):\n",
    "    if n == 1:\n",
    "        return False\n",
    "    i = 2\n",
    "    while (i < n):\n",
    "        if n % i == 0:\n",
    "            return False\n",
    "        i += 1\n",
    "    \n",
    "    return True\n",
    "\n",
    "def all_prime(n):\n",
    "    for i in range(1, n+1):\n",
    "        if check_prime(i):\n",
    "            print(i)\n",
    "        "
   ]
  },
  {
   "cell_type": "code",
   "execution_count": 26,
   "id": "91890d27",
   "metadata": {},
   "outputs": [
    {
     "name": "stdout",
     "output_type": "stream",
     "text": [
      "2\n",
      "3\n",
      "5\n",
      "7\n",
      "11\n",
      "13\n",
      "17\n",
      "19\n"
     ]
    }
   ],
   "source": [
    "all_prime(20)"
   ]
  },
  {
   "cell_type": "markdown",
   "id": "aba0819f",
   "metadata": {},
   "source": [
    "### Terms of AP"
   ]
  },
  {
   "cell_type": "code",
   "execution_count": 31,
   "id": "a434df3b",
   "metadata": {},
   "outputs": [],
   "source": [
    "def termofAP(x):\n",
    "    count = 0\n",
    "    i = 1\n",
    "    while count != x:     \n",
    "        num = 3 * i + 2\n",
    "        if num % 4 == 0:\n",
    "            i += 1\n",
    "            continue \n",
    "        else:\n",
    "            print(num, end=' ')\n",
    "            i += 1\n",
    "            count += 1"
   ]
  },
  {
   "cell_type": "code",
   "execution_count": 32,
   "id": "cf9bf5b7",
   "metadata": {},
   "outputs": [
    {
     "name": "stdout",
     "output_type": "stream",
     "text": [
      "5 11 14 17 23 26 29 35 38 41 "
     ]
    }
   ],
   "source": [
    "termofAP(10)"
   ]
  },
  {
   "cell_type": "code",
   "execution_count": 33,
   "id": "386e0066",
   "metadata": {},
   "outputs": [
    {
     "name": "stdout",
     "output_type": "stream",
     "text": [
      "5 11 14 17 "
     ]
    }
   ],
   "source": [
    "termofAP(4)"
   ]
  },
  {
   "cell_type": "markdown",
   "id": "900b0217",
   "metadata": {},
   "source": [
    "### Repeating numbers"
   ]
  },
  {
   "cell_type": "raw",
   "id": "3029d2ca",
   "metadata": {},
   "source": [
    "1\n",
    "23\n",
    "4567"
   ]
  },
  {
   "cell_type": "code",
   "execution_count": 41,
   "id": "20e68a6e",
   "metadata": {},
   "outputs": [],
   "source": [
    "def repeatNums(n):\n",
    "    start = 1\n",
    "    for i in range(n):\n",
    "        for j in range(i+1):\n",
    "            print(start, end='')\n",
    "            start += 1\n",
    "        print()\n",
    "        "
   ]
  },
  {
   "cell_type": "code",
   "execution_count": 42,
   "id": "2e6954ea",
   "metadata": {},
   "outputs": [
    {
     "name": "stdout",
     "output_type": "stream",
     "text": [
      "1\n",
      "23\n",
      "456\n",
      "78910\n",
      "1112131415\n"
     ]
    }
   ],
   "source": [
    "repeatNums(5)"
   ]
  },
  {
   "cell_type": "markdown",
   "id": "07e6a6a0",
   "metadata": {},
   "source": [
    "### Question 1"
   ]
  },
  {
   "cell_type": "raw",
   "id": "cd5b51d9",
   "metadata": {},
   "source": [
    " 5432*\n",
    " 543*1\n",
    " 54*21\n",
    " 5*321\n",
    " *4321"
   ]
  },
  {
   "cell_type": "code",
   "execution_count": 68,
   "id": "8df309a8",
   "metadata": {},
   "outputs": [
    {
     "name": "stdout",
     "output_type": "stream",
     "text": [
      "10\n",
      "1098765432*\n",
      "109876543*1\n",
      "10987654*21\n",
      "1098765*321\n",
      "109876*4321\n",
      "10987*54321\n",
      "1098*654321\n",
      "109*7654321\n",
      "10*87654321\n",
      "*987654321\n"
     ]
    }
   ],
   "source": [
    "def part1(n):\n",
    "    \n",
    "    for i in range(n):\n",
    "        for j in range(n, 0, -1):\n",
    "            if (i+1 == j):\n",
    "                print(\"*\", end='')\n",
    "            else:\n",
    "                print(j, end='')\n",
    "        print()\n",
    "\n",
    "n = int(input())\n",
    "part1(n)"
   ]
  },
  {
   "cell_type": "raw",
   "id": "cc0c5e4a",
   "metadata": {},
   "source": [
    "N = 4\n",
    "\n",
    "*000*000*\n",
    "0*00*00*0\n",
    "00*0*0*00\n",
    "000***000"
   ]
  },
  {
   "cell_type": "markdown",
   "id": "d6716bb2",
   "metadata": {},
   "source": [
    "### Question 2"
   ]
  },
  {
   "cell_type": "code",
   "execution_count": 75,
   "id": "03603993",
   "metadata": {},
   "outputs": [
    {
     "name": "stdout",
     "output_type": "stream",
     "text": [
      "4\n",
      "*000*000*\n",
      "0*00*00*0\n",
      "00*0*0*00\n",
      "000***000\n"
     ]
    }
   ],
   "source": [
    "def part2(n):\n",
    "    for i in range(n):\n",
    "        for j in range(n):\n",
    "            if i == j:\n",
    "                print(\"*\", end='')\n",
    "            else:\n",
    "                print(0, end='')\n",
    "        print(\"*\", end='')\n",
    "        \n",
    "        for k in range(n):\n",
    "            if i + k + 1 == n:\n",
    "                print(\"*\", end='')\n",
    "            else:\n",
    "                print(0, end='')\n",
    "        print()\n",
    "        \n",
    "\n",
    "n = int(input())\n",
    "part2(n)"
   ]
  },
  {
   "cell_type": "markdown",
   "id": "3d105e19",
   "metadata": {},
   "source": [
    "### Question 3"
   ]
  },
  {
   "cell_type": "code",
   "execution_count": 78,
   "id": "c6ae7caf",
   "metadata": {},
   "outputs": [
    {
     "name": "stdout",
     "output_type": "stream",
     "text": [
      "103\n"
     ]
    },
    {
     "data": {
      "text/plain": [
       "False"
      ]
     },
     "execution_count": 78,
     "metadata": {},
     "output_type": "execute_result"
    }
   ],
   "source": [
    "def checkArmstong(n):\n",
    "    digits = []\n",
    "    orgNum = n\n",
    "    armSum = 0\n",
    "    \n",
    "    while n % 10 != n:\n",
    "        last_dig = n % 10\n",
    "        digits.append(last_dig)\n",
    "        n = n // 10\n",
    "    digits.append(n)\n",
    "        \n",
    "    for i in range(len(digits)):\n",
    "        armSum += digits[i] ** len(digits)\n",
    "    \n",
    "    if armSum == orgNum:\n",
    "        return True\n",
    "    else:\n",
    "        return False\n",
    "    \n",
    "\n",
    "n = int(input())\n",
    "checkArmstong(n)"
   ]
  },
  {
   "cell_type": "code",
   "execution_count": null,
   "id": "c6b1cde5",
   "metadata": {},
   "outputs": [],
   "source": []
  },
  {
   "cell_type": "code",
   "execution_count": null,
   "id": "9f9fbb3f",
   "metadata": {},
   "outputs": [],
   "source": []
  },
  {
   "cell_type": "code",
   "execution_count": null,
   "id": "8cd66f00",
   "metadata": {},
   "outputs": [],
   "source": []
  },
  {
   "cell_type": "code",
   "execution_count": null,
   "id": "9ec8af50",
   "metadata": {},
   "outputs": [],
   "source": []
  },
  {
   "cell_type": "code",
   "execution_count": null,
   "id": "2bb4e012",
   "metadata": {},
   "outputs": [],
   "source": []
  },
  {
   "cell_type": "code",
   "execution_count": null,
   "id": "35b14986",
   "metadata": {},
   "outputs": [],
   "source": []
  },
  {
   "cell_type": "code",
   "execution_count": null,
   "id": "e0ee3c65",
   "metadata": {},
   "outputs": [],
   "source": []
  },
  {
   "cell_type": "code",
   "execution_count": null,
   "id": "50697026",
   "metadata": {},
   "outputs": [],
   "source": []
  },
  {
   "cell_type": "code",
   "execution_count": null,
   "id": "e08438cd",
   "metadata": {},
   "outputs": [],
   "source": []
  },
  {
   "cell_type": "code",
   "execution_count": null,
   "id": "5ddcd8b1",
   "metadata": {},
   "outputs": [],
   "source": []
  },
  {
   "cell_type": "code",
   "execution_count": null,
   "id": "2323edb3",
   "metadata": {},
   "outputs": [],
   "source": []
  },
  {
   "cell_type": "code",
   "execution_count": null,
   "id": "893f90b2",
   "metadata": {},
   "outputs": [],
   "source": []
  },
  {
   "cell_type": "code",
   "execution_count": null,
   "id": "7c33ae16",
   "metadata": {},
   "outputs": [],
   "source": []
  },
  {
   "cell_type": "code",
   "execution_count": null,
   "id": "5ea80aad",
   "metadata": {},
   "outputs": [],
   "source": []
  },
  {
   "cell_type": "code",
   "execution_count": null,
   "id": "cd9fc380",
   "metadata": {},
   "outputs": [],
   "source": []
  },
  {
   "cell_type": "code",
   "execution_count": null,
   "id": "e7652094",
   "metadata": {},
   "outputs": [],
   "source": []
  },
  {
   "cell_type": "code",
   "execution_count": null,
   "id": "a7706dd5",
   "metadata": {},
   "outputs": [],
   "source": []
  },
  {
   "cell_type": "code",
   "execution_count": null,
   "id": "f6df3f33",
   "metadata": {},
   "outputs": [],
   "source": []
  }
 ],
 "metadata": {
  "kernelspec": {
   "display_name": "Python 3 (ipykernel)",
   "language": "python",
   "name": "python3"
  },
  "language_info": {
   "codemirror_mode": {
    "name": "ipython",
    "version": 3
   },
   "file_extension": ".py",
   "mimetype": "text/x-python",
   "name": "python",
   "nbconvert_exporter": "python",
   "pygments_lexer": "ipython3",
   "version": "3.9.7"
  }
 },
 "nbformat": 4,
 "nbformat_minor": 5
}
