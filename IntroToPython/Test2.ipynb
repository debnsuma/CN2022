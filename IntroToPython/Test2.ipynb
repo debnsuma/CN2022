{
 "cells": [
  {
   "cell_type": "markdown",
   "id": "384ef638",
   "metadata": {},
   "source": [
    "# Print 2D Array\n"
   ]
  },
  {
   "cell_type": "code",
   "execution_count": 6,
   "id": "6b4d65a2",
   "metadata": {},
   "outputs": [],
   "source": [
    "#Taking Input Using Fast I/O\n",
    "def take2DInput() :\n",
    "    li = input().rstrip().split(\" \")\n",
    "    nRows = int(li[0])\n",
    "    mCols = int(li[1])\n",
    "    \n",
    "    if nRows == 0 :\n",
    "        return list(), 0, 0\n",
    "    \n",
    "    mat = [list(map(int, input().strip().split(\" \"))) for row in range(nRows)]\n",
    "    return mat, nRows, mCols"
   ]
  },
  {
   "cell_type": "code",
   "execution_count": 7,
   "id": "1d7c4e9b",
   "metadata": {},
   "outputs": [
    {
     "name": "stdout",
     "output_type": "stream",
     "text": [
      "3 3\n",
      "1 2 3\n",
      "4 5 6\n",
      "7 8 9\n"
     ]
    }
   ],
   "source": [
    "mat, nRows, mCols = take2DInput()"
   ]
  },
  {
   "cell_type": "code",
   "execution_count": 8,
   "id": "bb3ac5c2",
   "metadata": {},
   "outputs": [
    {
     "data": {
      "text/plain": [
       "[[1, 2, 3], [4, 5, 6], [7, 8, 9]]"
      ]
     },
     "execution_count": 8,
     "metadata": {},
     "output_type": "execute_result"
    }
   ],
   "source": [
    "mat"
   ]
  },
  {
   "cell_type": "code",
   "execution_count": 17,
   "id": "f0e7edf2",
   "metadata": {},
   "outputs": [],
   "source": [
    "def foo(mat, nRows, mCols):\n",
    "    for i in range(nRows):\n",
    "        k = nRows - i\n",
    "        while k > 0:\n",
    "            for j in range(mCols):\n",
    "                print(mat[i][j], end=' ')\n",
    "            k -= 1\n",
    "            print()\n",
    "            "
   ]
  },
  {
   "cell_type": "code",
   "execution_count": 18,
   "id": "9fc2c53f",
   "metadata": {},
   "outputs": [
    {
     "name": "stdout",
     "output_type": "stream",
     "text": [
      "1 2 3 \n",
      "1 2 3 \n",
      "1 2 3 \n",
      "4 5 6 \n",
      "4 5 6 \n",
      "7 8 9 \n"
     ]
    }
   ],
   "source": [
    "foo(mat, nRows, mCols)"
   ]
  },
  {
   "cell_type": "markdown",
   "id": "17af66b4",
   "metadata": {},
   "source": [
    "# Minimum Length Word\n"
   ]
  },
  {
   "cell_type": "code",
   "execution_count": 20,
   "id": "177884e8",
   "metadata": {},
   "outputs": [],
   "source": [
    "#Taking Input Using Fast I/O\n",
    "def take2DInput() :\n",
    "    s = input().rstrip().split(\" \")\n",
    "    return s"
   ]
  },
  {
   "cell_type": "code",
   "execution_count": 29,
   "id": "9ba49000",
   "metadata": {},
   "outputs": [
    {
     "name": "stdout",
     "output_type": "stream",
     "text": [
      "a\n"
     ]
    }
   ],
   "source": [
    "s = take2DInput()"
   ]
  },
  {
   "cell_type": "code",
   "execution_count": 30,
   "id": "50608c83",
   "metadata": {},
   "outputs": [
    {
     "data": {
      "text/plain": [
       "['a']"
      ]
     },
     "execution_count": 30,
     "metadata": {},
     "output_type": "execute_result"
    }
   ],
   "source": [
    "s"
   ]
  },
  {
   "cell_type": "code",
   "execution_count": 31,
   "id": "f7a06c33",
   "metadata": {},
   "outputs": [],
   "source": [
    "def foo(s):\n",
    "    result = s[0]\n",
    "    min_len = len(s[0])\n",
    "    for i in s:\n",
    "        if len(i) < min_len:\n",
    "            result = i\n",
    "            min_len = len(i)\n",
    "    \n",
    "    print(result)"
   ]
  },
  {
   "cell_type": "code",
   "execution_count": 32,
   "id": "387f1cfe",
   "metadata": {},
   "outputs": [
    {
     "name": "stdout",
     "output_type": "stream",
     "text": [
      "a\n"
     ]
    }
   ],
   "source": [
    "foo(s)"
   ]
  },
  {
   "cell_type": "markdown",
   "id": "fd50bc61",
   "metadata": {},
   "source": [
    "# Leaders in array\n"
   ]
  },
  {
   "cell_type": "code",
   "execution_count": 168,
   "id": "e5fa26d2",
   "metadata": {},
   "outputs": [],
   "source": [
    "#Taking Input Using Fast I/O\n",
    "def take2DInput() :\n",
    "    n = input().rstrip().split(\" \")\n",
    "    li = input().rstrip().split(\" \")\n",
    "    \n",
    "    n = int(n[0])\n",
    "    li = [int(i) for i in li]\n",
    "    \n",
    "    return n, li"
   ]
  },
  {
   "cell_type": "code",
   "execution_count": 169,
   "id": "d3e3c67e",
   "metadata": {},
   "outputs": [],
   "source": [
    "def foo(n,arr):\n",
    "     \n",
    "    for i in range(0, n):\n",
    "        count = 0\n",
    "        num = arr[i]\n",
    "        for j in range(i+1, n):\n",
    "            if arr[j] <= num:\n",
    "                count += 1\n",
    "            else:\n",
    "                break\n",
    "        if count == (n - i-1):\n",
    "            print(arr[i], end=' ')\n",
    "    \n",
    "                \n",
    " "
   ]
  },
  {
   "cell_type": "code",
   "execution_count": 170,
   "id": "3c1e2031",
   "metadata": {},
   "outputs": [
    {
     "name": "stdout",
     "output_type": "stream",
     "text": [
      "5\n",
      "102 2 1 13 3\n"
     ]
    }
   ],
   "source": [
    "n, li = take2DInput()"
   ]
  },
  {
   "cell_type": "code",
   "execution_count": 171,
   "id": "fcbecd13",
   "metadata": {},
   "outputs": [
    {
     "name": "stdout",
     "output_type": "stream",
     "text": [
      "102 13 3 "
     ]
    }
   ],
   "source": [
    "foo(n, li)"
   ]
  },
  {
   "cell_type": "code",
   "execution_count": null,
   "id": "37231984",
   "metadata": {},
   "outputs": [],
   "source": []
  }
 ],
 "metadata": {
  "kernelspec": {
   "display_name": "Python 3 (ipykernel)",
   "language": "python",
   "name": "python3"
  },
  "language_info": {
   "codemirror_mode": {
    "name": "ipython",
    "version": 3
   },
   "file_extension": ".py",
   "mimetype": "text/x-python",
   "name": "python",
   "nbconvert_exporter": "python",
   "pygments_lexer": "ipython3",
   "version": "3.9.7"
  }
 },
 "nbformat": 4,
 "nbformat_minor": 5
}
