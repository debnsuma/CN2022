{
 "cells": [
  {
   "cell_type": "code",
   "execution_count": 1,
   "id": "7b98b14b",
   "metadata": {},
   "outputs": [],
   "source": [
    "a = True"
   ]
  },
  {
   "cell_type": "code",
   "execution_count": 2,
   "id": "7d67b4e7",
   "metadata": {},
   "outputs": [
    {
     "data": {
      "text/plain": [
       "True"
      ]
     },
     "execution_count": 2,
     "metadata": {},
     "output_type": "execute_result"
    }
   ],
   "source": [
    "a"
   ]
  },
  {
   "cell_type": "code",
   "execution_count": 3,
   "id": "86a7c97a",
   "metadata": {},
   "outputs": [
    {
     "data": {
      "text/plain": [
       "1"
      ]
     },
     "execution_count": 3,
     "metadata": {},
     "output_type": "execute_result"
    }
   ],
   "source": [
    "int(a)"
   ]
  },
  {
   "cell_type": "code",
   "execution_count": 6,
   "id": "902a2f2b",
   "metadata": {},
   "outputs": [
    {
     "data": {
      "text/plain": [
       "False"
      ]
     },
     "execution_count": 6,
     "metadata": {},
     "output_type": "execute_result"
    }
   ],
   "source": [
    "bool(0)"
   ]
  },
  {
   "cell_type": "code",
   "execution_count": 7,
   "id": "09167f66",
   "metadata": {},
   "outputs": [
    {
     "data": {
      "text/plain": [
       "True"
      ]
     },
     "execution_count": 7,
     "metadata": {},
     "output_type": "execute_result"
    }
   ],
   "source": [
    "bool(-1)"
   ]
  },
  {
   "cell_type": "markdown",
   "id": "fbc00412",
   "metadata": {},
   "source": [
    "False -> 0 "
   ]
  },
  {
   "cell_type": "markdown",
   "id": "f6a2d14f",
   "metadata": {},
   "source": [
    "True -> Anything which is not 0"
   ]
  },
  {
   "cell_type": "markdown",
   "id": "a8580f53",
   "metadata": {},
   "source": [
    "### Problem 1"
   ]
  },
  {
   "cell_type": "code",
   "execution_count": 9,
   "id": "9ef6da8c",
   "metadata": {},
   "outputs": [
    {
     "name": "stdout",
     "output_type": "stream",
     "text": [
      "-9\n",
      "Negative\n"
     ]
    }
   ],
   "source": [
    "num = int(input())\n",
    "\n",
    "if num < 0:\n",
    "    print(\"Negative\")\n",
    "elif num >= 0:\n",
    "    print(\"Positive\")\n",
    "else:\n",
    "    print(\"Zero\")"
   ]
  },
  {
   "cell_type": "code",
   "execution_count": 10,
   "id": "d1e19fb5",
   "metadata": {},
   "outputs": [
    {
     "name": "stdout",
     "output_type": "stream",
     "text": [
      "B\n"
     ]
    }
   ],
   "source": [
    "if True or True:\n",
    "    if False and True or False:\n",
    "        print('A')\n",
    "    elif False and False or True and True:\n",
    "        print('B')\n",
    "    else:\n",
    "        print('C')\n",
    "else:\n",
    "     print('D')"
   ]
  },
  {
   "cell_type": "code",
   "execution_count": 12,
   "id": "84397129",
   "metadata": {},
   "outputs": [
    {
     "data": {
      "text/plain": [
       "True"
      ]
     },
     "execution_count": 12,
     "metadata": {},
     "output_type": "execute_result"
    }
   ],
   "source": [
    "bool(False and False or True and True)"
   ]
  },
  {
   "cell_type": "markdown",
   "id": "470e8701",
   "metadata": {},
   "source": [
    "### Problem : Sum of Numbers"
   ]
  },
  {
   "cell_type": "code",
   "execution_count": 13,
   "id": "eb968fe9",
   "metadata": {},
   "outputs": [
    {
     "name": "stdout",
     "output_type": "stream",
     "text": [
      "10\n",
      "55\n"
     ]
    }
   ],
   "source": [
    "n = int(input())\n",
    "\n",
    "result = 0\n",
    "while n != 0:\n",
    "    result = result + n\n",
    "    n -= 1\n",
    "\n",
    "print(result)"
   ]
  },
  {
   "cell_type": "markdown",
   "id": "6ae8480c",
   "metadata": {},
   "source": [
    "### Problem : Sum of Even Numbers\n"
   ]
  },
  {
   "cell_type": "code",
   "execution_count": 20,
   "id": "9c5dfe31",
   "metadata": {},
   "outputs": [
    {
     "name": "stdout",
     "output_type": "stream",
     "text": [
      "10\n",
      "30\n"
     ]
    }
   ],
   "source": [
    "n = int(input())\n",
    "\n",
    "result = 0\n",
    "while n != 0:\n",
    "    if (n % 2) == 0:\n",
    "        result = result + n\n",
    "    n -= 1\n",
    "\n",
    "print(result)"
   ]
  },
  {
   "cell_type": "code",
   "execution_count": 21,
   "id": "328beeaa",
   "metadata": {},
   "outputs": [
    {
     "name": "stdout",
     "output_type": "stream",
     "text": [
      "0\n",
      "1\n",
      "2\n",
      "3\n",
      "4\n",
      "5\n",
      "6\n",
      "7\n",
      "8\n",
      "9\n"
     ]
    }
   ],
   "source": [
    "i=0\n",
    "while i<10:\n",
    "    print(i)\n",
    "    i=i+1"
   ]
  },
  {
   "cell_type": "markdown",
   "id": "30951015",
   "metadata": {},
   "source": [
    "### Fahrenheit to Celsius"
   ]
  },
  {
   "cell_type": "code",
   "execution_count": 27,
   "id": "cab46aec",
   "metadata": {},
   "outputs": [
    {
     "name": "stdout",
     "output_type": "stream",
     "text": [
      "0\n",
      "100\n",
      "20\n",
      "0 -17\n",
      "20 -6\n",
      "40 4\n",
      "60 15\n",
      "80 26\n",
      "100 37\n"
     ]
    }
   ],
   "source": [
    "S = int(input())\n",
    "E = int(input())\n",
    "W = int(input())\n",
    "\n",
    "while S <= E:\n",
    "    C = int((S - 32) * 5/9)\n",
    "    print(\"{} {}\".format(S, C))\n",
    "    S += W\n"
   ]
  },
  {
   "cell_type": "markdown",
   "id": "e4229d82",
   "metadata": {},
   "source": [
    "### Calculator"
   ]
  },
  {
   "cell_type": "code",
   "execution_count": 35,
   "id": "9ba9e0fc",
   "metadata": {},
   "outputs": [
    {
     "data": {
      "text/plain": [
       "6"
      ]
     },
     "execution_count": 35,
     "metadata": {},
     "output_type": "execute_result"
    }
   ],
   "source": [
    "3\n",
    "1\n",
    "2\n",
    "\n",
    "4\n",
    "4\n",
    "2\n",
    "\n",
    "1\n",
    "3\n",
    "2\n",
    "\n",
    "6"
   ]
  },
  {
   "cell_type": "code",
   "execution_count": 38,
   "id": "fb19e8c0",
   "metadata": {},
   "outputs": [
    {
     "name": "stdout",
     "output_type": "stream",
     "text": [
      "6\n"
     ]
    }
   ],
   "source": [
    "i = int(input())\n",
    "\n",
    "if i == 1:\n",
    "    a = int(input())\n",
    "    b = int(input())\n",
    "    print(a + b)\n",
    "elif i == 2:\n",
    "    a = int(input())\n",
    "    b = int(input())\n",
    "    print(a - b)\n",
    "elif i == 3:\n",
    "    a = int(input())\n",
    "    b = int(input())\n",
    "    print(a * b)\n",
    "elif i == 4:\n",
    "    a = int(input())\n",
    "    b = int(input())\n",
    "    print(a // b)\n",
    "elif i == 5:\n",
    "    a = int(input())\n",
    "    b = int(input())\n",
    "    print(a % b)\n",
    "elif i == 6:\n",
    "    pass\n",
    "else:\n",
    "    print(\"Invalid Operation\")"
   ]
  },
  {
   "cell_type": "code",
   "execution_count": 40,
   "id": "4746a15b",
   "metadata": {},
   "outputs": [
    {
     "name": "stdout",
     "output_type": "stream",
     "text": [
      "3\n",
      "2\n",
      "3\n",
      "6\n",
      "6\n"
     ]
    }
   ],
   "source": [
    "i = int(input())\n",
    "\n",
    "while (i != 6):\n",
    "    if i == 1:\n",
    "        a = int(input())\n",
    "        b = int(input())\n",
    "        print(a + b)\n",
    "    elif i == 2:\n",
    "        a = int(input())\n",
    "        b = int(input())\n",
    "        print(a - b)\n",
    "    elif i == 3:\n",
    "        a = int(input())\n",
    "        b = int(input())\n",
    "        print(a * b)\n",
    "    elif i == 4:\n",
    "        a = int(input())\n",
    "        b = int(input())\n",
    "        print(a // b)\n",
    "    elif i == 5:\n",
    "        a = int(input())\n",
    "        b = int(input())\n",
    "        print(a % b)\n",
    "    else:\n",
    "        print(\"Invalid Operation\")\n",
    "    \n",
    "    i = int(input())\n"
   ]
  },
  {
   "cell_type": "markdown",
   "id": "740aa947",
   "metadata": {},
   "source": [
    "### Reverse of a number\n"
   ]
  },
  {
   "cell_type": "code",
   "execution_count": 41,
   "id": "5fc3afcb",
   "metadata": {},
   "outputs": [],
   "source": [
    "a = 1234"
   ]
  },
  {
   "cell_type": "code",
   "execution_count": 44,
   "id": "18714ce9",
   "metadata": {},
   "outputs": [
    {
     "name": "stdout",
     "output_type": "stream",
     "text": [
      "4\n"
     ]
    }
   ],
   "source": [
    "result = a % 10\n",
    "print(result)"
   ]
  },
  {
   "cell_type": "code",
   "execution_count": 46,
   "id": "d49b18c5",
   "metadata": {},
   "outputs": [
    {
     "data": {
      "text/plain": [
       "123"
      ]
     },
     "execution_count": 46,
     "metadata": {},
     "output_type": "execute_result"
    }
   ],
   "source": [
    "a // 10"
   ]
  },
  {
   "cell_type": "code",
   "execution_count": 47,
   "id": "9fae531c",
   "metadata": {},
   "outputs": [
    {
     "data": {
      "text/plain": [
       "12"
      ]
     },
     "execution_count": 47,
     "metadata": {},
     "output_type": "execute_result"
    }
   ],
   "source": [
    "123 // 10"
   ]
  },
  {
   "cell_type": "code",
   "execution_count": 48,
   "id": "74448464",
   "metadata": {},
   "outputs": [
    {
     "data": {
      "text/plain": [
       "1"
      ]
     },
     "execution_count": 48,
     "metadata": {},
     "output_type": "execute_result"
    }
   ],
   "source": [
    "12 // 10"
   ]
  },
  {
   "cell_type": "code",
   "execution_count": 49,
   "id": "df736f01",
   "metadata": {},
   "outputs": [
    {
     "data": {
      "text/plain": [
       "0"
      ]
     },
     "execution_count": 49,
     "metadata": {},
     "output_type": "execute_result"
    }
   ],
   "source": [
    "1 // 10"
   ]
  },
  {
   "cell_type": "code",
   "execution_count": 98,
   "id": "12a6bcc0",
   "metadata": {},
   "outputs": [
    {
     "name": "stdout",
     "output_type": "stream",
     "text": [
      "101\n",
      "101\n"
     ]
    }
   ],
   "source": [
    "a = int(input())\n",
    "result = 0\n",
    "while a != 0:\n",
    "    reminder = a % 10\n",
    "    a = a // 10\n",
    "    temp = a\n",
    "    tens = 1\n",
    "    while (temp != 0):\n",
    "        tens *= 10\n",
    "        temp = temp // 10\n",
    "    \n",
    "    result = result + reminder*tens \n",
    "    \n",
    "print(result)"
   ]
  },
  {
   "cell_type": "code",
   "execution_count": 54,
   "id": "fb1f1f4a",
   "metadata": {},
   "outputs": [
    {
     "data": {
      "text/plain": [
       "123"
      ]
     },
     "execution_count": 54,
     "metadata": {},
     "output_type": "execute_result"
    }
   ],
   "source": [
    "1234 // 10"
   ]
  },
  {
   "cell_type": "code",
   "execution_count": 55,
   "id": "94a9377e",
   "metadata": {},
   "outputs": [
    {
     "data": {
      "text/plain": [
       "4"
      ]
     },
     "execution_count": 55,
     "metadata": {},
     "output_type": "execute_result"
    }
   ],
   "source": [
    "1234 % 10"
   ]
  },
  {
   "cell_type": "code",
   "execution_count": 57,
   "id": "9cc4f1bd",
   "metadata": {},
   "outputs": [
    {
     "data": {
      "text/plain": [
       "10"
      ]
     },
     "execution_count": 57,
     "metadata": {},
     "output_type": "execute_result"
    }
   ],
   "source": [
    "result"
   ]
  },
  {
   "cell_type": "markdown",
   "id": "ddc93b7c",
   "metadata": {},
   "source": [
    "### Palindrome number\n"
   ]
  },
  {
   "cell_type": "code",
   "execution_count": 100,
   "id": "afcfd96d",
   "metadata": {},
   "outputs": [
    {
     "name": "stdout",
     "output_type": "stream",
     "text": [
      "1001\n",
      "true\n"
     ]
    }
   ],
   "source": [
    "a = int(input())\n",
    "result = 0\n",
    "mynum = a\n",
    "while a != 0:\n",
    "    reminder = a % 10\n",
    "    a = a // 10\n",
    "    temp = a\n",
    "    tens = 1\n",
    "    while (temp != 0):\n",
    "        tens *= 10\n",
    "        temp = temp // 10\n",
    "    \n",
    "    result = result + reminder*tens \n",
    "    \n",
    "if (result == mynum):\n",
    "    print(\"true\")\n",
    "else:\n",
    "    print(\"false\")"
   ]
  },
  {
   "cell_type": "markdown",
   "id": "8467b267",
   "metadata": {},
   "source": [
    "### Sum of even & odd\n"
   ]
  },
  {
   "cell_type": "code",
   "execution_count": 107,
   "id": "bafa5a31",
   "metadata": {},
   "outputs": [
    {
     "name": "stdout",
     "output_type": "stream",
     "text": [
      "552245\n",
      "8 15\n"
     ]
    }
   ],
   "source": [
    "a = int(input())\n",
    "result, odd_sum, even_sum,  = 0, 0, 0\n",
    "while a != 0:\n",
    "    reminder = a % 10\n",
    "    a = a // 10\n",
    "    if reminder % 2 == 0:\n",
    "        even_sum += reminder \n",
    "    else:\n",
    "        odd_sum += reminder\n",
    "\n",
    "print(\"{} {}\".format(even_sum, odd_sum))"
   ]
  },
  {
   "cell_type": "markdown",
   "id": "60e223ef",
   "metadata": {},
   "source": [
    "### Nth Fibonacci Number\n"
   ]
  },
  {
   "cell_type": "code",
   "execution_count": 108,
   "id": "b5861e59",
   "metadata": {},
   "outputs": [],
   "source": [
    "n = 6 # [ 1, 1, 2, 3, 5, 8]"
   ]
  },
  {
   "cell_type": "code",
   "execution_count": 135,
   "id": "3e3e745e",
   "metadata": {},
   "outputs": [],
   "source": [
    "def fiboo(n):\n",
    "    first = 1\n",
    "    second = 1\n",
    "    result = first + second \n",
    "    \n",
    "    if (n <= 2):\n",
    "        result = 1\n",
    "    elif (n == 3):\n",
    "        result = 2\n",
    "    while (n > 3):\n",
    "        \n",
    "        second, first = result, second\n",
    "        result = first + second \n",
    "        n -= 1\n",
    "    \n",
    "    return result"
   ]
  },
  {
   "cell_type": "code",
   "execution_count": 136,
   "id": "cc899bae",
   "metadata": {},
   "outputs": [
    {
     "data": {
      "text/plain": [
       "5"
      ]
     },
     "execution_count": 136,
     "metadata": {},
     "output_type": "execute_result"
    }
   ],
   "source": [
    "fiboo(5)"
   ]
  },
  {
   "cell_type": "code",
   "execution_count": null,
   "id": "be110e0b",
   "metadata": {},
   "outputs": [],
   "source": []
  }
 ],
 "metadata": {
  "kernelspec": {
   "display_name": "Python 3 (ipykernel)",
   "language": "python",
   "name": "python3"
  },
  "language_info": {
   "codemirror_mode": {
    "name": "ipython",
    "version": 3
   },
   "file_extension": ".py",
   "mimetype": "text/x-python",
   "name": "python",
   "nbconvert_exporter": "python",
   "pygments_lexer": "ipython3",
   "version": "3.9.7"
  }
 },
 "nbformat": 4,
 "nbformat_minor": 5
}
