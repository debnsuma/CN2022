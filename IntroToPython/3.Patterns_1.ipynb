{
 "cells": [
  {
   "cell_type": "markdown",
   "id": "00c77d4a",
   "metadata": {},
   "source": [
    "### Pattern 1"
   ]
  },
  {
   "cell_type": "code",
   "execution_count": 1,
   "id": "9a4eaf76",
   "metadata": {},
   "outputs": [],
   "source": [
    "def patterns1(n):\n",
    "    for i in range(n):\n",
    "        print(\"*\"*n)\n",
    "        "
   ]
  },
  {
   "cell_type": "code",
   "execution_count": 2,
   "id": "f2ab666e",
   "metadata": {},
   "outputs": [
    {
     "name": "stdout",
     "output_type": "stream",
     "text": [
      "*****\n",
      "*****\n",
      "*****\n",
      "*****\n",
      "*****\n"
     ]
    }
   ],
   "source": [
    "patterns1(5)"
   ]
  },
  {
   "cell_type": "markdown",
   "id": "34d60f62",
   "metadata": {},
   "source": [
    "### Square Pattern"
   ]
  },
  {
   "cell_type": "raw",
   "id": "f43156ac",
   "metadata": {},
   "source": [
    "Pattern for N = 4\n",
    "\n",
    "4444\n",
    "4444\n",
    "4444\n",
    "4444"
   ]
  },
  {
   "cell_type": "code",
   "execution_count": 3,
   "id": "8ac80ef8",
   "metadata": {},
   "outputs": [],
   "source": [
    "def squarPattern(n):\n",
    "    \n",
    "    for i in range(n):\n",
    "        print(str(n)*n)"
   ]
  },
  {
   "cell_type": "code",
   "execution_count": 4,
   "id": "ac33f700",
   "metadata": {},
   "outputs": [
    {
     "name": "stdout",
     "output_type": "stream",
     "text": [
      "7777777\n",
      "7777777\n",
      "7777777\n",
      "7777777\n",
      "7777777\n",
      "7777777\n",
      "7777777\n"
     ]
    }
   ],
   "source": [
    "squarPattern(7)"
   ]
  },
  {
   "cell_type": "markdown",
   "id": "6b8a74d3",
   "metadata": {},
   "source": [
    "### Traingle Pattern"
   ]
  },
  {
   "cell_type": "code",
   "execution_count": 19,
   "id": "65a5e880",
   "metadata": {},
   "outputs": [],
   "source": [
    "def tringlePattern1(n):\n",
    "    \n",
    "    for i in range(n):\n",
    "\n",
    "        # print numbers\n",
    "        j = 1\n",
    "        while (j <= i + 1):\n",
    "            print(j, end='')\n",
    "            j += 1\n",
    "        \n",
    "        # print enter(next line)\n",
    "        print()\n",
    "        "
   ]
  },
  {
   "cell_type": "code",
   "execution_count": 20,
   "id": "86120a47",
   "metadata": {},
   "outputs": [
    {
     "name": "stdout",
     "output_type": "stream",
     "text": [
      "1\n",
      "12\n",
      "123\n",
      "1234\n"
     ]
    }
   ],
   "source": [
    "tringlePattern1(4)"
   ]
  },
  {
   "cell_type": "code",
   "execution_count": 21,
   "id": "e7e55ec1",
   "metadata": {},
   "outputs": [],
   "source": [
    "def tringlePattern2(n):\n",
    "    \n",
    "    for i in range(1, n+1):        \n",
    "        # print numbers\n",
    "        j = 1\n",
    "        start = i\n",
    "        while (j <= i):\n",
    "            print(start, end='')\n",
    "            start += 1\n",
    "            j += 1\n",
    "            \n",
    "        \n",
    "        # print enter(next line)\n",
    "        print()\n",
    "        "
   ]
  },
  {
   "cell_type": "code",
   "execution_count": 22,
   "id": "fab18864",
   "metadata": {},
   "outputs": [
    {
     "name": "stdout",
     "output_type": "stream",
     "text": [
      "1\n",
      "23\n",
      "345\n",
      "4567\n"
     ]
    }
   ],
   "source": [
    "tringlePattern2(4)"
   ]
  },
  {
   "cell_type": "code",
   "execution_count": 23,
   "id": "59ca51f7",
   "metadata": {},
   "outputs": [],
   "source": [
    "def tringlePattern3(n):\n",
    "    \n",
    "    start = 1\n",
    "    for i in range(1, n+1):        \n",
    "        # print numbers\n",
    "        j = 1\n",
    "        while (j <= i):\n",
    "            print(start, end='')\n",
    "            start += 1\n",
    "            j += 1\n",
    "            \n",
    "        \n",
    "        # print enter(next line)\n",
    "        print()\n",
    "        "
   ]
  },
  {
   "cell_type": "code",
   "execution_count": 24,
   "id": "5c4551a6",
   "metadata": {},
   "outputs": [
    {
     "name": "stdout",
     "output_type": "stream",
     "text": [
      "1\n",
      "23\n",
      "456\n",
      "78910\n"
     ]
    }
   ],
   "source": [
    "tringlePattern3(4)"
   ]
  },
  {
   "cell_type": "markdown",
   "id": "d0fd02f1",
   "metadata": {},
   "source": [
    "### Triangular Star Pattern"
   ]
  },
  {
   "cell_type": "raw",
   "id": "6f977b2c",
   "metadata": {},
   "source": [
    "Pattern for N = 4\n",
    "\n",
    "*\n",
    "**\n",
    "***\n",
    "****"
   ]
  },
  {
   "cell_type": "code",
   "execution_count": 25,
   "id": "c9bd3f7f",
   "metadata": {},
   "outputs": [],
   "source": [
    "def tringlePattern4(n):\n",
    "    \n",
    "    for i in range(1, n+1):\n",
    "\n",
    "        # print star\n",
    "        print(\"*\"*i)\n",
    "        \n",
    "        "
   ]
  },
  {
   "cell_type": "code",
   "execution_count": 26,
   "id": "f599475b",
   "metadata": {},
   "outputs": [
    {
     "name": "stdout",
     "output_type": "stream",
     "text": [
      "*\n",
      "**\n",
      "***\n",
      "****\n"
     ]
    }
   ],
   "source": [
    "tringlePattern4(4)"
   ]
  },
  {
   "cell_type": "markdown",
   "id": "72cff172",
   "metadata": {},
   "source": [
    "### Triangle Number Pattern\n"
   ]
  },
  {
   "cell_type": "raw",
   "id": "a866b9b6",
   "metadata": {},
   "source": [
    "Pattern for N = 4\n",
    "\n",
    "1\n",
    "22\n",
    "333\n",
    "4444"
   ]
  },
  {
   "cell_type": "code",
   "execution_count": 28,
   "id": "5de8d048",
   "metadata": {},
   "outputs": [],
   "source": [
    "def tringlePattern5(n):\n",
    "    \n",
    "    for i in range(1, n+1):        \n",
    "        print(str(i)*i)"
   ]
  },
  {
   "cell_type": "code",
   "execution_count": 29,
   "id": "14617216",
   "metadata": {},
   "outputs": [
    {
     "name": "stdout",
     "output_type": "stream",
     "text": [
      "1\n",
      "22\n",
      "333\n",
      "4444\n"
     ]
    }
   ],
   "source": [
    "tringlePattern5(4)"
   ]
  },
  {
   "cell_type": "markdown",
   "id": "ac47c410",
   "metadata": {},
   "source": [
    "### Reverse Number Pattern"
   ]
  },
  {
   "cell_type": "raw",
   "id": "deadd9d1",
   "metadata": {},
   "source": [
    "Pattern for N = 4\n",
    "\n",
    "1\n",
    "21\n",
    "321\n",
    "4321"
   ]
  },
  {
   "cell_type": "code",
   "execution_count": 31,
   "id": "310b686d",
   "metadata": {},
   "outputs": [],
   "source": [
    "def tringlePattern6(n):\n",
    "    \n",
    "    for i in range(1, n+1):        \n",
    "        j = i\n",
    "        while(j >= 1):\n",
    "            print(j, end='')\n",
    "            j -= 1\n",
    "        print()"
   ]
  },
  {
   "cell_type": "code",
   "execution_count": 32,
   "id": "5062632e",
   "metadata": {},
   "outputs": [
    {
     "name": "stdout",
     "output_type": "stream",
     "text": [
      "1\n",
      "21\n",
      "321\n",
      "4321\n"
     ]
    }
   ],
   "source": [
    "tringlePattern6(4)"
   ]
  },
  {
   "cell_type": "markdown",
   "id": "69b1052d",
   "metadata": {},
   "source": [
    "### \"kth\" character "
   ]
  },
  {
   "cell_type": "code",
   "execution_count": 35,
   "id": "dc705442",
   "metadata": {},
   "outputs": [
    {
     "data": {
      "text/plain": [
       "65"
      ]
     },
     "execution_count": 35,
     "metadata": {},
     "output_type": "execute_result"
    }
   ],
   "source": [
    "ord(\"A\")"
   ]
  },
  {
   "cell_type": "code",
   "execution_count": 36,
   "id": "cd946d4d",
   "metadata": {},
   "outputs": [
    {
     "data": {
      "text/plain": [
       "'A'"
      ]
     },
     "execution_count": 36,
     "metadata": {},
     "output_type": "execute_result"
    }
   ],
   "source": [
    "chr(65)"
   ]
  },
  {
   "cell_type": "markdown",
   "id": "cb8cc371",
   "metadata": {},
   "source": [
    "### Character Pattern"
   ]
  },
  {
   "cell_type": "raw",
   "id": "1c4b2f1d",
   "metadata": {},
   "source": [
    "Pattern for N = 4\n",
    "\n",
    "A\n",
    "BC\n",
    "CDE\n",
    "DEFG"
   ]
  },
  {
   "cell_type": "code",
   "execution_count": 51,
   "id": "f77072bc",
   "metadata": {},
   "outputs": [],
   "source": [
    "def charPattern1(n):\n",
    "    startChar = ord(\"A\")\n",
    "    for i in range(n):\n",
    "        \n",
    "        # print the alphabet\n",
    "        j = 0\n",
    "        start = i\n",
    "\n",
    "        while (j <= i):\n",
    "            print(chr(startChar+start), end='')\n",
    "            start += 1\n",
    "            j += 1\n",
    "        start = start\n",
    "        print()"
   ]
  },
  {
   "cell_type": "code",
   "execution_count": 52,
   "id": "6c05ba62",
   "metadata": {},
   "outputs": [
    {
     "name": "stdout",
     "output_type": "stream",
     "text": [
      "A\n",
      "BC\n",
      "CDE\n",
      "DEFG\n"
     ]
    }
   ],
   "source": [
    "charPattern1(4)"
   ]
  },
  {
   "cell_type": "markdown",
   "id": "fb555784",
   "metadata": {},
   "source": [
    "### Interesting Alphabets"
   ]
  },
  {
   "cell_type": "raw",
   "id": "a152c589",
   "metadata": {},
   "source": [
    "Pattern for N = 5\n",
    "\n",
    "E\n",
    "DE\n",
    "CDE\n",
    "BCDE\n",
    "ABCDE"
   ]
  },
  {
   "cell_type": "code",
   "execution_count": 62,
   "id": "2cd3ddb3",
   "metadata": {},
   "outputs": [],
   "source": [
    "def charPattern2(n):\n",
    "    startChar = ord(\"A\") + n\n",
    "    for i in range(1, n+1):\n",
    "        \n",
    "        # print the alphabet\n",
    "        j = 0\n",
    "        start = i\n",
    "\n",
    "        while (j < i):\n",
    "            print(chr(startChar-start), end='')\n",
    "            start -= 1\n",
    "            j += 1\n",
    "        start = start\n",
    "        print()"
   ]
  },
  {
   "cell_type": "code",
   "execution_count": 63,
   "id": "c0a82d18",
   "metadata": {},
   "outputs": [
    {
     "name": "stdout",
     "output_type": "stream",
     "text": [
      "E\n",
      "DE\n",
      "CDE\n",
      "BCDE\n",
      "ABCDE\n"
     ]
    }
   ],
   "source": [
    "charPattern2(5)"
   ]
  },
  {
   "cell_type": "markdown",
   "id": "62b3248a",
   "metadata": {},
   "source": [
    "### Number Pattern 1"
   ]
  },
  {
   "cell_type": "raw",
   "id": "eebd092b",
   "metadata": {},
   "source": [
    "Pattern for N = 4\n",
    "\n",
    "1\n",
    "11\n",
    "111\n",
    "1111"
   ]
  },
  {
   "cell_type": "code",
   "execution_count": 64,
   "id": "93d89bc8",
   "metadata": {},
   "outputs": [],
   "source": [
    "def numPattern1(n):\n",
    "    \n",
    "    for i in range(1, n+1):\n",
    "\n",
    "        # print number\n",
    "        print(\"1\"*i)\n",
    "        \n",
    "        "
   ]
  },
  {
   "cell_type": "code",
   "execution_count": 65,
   "id": "306b70b7",
   "metadata": {},
   "outputs": [
    {
     "name": "stdout",
     "output_type": "stream",
     "text": [
      "1\n",
      "11\n",
      "111\n",
      "1111\n"
     ]
    }
   ],
   "source": [
    "numPattern1(4)"
   ]
  },
  {
   "cell_type": "markdown",
   "id": "2c995bbd",
   "metadata": {},
   "source": [
    "### Number Pattern 2"
   ]
  },
  {
   "cell_type": "raw",
   "id": "1baf972c",
   "metadata": {},
   "source": [
    "Pattern for N = 4\n",
    "\n",
    "1\n",
    "11\n",
    "202\n",
    "3003"
   ]
  },
  {
   "cell_type": "code",
   "execution_count": 85,
   "id": "b94a2556",
   "metadata": {},
   "outputs": [],
   "source": [
    "def numPattern2(n):\n",
    "    \n",
    "    for i in range(n):\n",
    "\n",
    "        if i == 0:\n",
    "            print(1)\n",
    "        else:\n",
    "            no_zero = i - 1\n",
    "            print(i, end='')\n",
    "            if no_zero:\n",
    "                print(\"0\" * no_zero, end='')\n",
    "            print(i)        \n",
    "        "
   ]
  },
  {
   "cell_type": "code",
   "execution_count": 86,
   "id": "2185797f",
   "metadata": {},
   "outputs": [
    {
     "name": "stdout",
     "output_type": "stream",
     "text": [
      "1\n",
      "11\n",
      "202\n",
      "3003\n",
      "40004\n"
     ]
    }
   ],
   "source": [
    "numPattern2(5)"
   ]
  },
  {
   "cell_type": "markdown",
   "id": "ef8e6380",
   "metadata": {},
   "source": [
    "### Number Pattern 3\n"
   ]
  },
  {
   "cell_type": "raw",
   "id": "6cf2971a",
   "metadata": {},
   "source": [
    "Pattern for N = 4\n",
    "\n",
    "1\n",
    "11\n",
    "121\n",
    "1221"
   ]
  },
  {
   "cell_type": "code",
   "execution_count": 93,
   "id": "22b56b87",
   "metadata": {},
   "outputs": [],
   "source": [
    "def numPattern3(n):\n",
    "    \n",
    "    for i in range(n):\n",
    "\n",
    "        if i == 0:\n",
    "            print(1)\n",
    "        else:\n",
    "            no_zero = i - 1\n",
    "            print(1, end='')\n",
    "            if no_zero:\n",
    "                print(str(2) * no_zero, end='')\n",
    "            print(1)        \n",
    "        "
   ]
  },
  {
   "cell_type": "code",
   "execution_count": 94,
   "id": "8bc971ee",
   "metadata": {},
   "outputs": [
    {
     "name": "stdout",
     "output_type": "stream",
     "text": [
      "1\n",
      "11\n",
      "121\n",
      "1221\n"
     ]
    }
   ],
   "source": [
    "numPattern3(4)"
   ]
  },
  {
   "cell_type": "markdown",
   "id": "b3efe070",
   "metadata": {},
   "source": [
    "### Number Pattern 4"
   ]
  },
  {
   "cell_type": "raw",
   "id": "d206c813",
   "metadata": {},
   "source": [
    "Pattern for N = 4\n",
    "\n",
    "1234\n",
    "123\n",
    "12\n",
    "1"
   ]
  },
  {
   "cell_type": "code",
   "execution_count": 101,
   "id": "3c8f5cbd",
   "metadata": {},
   "outputs": [],
   "source": [
    "def numPattern4(n):\n",
    "    \n",
    "    for i in range(n):\n",
    "        for j in range(1, n-i+1):\n",
    "            print(j, end='')\n",
    "        print()\n",
    "        "
   ]
  },
  {
   "cell_type": "code",
   "execution_count": 102,
   "id": "2eccb3e1",
   "metadata": {},
   "outputs": [
    {
     "name": "stdout",
     "output_type": "stream",
     "text": [
      "1234\n",
      "123\n",
      "12\n",
      "1\n"
     ]
    }
   ],
   "source": [
    "numPattern4(4)"
   ]
  },
  {
   "cell_type": "markdown",
   "id": "af8ec069",
   "metadata": {},
   "source": [
    "### Alpha Pattern\n"
   ]
  },
  {
   "cell_type": "raw",
   "id": "7bae5cc9",
   "metadata": {},
   "source": [
    "Pattern for N = 3\n",
    " A\n",
    " BB\n",
    " CCC"
   ]
  },
  {
   "cell_type": "code",
   "execution_count": 103,
   "id": "7bd7f2ae",
   "metadata": {},
   "outputs": [],
   "source": [
    "def alphaPattern4(n):\n",
    "    \n",
    "    startChar = ord(\"A\")\n",
    "    for i in range(n):\n",
    "        print(chr(startChar)*(i+1))\n",
    "        startChar += 1\n",
    "        "
   ]
  },
  {
   "cell_type": "code",
   "execution_count": 104,
   "id": "de3ac755",
   "metadata": {},
   "outputs": [
    {
     "name": "stdout",
     "output_type": "stream",
     "text": [
      "A\n",
      "BB\n",
      "CCC\n",
      "DDDD\n"
     ]
    }
   ],
   "source": [
    "alphaPattern4(4)"
   ]
  },
  {
   "cell_type": "code",
   "execution_count": null,
   "id": "4ee64862",
   "metadata": {},
   "outputs": [],
   "source": []
  }
 ],
 "metadata": {
  "kernelspec": {
   "display_name": "Python 3 (ipykernel)",
   "language": "python",
   "name": "python3"
  },
  "language_info": {
   "codemirror_mode": {
    "name": "ipython",
    "version": 3
   },
   "file_extension": ".py",
   "mimetype": "text/x-python",
   "name": "python",
   "nbconvert_exporter": "python",
   "pygments_lexer": "ipython3",
   "version": "3.9.7"
  }
 },
 "nbformat": 4,
 "nbformat_minor": 5
}
