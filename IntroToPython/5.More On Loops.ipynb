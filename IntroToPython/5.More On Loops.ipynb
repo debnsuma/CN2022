{
 "cells": [
  {
   "cell_type": "markdown",
   "id": "6e3837e2",
   "metadata": {},
   "source": [
    "### Print Number Pyramid"
   ]
  },
  {
   "cell_type": "raw",
   "id": "e9d73a35",
   "metadata": {},
   "source": [
    "Print the following pattern for a given n.\n",
    "For eg. N = 6\n",
    "\n",
    "123456\n",
    " 23456\n",
    "  3456\n",
    "   456\n",
    "    56\n",
    "     6\n",
    "    56\n",
    "   456\n",
    "  3456\n",
    " 23456\n",
    "123456"
   ]
  },
  {
   "cell_type": "code",
   "execution_count": 41,
   "id": "e2f7993a",
   "metadata": {},
   "outputs": [],
   "source": [
    "def numPyramid(n):\n",
    "    \n",
    "    # Upper Triangle \n",
    "    for i in range(n-1):\n",
    "        space = i\n",
    "        print(' '*space, end='')\n",
    "        \n",
    "        for j in range(i+1, n+1):\n",
    "            print(j, end='')\n",
    "        print()\n",
    "    \n",
    "    # Lower Triangle \n",
    "    for i in range(n):\n",
    "        space = n-i-1\n",
    "        print(' '*space, end='')\n",
    "        \n",
    "        for j in range(n-i, n+1):\n",
    "            print(j, end='')    \n",
    "        print()"
   ]
  },
  {
   "cell_type": "code",
   "execution_count": 42,
   "id": "c857047d",
   "metadata": {},
   "outputs": [
    {
     "name": "stdout",
     "output_type": "stream",
     "text": [
      "123456\n",
      " 23456\n",
      "  3456\n",
      "   456\n",
      "    56\n",
      "     6\n",
      "    56\n",
      "   456\n",
      "  3456\n",
      " 23456\n",
      "123456\n"
     ]
    }
   ],
   "source": [
    "numPyramid(6)"
   ]
  },
  {
   "cell_type": "code",
   "execution_count": 32,
   "id": "5d5101d4",
   "metadata": {},
   "outputs": [
    {
     "data": {
      "text/plain": [
       "[1, 2, 3, 4, 5]"
      ]
     },
     "execution_count": 32,
     "metadata": {},
     "output_type": "execute_result"
    }
   ],
   "source": [
    "list(range(1, 6))"
   ]
  },
  {
   "cell_type": "markdown",
   "id": "25ae6bb3",
   "metadata": {},
   "source": [
    "### Diamond of Stars\n"
   ]
  },
  {
   "cell_type": "code",
   "execution_count": 90,
   "id": "a9b1d003",
   "metadata": {},
   "outputs": [],
   "source": [
    "def diaStar(n):\n",
    "    \n",
    "    # Upper Tringle\n",
    "    upper = n // 2 + 1\n",
    "    for i in range(upper):\n",
    "        print(' '* (upper-i-1), end='')\n",
    "        print(\"*\" * (2*i + 1), end='')\n",
    "    \n",
    "        print()\n",
    "    \n",
    "    # Lower Traingle \n",
    "    lower = n - upper\n",
    "    for i in range(lower, 0, -1):\n",
    "        print(' '* (lower-i+1), end='')\n",
    "        print(\"*\" * (2*i - 1), end='')\n",
    "    \n",
    "        print()   \n",
    "    "
   ]
  },
  {
   "cell_type": "code",
   "execution_count": 92,
   "id": "00f7657c",
   "metadata": {},
   "outputs": [
    {
     "name": "stdout",
     "output_type": "stream",
     "text": [
      "   *\n",
      "  ***\n",
      " *****\n",
      "*******\n",
      " *****\n",
      "  ***\n",
      "   *\n"
     ]
    }
   ],
   "source": [
    "diaStar(7)"
   ]
  },
  {
   "cell_type": "code",
   "execution_count": 45,
   "id": "40fec0cc",
   "metadata": {},
   "outputs": [
    {
     "data": {
      "text/plain": [
       "2"
      ]
     },
     "execution_count": 45,
     "metadata": {},
     "output_type": "execute_result"
    }
   ],
   "source": [
    "5 // 2"
   ]
  },
  {
   "cell_type": "code",
   "execution_count": 59,
   "id": "4ee9af7f",
   "metadata": {},
   "outputs": [
    {
     "data": {
      "text/plain": [
       "[]"
      ]
     },
     "execution_count": 59,
     "metadata": {},
     "output_type": "execute_result"
    }
   ],
   "source": [
    "list(range(1, 1))"
   ]
  },
  {
   "cell_type": "raw",
   "id": "dca3c31b",
   "metadata": {},
   "source": [
    "*****\n",
    " ***\n",
    "  *"
   ]
  },
  {
   "cell_type": "code",
   "execution_count": 72,
   "id": "c28d3282",
   "metadata": {},
   "outputs": [
    {
     "data": {
      "text/plain": [
       "[3, 2, 1]"
      ]
     },
     "execution_count": 72,
     "metadata": {},
     "output_type": "execute_result"
    }
   ],
   "source": [
    "list(range(3, 0, -1))"
   ]
  },
  {
   "cell_type": "code",
   "execution_count": 132,
   "id": "ccf3796d",
   "metadata": {},
   "outputs": [],
   "source": [
    "def recNum(n):\n",
    "    for i in range(n):\n",
    "        for j in range(n, n-i, -1):\n",
    "            print(j, end='')\n",
    "            last = j\n",
    "        remaining = n +1 - len(range(n, n-i, -1))\n",
    "        print(f\"  {remaining}\")"
   ]
  },
  {
   "cell_type": "code",
   "execution_count": 133,
   "id": "eff74b8e",
   "metadata": {},
   "outputs": [
    {
     "name": "stdout",
     "output_type": "stream",
     "text": [
      "  5\n",
      "4  4\n",
      "43  3\n",
      "432  2\n"
     ]
    }
   ],
   "source": [
    "recNum(4)"
   ]
  },
  {
   "cell_type": "code",
   "execution_count": null,
   "id": "f1aa0185",
   "metadata": {},
   "outputs": [],
   "source": []
  },
  {
   "cell_type": "code",
   "execution_count": 115,
   "id": "4ee73cba",
   "metadata": {},
   "outputs": [
    {
     "data": {
      "text/plain": [
       "[4]"
      ]
     },
     "execution_count": 115,
     "metadata": {},
     "output_type": "execute_result"
    }
   ],
   "source": [
    "list(range(4,4-1, -1))"
   ]
  },
  {
   "cell_type": "code",
   "execution_count": 108,
   "id": "f7726b9b",
   "metadata": {},
   "outputs": [
    {
     "data": {
      "text/plain": [
       "[4, 3]"
      ]
     },
     "execution_count": 108,
     "metadata": {},
     "output_type": "execute_result"
    }
   ],
   "source": [
    "list(range(4,4-2, -1))"
   ]
  },
  {
   "cell_type": "code",
   "execution_count": 109,
   "id": "344bbaec",
   "metadata": {},
   "outputs": [
    {
     "data": {
      "text/plain": [
       "[4, 3, 2]"
      ]
     },
     "execution_count": 109,
     "metadata": {},
     "output_type": "execute_result"
    }
   ],
   "source": [
    "list(range(4,4-3, -1))"
   ]
  },
  {
   "cell_type": "code",
   "execution_count": 111,
   "id": "84656b43",
   "metadata": {},
   "outputs": [
    {
     "data": {
      "text/plain": [
       "[4, 3, 2, 1]"
      ]
     },
     "execution_count": 111,
     "metadata": {},
     "output_type": "execute_result"
    }
   ],
   "source": [
    "list(range(4,4-4, -1))"
   ]
  },
  {
   "cell_type": "markdown",
   "id": "afde28d5",
   "metadata": {},
   "source": [
    "### Print the pattern\n"
   ]
  },
  {
   "cell_type": "raw",
   "id": "09e5429a",
   "metadata": {},
   "source": [
    "Pattern for N = 5\n",
    "\n",
    " 1    2   3    4   5\n",
    " 11   12  13   14  15\n",
    " 21   22  23   24  25\n",
    " 16   17  18   19  20\n",
    " 6    7    8   9   10"
   ]
  },
  {
   "cell_type": "code",
   "execution_count": 66,
   "id": "99474b09",
   "metadata": {},
   "outputs": [],
   "source": [
    "def foo(n):\n",
    "    \n",
    "    if n%2 == 0:\n",
    "        upper = n//2\n",
    "    else:\n",
    "        upper = n//2 + 1\n",
    "\n",
    "    lower = n-upper\n",
    "\n",
    "    # printing the upper side\n",
    "    for i in range(0, upper):\n",
    "        for j in range(1, n+1):\n",
    "            print(i*n*2 + j, end = ' ')\n",
    "        print()\n",
    "        \n",
    "    # printing the lower side\n",
    "    for i in range(lower, 0, -1):\n",
    "        for j in range(1, n+1):\n",
    "            print(i*n*2 + j - n, end = ' ')\n",
    "        print()\n"
   ]
  },
  {
   "cell_type": "code",
   "execution_count": 67,
   "id": "f982d32e",
   "metadata": {},
   "outputs": [
    {
     "name": "stdout",
     "output_type": "stream",
     "text": [
      "1 2 3 4 5 \n",
      "11 12 13 14 15 \n",
      "21 22 23 24 25 \n",
      "16 17 18 19 20 \n",
      "6 7 8 9 10 \n"
     ]
    }
   ],
   "source": [
    "foo(5)"
   ]
  },
  {
   "cell_type": "code",
   "execution_count": 69,
   "id": "f39dc132",
   "metadata": {},
   "outputs": [
    {
     "name": "stdout",
     "output_type": "stream",
     "text": [
      "1 2 3 4 5 6 7 8 \n",
      "17 18 19 20 21 22 23 24 \n",
      "33 34 35 36 37 38 39 40 \n",
      "49 50 51 52 53 54 55 56 \n",
      "57 58 59 60 61 62 63 64 \n",
      "41 42 43 44 45 46 47 48 \n",
      "25 26 27 28 29 30 31 32 \n",
      "9 10 11 12 13 14 15 16 \n"
     ]
    }
   ],
   "source": [
    "foo(8)"
   ]
  },
  {
   "cell_type": "markdown",
   "id": "dda3eb01",
   "metadata": {},
   "source": [
    "### Rectangular numbers"
   ]
  },
  {
   "cell_type": "raw",
   "id": "ceee8ff7",
   "metadata": {},
   "source": [
    "Pattern for N = 4\n",
    "\n",
    "4444444\n",
    "4333334\n",
    "4322234\n",
    "\n",
    "4321234\n",
    "4322234\n",
    "4333334  \n",
    "4444444"
   ]
  },
  {
   "cell_type": "code",
   "execution_count": 61,
   "id": "9b2b946d",
   "metadata": {},
   "outputs": [],
   "source": [
    "def recNumbersUpper(n):\n",
    "    for i in range(0, n):\n",
    "        s = n\n",
    "        start1 = 0\n",
    "        start2 = n-i\n",
    "\n",
    "        for j in range(0, n):\n",
    "            if start1 < i:\n",
    "                print(s, end='')\n",
    "                s -= 1\n",
    "                start1 += 1\n",
    "            else:\n",
    "                print(s, end ='')\n",
    "        \n",
    "        for j in range(1, n):\n",
    "            if start2 > j:\n",
    "                print(start2, end = '')\n",
    "            else:\n",
    "                print(start2+1, end = '')\n",
    "                start2 += 1\n",
    "        \n",
    "        print()\n",
    "\n",
    "                \n",
    "                \n",
    "            \n",
    "            \n",
    "    "
   ]
  },
  {
   "cell_type": "code",
   "execution_count": 77,
   "id": "2e7de090",
   "metadata": {},
   "outputs": [
    {
     "name": "stdout",
     "output_type": "stream",
     "text": [
      "4444444\n",
      "4333334\n",
      "4322234\n",
      "4321234\n"
     ]
    }
   ],
   "source": [
    "recNumbersUpper(4)"
   ]
  },
  {
   "cell_type": "code",
   "execution_count": 75,
   "id": "f404a622",
   "metadata": {},
   "outputs": [],
   "source": [
    "def recNumbersLower(n):\n",
    "    for i in range(0, n):\n",
    "        s = n\n",
    "        start1 = 0\n",
    "        start2 = n-i\n",
    "\n",
    "        for j in range(0, n):\n",
    "            if start1 >= i:\n",
    "                print(s, end='')\n",
    "            else:\n",
    "                print(s, end ='')\n",
    "\n",
    "                s -= 1\n",
    "                start1 += 1\n",
    "        print()"
   ]
  },
  {
   "cell_type": "code",
   "execution_count": 76,
   "id": "146b60f3",
   "metadata": {},
   "outputs": [
    {
     "name": "stdout",
     "output_type": "stream",
     "text": [
      "4444\n",
      "4333\n",
      "4322\n",
      "4321\n"
     ]
    }
   ],
   "source": [
    "recNumbersLower(4)"
   ]
  },
  {
   "cell_type": "code",
   "execution_count": 78,
   "id": "8a862fb1",
   "metadata": {},
   "outputs": [
    {
     "name": "stdout",
     "output_type": "stream",
     "text": [
      "4\n",
      "4444444\n",
      "4333334\n",
      "4322234\n",
      "4321234\n",
      "4322234\n",
      "4333334\n",
      "4444444\n"
     ]
    }
   ],
   "source": [
    "n = int(input())\n",
    "\n",
    "for i in range(1, n+1, 1):\n",
    "    for up in range(1, i, 1):\n",
    "        print(n-up+1,end = '')\n",
    "        \n",
    "    for j in range(i, 2*n-i+1, 1):\n",
    "        print(n-i+1,end = '')\n",
    "    \n",
    "    for lp in range(2*n-i, 2*n-1, 1):\n",
    "        print(lp-n+2,end = '')\n",
    "    \n",
    "    print()\n",
    "\n",
    "\n",
    "for i in range(n-1, 0, -1):\n",
    "    for up in range(1, i, 1):\n",
    "        print(n-up+1,end = '')\n",
    "        \n",
    "    for j in range(i, 2*n-i+1, 1):\n",
    "        print(n-i+1,end = '')\n",
    "    \n",
    "    for lp in range(2*n-i, 2*n-1, 1):\n",
    "        print(lp-n+2,end = '')\n",
    "    \n",
    "        \n",
    "    print()"
   ]
  },
  {
   "cell_type": "code",
   "execution_count": null,
   "id": "4ef3968a",
   "metadata": {},
   "outputs": [],
   "source": []
  },
  {
   "cell_type": "code",
   "execution_count": null,
   "id": "88ed82a6",
   "metadata": {},
   "outputs": [],
   "source": []
  },
  {
   "cell_type": "code",
   "execution_count": null,
   "id": "9285c638",
   "metadata": {},
   "outputs": [],
   "source": []
  },
  {
   "cell_type": "code",
   "execution_count": null,
   "id": "648cae21",
   "metadata": {},
   "outputs": [],
   "source": []
  },
  {
   "cell_type": "code",
   "execution_count": null,
   "id": "1200a953",
   "metadata": {},
   "outputs": [],
   "source": []
  },
  {
   "cell_type": "code",
   "execution_count": null,
   "id": "651b679d",
   "metadata": {},
   "outputs": [],
   "source": []
  }
 ],
 "metadata": {
  "kernelspec": {
   "display_name": "Python 3 (ipykernel)",
   "language": "python",
   "name": "python3"
  },
  "language_info": {
   "codemirror_mode": {
    "name": "ipython",
    "version": 3
   },
   "file_extension": ".py",
   "mimetype": "text/x-python",
   "name": "python",
   "nbconvert_exporter": "python",
   "pygments_lexer": "ipython3",
   "version": "3.9.7"
  }
 },
 "nbformat": 4,
 "nbformat_minor": 5
}
