{
 "cells": [
  {
   "cell_type": "markdown",
   "id": "b0cc19b2",
   "metadata": {},
   "source": [
    "### Inverted Number Pattern\n"
   ]
  },
  {
   "cell_type": "raw",
   "id": "dcf839ad",
   "metadata": {},
   "source": [
    "Pattern for N = 4\n",
    "\n",
    "4444\n",
    "333\n",
    "22\n",
    "1"
   ]
  },
  {
   "cell_type": "code",
   "execution_count": 3,
   "id": "8a2d2c84",
   "metadata": {},
   "outputs": [],
   "source": [
    "def numPattern(n):\n",
    "    \n",
    "    for i in range(n):\n",
    "        print(str(n-i)*(n-i))\n",
    "        "
   ]
  },
  {
   "cell_type": "code",
   "execution_count": 4,
   "id": "58f16b84",
   "metadata": {},
   "outputs": [
    {
     "name": "stdout",
     "output_type": "stream",
     "text": [
      "4444\n",
      "333\n",
      "22\n",
      "1\n"
     ]
    }
   ],
   "source": [
    "numPattern(4)"
   ]
  },
  {
   "cell_type": "code",
   "execution_count": 6,
   "id": "ccdfab2e",
   "metadata": {},
   "outputs": [],
   "source": [
    "def starPattern1(n):\n",
    "    \n",
    "    for i in range(n):\n",
    "        no_space = n - i - 1\n",
    "        print(\" \" * no_space, end='')\n",
    "        print(\"*\" * (i+1))\n",
    "        "
   ]
  },
  {
   "cell_type": "code",
   "execution_count": 7,
   "id": "59f92d59",
   "metadata": {},
   "outputs": [
    {
     "name": "stdout",
     "output_type": "stream",
     "text": [
      "    *\n",
      "   **\n",
      "  ***\n",
      " ****\n",
      "*****\n"
     ]
    }
   ],
   "source": [
    "starPattern1(5)"
   ]
  },
  {
   "cell_type": "markdown",
   "id": "b57bd513",
   "metadata": {},
   "source": [
    "### Mirror Number Pattern"
   ]
  },
  {
   "cell_type": "raw",
   "id": "df077834",
   "metadata": {},
   "source": [
    "Pattern for N = 4\n",
    "\n",
    "   1 \n",
    "  12\n",
    " 123\n",
    "1234"
   ]
  },
  {
   "cell_type": "code",
   "execution_count": 14,
   "id": "7bd3c14c",
   "metadata": {},
   "outputs": [],
   "source": [
    "def numPattern1(n):\n",
    "    \n",
    "    for i in range(n+1):\n",
    "        no_space = n - i\n",
    "        print(\" \" * no_space, end='')\n",
    "        for j in range(1, i+1):\n",
    "            print(j, end='')\n",
    "        print()\n",
    "        "
   ]
  },
  {
   "cell_type": "code",
   "execution_count": 15,
   "id": "c83f8a2b",
   "metadata": {},
   "outputs": [
    {
     "name": "stdout",
     "output_type": "stream",
     "text": [
      "    \n",
      "   1\n",
      "  12\n",
      " 123\n",
      "1234\n"
     ]
    }
   ],
   "source": [
    "numPattern1(4)"
   ]
  },
  {
   "cell_type": "markdown",
   "id": "0a7f2579",
   "metadata": {},
   "source": [
    "### Isosceles Pattern"
   ]
  },
  {
   "cell_type": "code",
   "execution_count": 33,
   "id": "3c9222bb",
   "metadata": {},
   "outputs": [],
   "source": [
    "def isosceles_patt1(n):\n",
    "\n",
    "    for i in range(n):\n",
    "        no_space = n - i\n",
    "        print(\" \" * no_space, end='')\n",
    "        for j in range(1, i+1):\n",
    "            print(j, end='')\n",
    "        for j in range(i+1, 0, -1):\n",
    "            print(j, end='')\n",
    "        print()"
   ]
  },
  {
   "cell_type": "code",
   "execution_count": 34,
   "id": "df831312",
   "metadata": {},
   "outputs": [
    {
     "name": "stdout",
     "output_type": "stream",
     "text": [
      "    1\n",
      "   121\n",
      "  12321\n",
      " 1234321\n"
     ]
    }
   ],
   "source": [
    "isosceles_patt1(4)"
   ]
  },
  {
   "cell_type": "code",
   "execution_count": 24,
   "id": "dc98c0c1",
   "metadata": {},
   "outputs": [
    {
     "data": {
      "text/plain": [
       "[1]"
      ]
     },
     "execution_count": 24,
     "metadata": {},
     "output_type": "execute_result"
    }
   ],
   "source": [
    "list(range(1, 0, -1))"
   ]
  },
  {
   "cell_type": "markdown",
   "id": "0c264943",
   "metadata": {},
   "source": [
    "### Star Pattern"
   ]
  },
  {
   "cell_type": "code",
   "execution_count": 51,
   "id": "716207f6",
   "metadata": {},
   "outputs": [],
   "source": [
    "def isosceles_patt2(n):\n",
    "\n",
    "    for i in range(n):\n",
    "        no_space = n - i - 1\n",
    "        print(\" \" * no_space, end='')\n",
    "        for j in range(1, i+1):\n",
    "            print(\"*\", end='')\n",
    "        for j in range(i+1, 0, -1):\n",
    "            print(\"*\", end='')\n",
    "        print()"
   ]
  },
  {
   "cell_type": "code",
   "execution_count": 52,
   "id": "9fbdc6c2",
   "metadata": {},
   "outputs": [
    {
     "name": "stdout",
     "output_type": "stream",
     "text": [
      "   *\n",
      "  ***\n",
      " *****\n",
      "*******\n"
     ]
    }
   ],
   "source": [
    "isosceles_patt2(4)"
   ]
  },
  {
   "cell_type": "markdown",
   "id": "125e81c5",
   "metadata": {},
   "source": [
    "### Star Pattern with numbers "
   ]
  },
  {
   "cell_type": "code",
   "execution_count": 69,
   "id": "a14a926e",
   "metadata": {},
   "outputs": [],
   "source": [
    "def isosceles_patt3(n):\n",
    "\n",
    "    for i in range(n):\n",
    "        no_space = n - i - 1\n",
    "        print(\" \" * no_space, end='')\n",
    "        for j in range(1, i+1):\n",
    "            print(j, end='')\n",
    "        for j in range(i+1, 0, -1):\n",
    "            print(j, end='')\n",
    "        print()"
   ]
  },
  {
   "cell_type": "code",
   "execution_count": 70,
   "id": "584775ab",
   "metadata": {},
   "outputs": [
    {
     "name": "stdout",
     "output_type": "stream",
     "text": [
      "   1\n",
      "  121\n",
      " 12321\n",
      "1234321\n"
     ]
    }
   ],
   "source": [
    "isosceles_patt3(4)"
   ]
  },
  {
   "cell_type": "code",
   "execution_count": 318,
   "id": "1ea0afc8",
   "metadata": {},
   "outputs": [],
   "source": [
    "def isosceles_patt4(n):\n",
    "\n",
    "    for i in range(n):\n",
    "        \n",
    "        # printing the space \n",
    "        no_space = n - i - 1\n",
    "        print(\" \" * no_space, end='')\n",
    "        \n",
    "        # left side \n",
    "        count = i\n",
    "        num = i + 1\n",
    "        while count >= 0:\n",
    "            print(num, end='')\n",
    "            num += 1\n",
    "            count -= 1\n",
    "        \n",
    "        # right side \n",
    "        count = i\n",
    "        num = i * 2 \n",
    "        while count > 0:\n",
    "            print(num, end='')\n",
    "            num -= 1\n",
    "            count -= 1\n",
    "        \n",
    "        print()"
   ]
  },
  {
   "cell_type": "code",
   "execution_count": 319,
   "id": "b28edd84",
   "metadata": {},
   "outputs": [
    {
     "name": "stdout",
     "output_type": "stream",
     "text": [
      "   1\n",
      "  232\n",
      " 34543\n",
      "4567654\n"
     ]
    }
   ],
   "source": [
    "isosceles_patt4(4)"
   ]
  },
  {
   "cell_type": "markdown",
   "id": "d80087d6",
   "metadata": {},
   "source": [
    "### Diamond of stars"
   ]
  },
  {
   "cell_type": "code",
   "execution_count": 323,
   "id": "682b4617",
   "metadata": {},
   "outputs": [
    {
     "data": {
      "text/plain": [
       "2"
      ]
     },
     "execution_count": 323,
     "metadata": {},
     "output_type": "execute_result"
    }
   ],
   "source": [
    "5// 2"
   ]
  },
  {
   "cell_type": "code",
   "execution_count": 351,
   "id": "f312bc33",
   "metadata": {},
   "outputs": [],
   "source": [
    "def dim_starts(n):\n",
    "    \n",
    "    upper = n // 2 + 1\n",
    "    lower = n - upper\n",
    "    for i in range(upper):\n",
    "        no_space = upper - i - 1\n",
    "        print(\" \" * no_space, end='')\n",
    "        for j in range(1, i+1):\n",
    "            print(\"*\", end='')\n",
    "        for j in range(i+1, 0, -1):\n",
    "            print(\"*\", end='')\n",
    "        print()\n",
    "    \n",
    "    for i in range(1, lower+1):\n",
    "        no_space = i\n",
    "        print(\" \" * no_space, end='')\n",
    "        print(\"*\" * (n - no_space*2), end='')\n",
    "        print()\n",
    "\n"
   ]
  },
  {
   "cell_type": "code",
   "execution_count": 352,
   "id": "0e2cdc89",
   "metadata": {},
   "outputs": [
    {
     "name": "stdout",
     "output_type": "stream",
     "text": [
      "   *\n",
      "  ***\n",
      " *****\n",
      "*******\n",
      " *****\n",
      "  ***\n",
      "   *\n"
     ]
    }
   ],
   "source": [
    "dim_starts(7)"
   ]
  },
  {
   "cell_type": "markdown",
   "id": "a30e33bc",
   "metadata": {},
   "source": [
    "### Number Pattern"
   ]
  },
  {
   "cell_type": "code",
   "execution_count": 379,
   "id": "6f950777",
   "metadata": {},
   "outputs": [],
   "source": [
    "def num_pattern(n):\n",
    "    for i in range(1, n+1):\n",
    "        no_spaces = (n - i) * 2\n",
    "        \n",
    "        # print left side \n",
    "        for l in range(1, i+1):\n",
    "            print(l, end='')\n",
    "        \n",
    "        # print space\n",
    "        print(\" \"* no_spaces, end='')\n",
    "        \n",
    "        # print right side\n",
    "        for r in range(i, 0, -1):\n",
    "            print(r, end='')\n",
    "            \n",
    "        print()\n",
    "            "
   ]
  },
  {
   "cell_type": "code",
   "execution_count": 380,
   "id": "69d6cc3b",
   "metadata": {},
   "outputs": [
    {
     "name": "stdout",
     "output_type": "stream",
     "text": [
      "1        1\n",
      "12      21\n",
      "123    321\n",
      "1234  4321\n",
      "1234554321\n"
     ]
    }
   ],
   "source": [
    "num_pattern(5)"
   ]
  },
  {
   "cell_type": "markdown",
   "id": "d9b22467",
   "metadata": {},
   "source": [
    "### Zeros and Stars Pattern"
   ]
  },
  {
   "cell_type": "raw",
   "id": "bc59c0db",
   "metadata": {},
   "source": [
    "Pattern for N = 4\n",
    "\n",
    "*000*000*\n",
    "0*00*00*0\n",
    "00*0*0*00\n",
    "000***000"
   ]
  },
  {
   "cell_type": "code",
   "execution_count": 3,
   "id": "fa53ebad",
   "metadata": {},
   "outputs": [],
   "source": [
    "def zero_start(n):\n",
    "    for i in range(n):\n",
    "        for j in range(n):\n",
    "            if (i == j):\n",
    "                print(\"*\", end='')\n",
    "            else:\n",
    "                print(\"0\", end='')\n",
    "        print(\"*\")\n",
    "    "
   ]
  },
  {
   "cell_type": "code",
   "execution_count": 4,
   "id": "10cb1e4f",
   "metadata": {},
   "outputs": [
    {
     "name": "stdout",
     "output_type": "stream",
     "text": [
      "*000*\n",
      "0*00*\n",
      "00*0*\n",
      "000**\n"
     ]
    }
   ],
   "source": [
    "zero_start(4)"
   ]
  },
  {
   "cell_type": "code",
   "execution_count": 27,
   "id": "470f4a90",
   "metadata": {},
   "outputs": [],
   "source": [
    "def zero_start(n):\n",
    "    \n",
    "    for i in range(n):\n",
    "        for j in range(n):\n",
    "            if (i == j):\n",
    "                print(\"*\", end='')\n",
    "            else:\n",
    "                print(\"0\", end='')\n",
    "        print(\"*\", end='')\n",
    "        for j in range(n):\n",
    "            if (i+j == n-1):\n",
    "                print(\"*\", end='')\n",
    "            else:\n",
    "                print(\"0\", end='')\n",
    "        print()\n",
    "    "
   ]
  },
  {
   "cell_type": "code",
   "execution_count": 28,
   "id": "2f417ef4",
   "metadata": {},
   "outputs": [
    {
     "name": "stdout",
     "output_type": "stream",
     "text": [
      "*000*000*\n",
      "0*00*00*0\n",
      "00*0*0*00\n",
      "000***000\n"
     ]
    }
   ],
   "source": [
    "zero_start(4)"
   ]
  },
  {
   "cell_type": "markdown",
   "id": "0bb8d380",
   "metadata": {},
   "source": [
    "### Pyramid Number Pattern"
   ]
  },
  {
   "cell_type": "raw",
   "id": "f0f0124e",
   "metadata": {},
   "source": [
    "Pattern for N = 4\n",
    "   1\n",
    "  212\n",
    " 32123\n",
    "4321234"
   ]
  },
  {
   "cell_type": "code",
   "execution_count": 50,
   "id": "0b4fcbc0",
   "metadata": {},
   "outputs": [],
   "source": [
    "def pyraNumPat(n):\n",
    "    \n",
    "    for i in range(n):\n",
    "        \n",
    "        no_space = n - i - 1\n",
    "        print(\" \" * no_space, end='')\n",
    "        \n",
    "        for j in range(i+1, 0, -1):\n",
    "            print(j, end='')\n",
    "            \n",
    "        for k in range(2, i+2, 1):\n",
    "            print(k, end='')\n",
    "        print()"
   ]
  },
  {
   "cell_type": "code",
   "execution_count": 51,
   "id": "9f01c46e",
   "metadata": {},
   "outputs": [
    {
     "name": "stdout",
     "output_type": "stream",
     "text": [
      "   1\n",
      "  212\n",
      " 32123\n",
      "4321234\n"
     ]
    }
   ],
   "source": [
    "pyraNumPat(4)"
   ]
  },
  {
   "cell_type": "code",
   "execution_count": 35,
   "id": "3b7cf657",
   "metadata": {},
   "outputs": [
    {
     "data": {
      "text/plain": [
       "[2]"
      ]
     },
     "execution_count": 35,
     "metadata": {},
     "output_type": "execute_result"
    }
   ],
   "source": [
    "list(range(2,3,1))"
   ]
  },
  {
   "cell_type": "markdown",
   "id": "33638d65",
   "metadata": {},
   "source": [
    "### Arrow pattern\n"
   ]
  },
  {
   "cell_type": "raw",
   "id": "67be498e",
   "metadata": {},
   "source": [
    "Note : There is space after every star.\n",
    "Pattern for N = 11\n",
    "* \n",
    " * * \n",
    "  * * * \n",
    "   * * * * \n",
    "    * * * * * \n",
    "     * * * * * * \n",
    "    * * * * * \n",
    "   * * * * \n",
    "  * * * \n",
    " * * \n",
    "* "
   ]
  },
  {
   "cell_type": "code",
   "execution_count": 52,
   "id": "152e4503",
   "metadata": {},
   "outputs": [
    {
     "data": {
      "text/plain": [
       "3"
      ]
     },
     "execution_count": 52,
     "metadata": {},
     "output_type": "execute_result"
    }
   ],
   "source": [
    "7 // 2"
   ]
  },
  {
   "cell_type": "code",
   "execution_count": 170,
   "id": "4ee78483",
   "metadata": {},
   "outputs": [],
   "source": [
    "def arrowPat(n):\n",
    "    \n",
    "    upper = n // 2 + 1\n",
    "    lower = n - upper \n",
    "    \n",
    "    no_space = 0\n",
    "    for i in range(upper):\n",
    "        print(\" \" * i, end='')\n",
    "        \n",
    "        for j in range(i+1):\n",
    "            print(\"* \", end='')\n",
    "        print()\n",
    "\n",
    "\n",
    "    no_space = lower-1\n",
    "    for i in range(lower, 0, -1):\n",
    "        print(\" \" * no_space, end='')\n",
    "        \n",
    "        for j in range(i):\n",
    "            print(\"* \", end='')\n",
    "        no_space -= 1\n",
    "        print()       \n",
    "    "
   ]
  },
  {
   "cell_type": "code",
   "execution_count": 171,
   "id": "bddf29ee",
   "metadata": {},
   "outputs": [
    {
     "name": "stdout",
     "output_type": "stream",
     "text": [
      "* \n",
      " * * \n",
      "  * * * \n",
      "   * * * * \n",
      "  * * * \n",
      " * * \n",
      "* \n"
     ]
    }
   ],
   "source": [
    "arrowPat(7)"
   ]
  },
  {
   "cell_type": "code",
   "execution_count": 172,
   "id": "79d7df19",
   "metadata": {},
   "outputs": [
    {
     "name": "stdout",
     "output_type": "stream",
     "text": [
      "* \n",
      " * * \n",
      "  * * * \n",
      "   * * * * \n",
      "    * * * * * \n",
      "     * * * * * * \n",
      "    * * * * * \n",
      "   * * * * \n",
      "  * * * \n",
      " * * \n",
      "* \n"
     ]
    }
   ],
   "source": [
    "arrowPat(11)"
   ]
  },
  {
   "cell_type": "code",
   "execution_count": null,
   "id": "aabbdd35",
   "metadata": {},
   "outputs": [],
   "source": []
  }
 ],
 "metadata": {
  "kernelspec": {
   "display_name": "Python 3 (ipykernel)",
   "language": "python",
   "name": "python3"
  },
  "language_info": {
   "codemirror_mode": {
    "name": "ipython",
    "version": 3
   },
   "file_extension": ".py",
   "mimetype": "text/x-python",
   "name": "python",
   "nbconvert_exporter": "python",
   "pygments_lexer": "ipython3",
   "version": "3.9.7"
  }
 },
 "nbformat": 4,
 "nbformat_minor": 5
}
