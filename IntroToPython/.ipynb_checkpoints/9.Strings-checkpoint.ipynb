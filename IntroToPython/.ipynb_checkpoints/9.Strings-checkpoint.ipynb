{
 "cells": [
  {
   "cell_type": "code",
   "execution_count": 1,
   "id": "62c5aa12",
   "metadata": {},
   "outputs": [
    {
     "name": "stdout",
     "output_type": "stream",
     "text": [
      "ed\n"
     ]
    }
   ],
   "source": [
    "s = \"abcdef\"\n",
    "print (s[4:2:-1])\n"
   ]
  },
  {
   "cell_type": "code",
   "execution_count": 2,
   "id": "9bd5bae2",
   "metadata": {},
   "outputs": [
    {
     "data": {
      "text/plain": [
       "True"
      ]
     },
     "execution_count": 2,
     "metadata": {},
     "output_type": "execute_result"
    }
   ],
   "source": [
    "\"s\" > \"Suman\""
   ]
  },
  {
   "cell_type": "markdown",
   "id": "eede304d",
   "metadata": {},
   "source": [
    "# Palindrome"
   ]
  },
  {
   "cell_type": "code",
   "execution_count": 4,
   "id": "cddf705d",
   "metadata": {},
   "outputs": [],
   "source": [
    "def isPalindrome(string) :\n",
    "    \n",
    "    if string == string[::-1]:\n",
    "        return True\n",
    "    \n",
    "    return False"
   ]
  },
  {
   "cell_type": "code",
   "execution_count": 6,
   "id": "e075ff34",
   "metadata": {},
   "outputs": [
    {
     "data": {
      "text/plain": [
       "False"
      ]
     },
     "execution_count": 6,
     "metadata": {},
     "output_type": "execute_result"
    }
   ],
   "source": [
    "isPalindrome(\"suman\")"
   ]
  },
  {
   "cell_type": "markdown",
   "id": "25fdd07e",
   "metadata": {},
   "source": [
    "# Permutation Check"
   ]
  },
  {
   "cell_type": "code",
   "execution_count": 15,
   "id": "ac77e801",
   "metadata": {},
   "outputs": [],
   "source": [
    "def isPermutation(string1, string2):\n",
    "    \n",
    "    strFreqArray = [0]*255\n",
    "    if len(string1) != len(string2):\n",
    "        return False\n",
    "    for s in string1:\n",
    "        index = ord(s)\n",
    "        strFreqArray[index] += 1\n",
    "    for s in string2:\n",
    "        index = ord(s)\n",
    "        strFreqArray[index] -= 1    \n",
    "        \n",
    "    if strFreqArray == [0]*255:\n",
    "        return True \n",
    "\n",
    "    return False\n",
    "    \n"
   ]
  },
  {
   "cell_type": "code",
   "execution_count": 13,
   "id": "96892420",
   "metadata": {},
   "outputs": [],
   "source": [
    "string1, string2 = \"abcde\", \"baedc\""
   ]
  },
  {
   "cell_type": "code",
   "execution_count": 14,
   "id": "10c6962d",
   "metadata": {},
   "outputs": [
    {
     "data": {
      "text/plain": [
       "True"
      ]
     },
     "execution_count": 14,
     "metadata": {},
     "output_type": "execute_result"
    }
   ],
   "source": [
    "isPermutation(string1, string2)"
   ]
  },
  {
   "cell_type": "markdown",
   "id": "42faf4c7",
   "metadata": {},
   "source": [
    "# Remove Consecutive Duplicates\n"
   ]
  },
  {
   "cell_type": "code",
   "execution_count": 40,
   "id": "aed5a9c2",
   "metadata": {},
   "outputs": [],
   "source": [
    "def removeConsecutiveDuplicates(string) :\n",
    "    \n",
    "    strFreqArray = [0]*255\n",
    "    newString = \"\"\n",
    "    last_index = -1\n",
    "    \n",
    "    for s in string:\n",
    "        \n",
    "        index = ord(s)\n",
    "        \n",
    "        if index != last_index:\n",
    "            strFreqArray[index] = 0\n",
    "        \n",
    "        if strFreqArray[index] > 0:\n",
    "            last_index = index\n",
    "            continue\n",
    "        else:\n",
    "            newString += s\n",
    "            strFreqArray[index] += 1\n",
    "            last_index = index\n",
    "            \n",
    "    return newString"
   ]
  },
  {
   "cell_type": "code",
   "execution_count": 41,
   "id": "f9b53d60",
   "metadata": {},
   "outputs": [
    {
     "data": {
      "text/plain": [
       "'bcab'"
      ]
     },
     "execution_count": 41,
     "metadata": {},
     "output_type": "execute_result"
    }
   ],
   "source": [
    "removeConsecutiveDuplicates(\"bbbbccccaaaabb\")"
   ]
  },
  {
   "cell_type": "markdown",
   "id": "e452b52a",
   "metadata": {},
   "source": [
    "# Reverse Each Word"
   ]
  },
  {
   "cell_type": "code",
   "execution_count": 226,
   "id": "1c1d6808",
   "metadata": {},
   "outputs": [],
   "source": [
    "def reverseEachWord(string) :\n",
    "    \n",
    "    words = string.split()\n",
    "    \n",
    "    new_words = []\n",
    "    \n",
    "    for word in words:\n",
    "        new_words.append(word[::-1])\n",
    "\n",
    "    newString = \" \".join(new_words)\n",
    "    \n",
    "    return newString\n"
   ]
  },
  {
   "cell_type": "code",
   "execution_count": 227,
   "id": "c6dba090",
   "metadata": {},
   "outputs": [
    {
     "data": {
      "text/plain": [
       "'eht dnoces tset esac si a noitcelloc fo semordnilap'"
      ]
     },
     "execution_count": 227,
     "metadata": {},
     "output_type": "execute_result"
    }
   ],
   "source": [
    "a = \"the second test case is a collection of palindromes\"\n",
    "reverseEachWord(a)"
   ]
  },
  {
   "cell_type": "markdown",
   "id": "dac5661a",
   "metadata": {},
   "source": [
    "# Remove character\n"
   ]
  },
  {
   "cell_type": "code",
   "execution_count": 231,
   "id": "e4b3a77c",
   "metadata": {},
   "outputs": [],
   "source": [
    "def removeAllOccurrencesOfChar(string, ch) :\n",
    "    newString = \"\"\n",
    "    \n",
    "    for s in string:\n",
    "        if s == ch:\n",
    "            continue\n",
    "        else:\n",
    "            newString += s\n",
    "            \n",
    "    return newString\n",
    "\n",
    "\n"
   ]
  },
  {
   "cell_type": "code",
   "execution_count": 232,
   "id": "144c4f39",
   "metadata": {},
   "outputs": [],
   "source": [
    "a = \"Suman Debnath\""
   ]
  },
  {
   "cell_type": "code",
   "execution_count": 233,
   "id": "976777f9",
   "metadata": {},
   "outputs": [
    {
     "data": {
      "text/plain": [
       "'Sumn Debnth'"
      ]
     },
     "execution_count": 233,
     "metadata": {},
     "output_type": "execute_result"
    }
   ],
   "source": [
    "removeAllOccurrencesOfChar(a, \"a\")"
   ]
  },
  {
   "cell_type": "markdown",
   "id": "2b955ec9",
   "metadata": {},
   "source": [
    "# Highest Occuring Character\n"
   ]
  },
  {
   "cell_type": "code",
   "execution_count": 246,
   "id": "7e86fd19",
   "metadata": {},
   "outputs": [],
   "source": [
    "def highestOccuringChar(string) :\n",
    "    strFreqArray = [0]*255\n",
    "    \n",
    "    for s in string:\n",
    "        index = ord(s)\n",
    "        strFreqArray[index] += 1\n",
    "    \n",
    "    highestOccurCharIndex = max(strFreqArray)\n",
    "    highestOccurChar = chr(strFreqArray.index(highestOccurCharIndex))\n",
    "    \n",
    "    return highestOccurChar"
   ]
  },
  {
   "cell_type": "code",
   "execution_count": 248,
   "id": "c943cf6b",
   "metadata": {},
   "outputs": [
    {
     "data": {
      "text/plain": [
       "'b'"
      ]
     },
     "execution_count": 248,
     "metadata": {},
     "output_type": "execute_result"
    }
   ],
   "source": [
    "highestOccuringChar(\"abdefgbabfba\")"
   ]
  },
  {
   "cell_type": "code",
   "execution_count": 249,
   "id": "109f8cfa",
   "metadata": {},
   "outputs": [
    {
     "data": {
      "text/plain": [
       "'x'"
      ]
     },
     "execution_count": 249,
     "metadata": {},
     "output_type": "execute_result"
    }
   ],
   "source": [
    "highestOccuringChar(\"xy\")"
   ]
  },
  {
   "cell_type": "markdown",
   "id": "81d6b9a9",
   "metadata": {},
   "source": [
    "# Compress the String\n"
   ]
  },
  {
   "cell_type": "code",
   "execution_count": 412,
   "id": "b53e2c20",
   "metadata": {},
   "outputs": [],
   "source": [
    "def getCompressedString(input) :\n",
    "    \n",
    "    counter = 1\n",
    "    last_char = input[0]\n",
    "    newString = last_char\n",
    "    \n",
    "    for i in input[1:]:\n",
    "        if last_char == i:\n",
    "            counter += 1\n",
    "            \n",
    "        elif last_char == i and counter > 1:\n",
    "            counter += 1\n",
    "            \n",
    "        \n",
    "        elif last_char != i:\n",
    "            if counter == 1:\n",
    "                newString += str(i)\n",
    "            else:\n",
    "                newString += str(counter)\n",
    "                newString += str(i)\n",
    "            counter = 1\n",
    "        \n",
    "        last_char = i \n",
    "            \n",
    "        \n",
    "    if counter > 1:\n",
    "        newString += str(counter)\n",
    "    return newString          \n",
    "            "
   ]
  },
  {
   "cell_type": "code",
   "execution_count": 413,
   "id": "2d396c6e",
   "metadata": {},
   "outputs": [
    {
     "data": {
      "text/plain": [
       "'abcd'"
      ]
     },
     "execution_count": 413,
     "metadata": {},
     "output_type": "execute_result"
    }
   ],
   "source": [
    "getCompressedString(\"abcd\")"
   ]
  },
  {
   "cell_type": "code",
   "execution_count": null,
   "id": "00c05699",
   "metadata": {},
   "outputs": [],
   "source": []
  },
  {
   "cell_type": "code",
   "execution_count": null,
   "id": "e5f5dcfe",
   "metadata": {},
   "outputs": [],
   "source": []
  },
  {
   "cell_type": "code",
   "execution_count": null,
   "id": "7e142b07",
   "metadata": {},
   "outputs": [],
   "source": []
  }
 ],
 "metadata": {
  "kernelspec": {
   "display_name": "Python 3 (ipykernel)",
   "language": "python",
   "name": "python3"
  },
  "language_info": {
   "codemirror_mode": {
    "name": "ipython",
    "version": 3
   },
   "file_extension": ".py",
   "mimetype": "text/x-python",
   "name": "python",
   "nbconvert_exporter": "python",
   "pygments_lexer": "ipython3",
   "version": "3.9.7"
  }
 },
 "nbformat": 4,
 "nbformat_minor": 5
}
