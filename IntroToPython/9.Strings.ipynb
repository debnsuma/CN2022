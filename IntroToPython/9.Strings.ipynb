{
 "cells": [
  {
   "cell_type": "code",
   "execution_count": 1,
   "id": "62c5aa12",
   "metadata": {},
   "outputs": [
    {
     "name": "stdout",
     "output_type": "stream",
     "text": [
      "ed\n"
     ]
    }
   ],
   "source": [
    "s = \"abcdef\"\n",
    "print (s[4:2:-1])\n"
   ]
  },
  {
   "cell_type": "code",
   "execution_count": 2,
   "id": "9bd5bae2",
   "metadata": {},
   "outputs": [
    {
     "data": {
      "text/plain": [
       "True"
      ]
     },
     "execution_count": 2,
     "metadata": {},
     "output_type": "execute_result"
    }
   ],
   "source": [
    "\"s\" > \"Suman\""
   ]
  },
  {
   "cell_type": "markdown",
   "id": "eede304d",
   "metadata": {},
   "source": [
    "# Palindrome"
   ]
  },
  {
   "cell_type": "code",
   "execution_count": 4,
   "id": "cddf705d",
   "metadata": {},
   "outputs": [],
   "source": [
    "def isPalindrome(string) :\n",
    "    \n",
    "    if string == string[::-1]:\n",
    "        return True\n",
    "    \n",
    "    return False"
   ]
  },
  {
   "cell_type": "code",
   "execution_count": 6,
   "id": "e075ff34",
   "metadata": {},
   "outputs": [
    {
     "data": {
      "text/plain": [
       "False"
      ]
     },
     "execution_count": 6,
     "metadata": {},
     "output_type": "execute_result"
    }
   ],
   "source": [
    "isPalindrome(\"suman\")"
   ]
  },
  {
   "cell_type": "markdown",
   "id": "25fdd07e",
   "metadata": {},
   "source": [
    "# Permutation Check"
   ]
  },
  {
   "cell_type": "code",
   "execution_count": 15,
   "id": "ac77e801",
   "metadata": {},
   "outputs": [],
   "source": [
    "def isPermutation(string1, string2):\n",
    "    \n",
    "    strFreqArray = [0]*255\n",
    "    if len(string1) != len(string2):\n",
    "        return False\n",
    "    for s in string1:\n",
    "        index = ord(s)\n",
    "        strFreqArray[index] += 1\n",
    "    for s in string2:\n",
    "        index = ord(s)\n",
    "        strFreqArray[index] -= 1    \n",
    "        \n",
    "    if strFreqArray == [0]*255:\n",
    "        return True \n",
    "\n",
    "    return False\n",
    "    \n"
   ]
  },
  {
   "cell_type": "code",
   "execution_count": 13,
   "id": "96892420",
   "metadata": {},
   "outputs": [],
   "source": [
    "string1, string2 = \"abcde\", \"baedc\""
   ]
  },
  {
   "cell_type": "code",
   "execution_count": 14,
   "id": "10c6962d",
   "metadata": {},
   "outputs": [
    {
     "data": {
      "text/plain": [
       "True"
      ]
     },
     "execution_count": 14,
     "metadata": {},
     "output_type": "execute_result"
    }
   ],
   "source": [
    "isPermutation(string1, string2)"
   ]
  },
  {
   "cell_type": "markdown",
   "id": "42faf4c7",
   "metadata": {},
   "source": [
    "# Remove Consecutive Duplicates\n"
   ]
  },
  {
   "cell_type": "code",
   "execution_count": 40,
   "id": "aed5a9c2",
   "metadata": {},
   "outputs": [],
   "source": [
    "def removeConsecutiveDuplicates(string) :\n",
    "    \n",
    "    strFreqArray = [0]*255\n",
    "    newString = \"\"\n",
    "    last_index = -1\n",
    "    \n",
    "    for s in string:\n",
    "        \n",
    "        index = ord(s)\n",
    "        \n",
    "        if index != last_index:\n",
    "            strFreqArray[index] = 0\n",
    "        \n",
    "        if strFreqArray[index] > 0:\n",
    "            last_index = index\n",
    "            continue\n",
    "        else:\n",
    "            newString += s\n",
    "            strFreqArray[index] += 1\n",
    "            last_index = index\n",
    "            \n",
    "    return newString"
   ]
  },
  {
   "cell_type": "code",
   "execution_count": 41,
   "id": "f9b53d60",
   "metadata": {},
   "outputs": [
    {
     "data": {
      "text/plain": [
       "'bcab'"
      ]
     },
     "execution_count": 41,
     "metadata": {},
     "output_type": "execute_result"
    }
   ],
   "source": [
    "removeConsecutiveDuplicates(\"bbbbccccaaaabb\")"
   ]
  },
  {
   "cell_type": "markdown",
   "id": "e452b52a",
   "metadata": {},
   "source": [
    "# Reverse Each Word"
   ]
  },
  {
   "cell_type": "code",
   "execution_count": 226,
   "id": "1c1d6808",
   "metadata": {},
   "outputs": [],
   "source": [
    "def reverseEachWord(string) :\n",
    "    \n",
    "    words = string.split()\n",
    "    \n",
    "    new_words = []\n",
    "    \n",
    "    for word in words:\n",
    "        new_words.append(word[::-1])\n",
    "\n",
    "    newString = \" \".join(new_words)\n",
    "    \n",
    "    return newString\n"
   ]
  },
  {
   "cell_type": "code",
   "execution_count": 227,
   "id": "c6dba090",
   "metadata": {},
   "outputs": [
    {
     "data": {
      "text/plain": [
       "'eht dnoces tset esac si a noitcelloc fo semordnilap'"
      ]
     },
     "execution_count": 227,
     "metadata": {},
     "output_type": "execute_result"
    }
   ],
   "source": [
    "a = \"the second test case is a collection of palindromes\"\n",
    "reverseEachWord(a)"
   ]
  },
  {
   "cell_type": "markdown",
   "id": "dac5661a",
   "metadata": {},
   "source": [
    "# Remove character\n"
   ]
  },
  {
   "cell_type": "code",
   "execution_count": 231,
   "id": "e4b3a77c",
   "metadata": {},
   "outputs": [],
   "source": [
    "def removeAllOccurrencesOfChar(string, ch) :\n",
    "    newString = \"\"\n",
    "    \n",
    "    for s in string:\n",
    "        if s == ch:\n",
    "            continue\n",
    "        else:\n",
    "            newString += s\n",
    "            \n",
    "    return newString\n",
    "\n",
    "\n"
   ]
  },
  {
   "cell_type": "code",
   "execution_count": 232,
   "id": "144c4f39",
   "metadata": {},
   "outputs": [],
   "source": [
    "a = \"Suman Debnath\""
   ]
  },
  {
   "cell_type": "code",
   "execution_count": 233,
   "id": "976777f9",
   "metadata": {},
   "outputs": [
    {
     "data": {
      "text/plain": [
       "'Sumn Debnth'"
      ]
     },
     "execution_count": 233,
     "metadata": {},
     "output_type": "execute_result"
    }
   ],
   "source": [
    "removeAllOccurrencesOfChar(a, \"a\")"
   ]
  },
  {
   "cell_type": "markdown",
   "id": "2b955ec9",
   "metadata": {},
   "source": [
    "# Highest Occuring Character\n"
   ]
  },
  {
   "cell_type": "code",
   "execution_count": 246,
   "id": "7e86fd19",
   "metadata": {},
   "outputs": [],
   "source": [
    "def highestOccuringChar(string) :\n",
    "    strFreqArray = [0]*255\n",
    "    \n",
    "    for s in string:\n",
    "        index = ord(s)\n",
    "        strFreqArray[index] += 1\n",
    "    \n",
    "    highestOccurCharIndex = max(strFreqArray)\n",
    "    highestOccurChar = chr(strFreqArray.index(highestOccurCharIndex))\n",
    "    \n",
    "    return highestOccurChar"
   ]
  },
  {
   "cell_type": "code",
   "execution_count": 248,
   "id": "c943cf6b",
   "metadata": {},
   "outputs": [
    {
     "data": {
      "text/plain": [
       "'b'"
      ]
     },
     "execution_count": 248,
     "metadata": {},
     "output_type": "execute_result"
    }
   ],
   "source": [
    "highestOccuringChar(\"abdefgbabfba\")"
   ]
  },
  {
   "cell_type": "code",
   "execution_count": 249,
   "id": "109f8cfa",
   "metadata": {},
   "outputs": [
    {
     "data": {
      "text/plain": [
       "'x'"
      ]
     },
     "execution_count": 249,
     "metadata": {},
     "output_type": "execute_result"
    }
   ],
   "source": [
    "highestOccuringChar(\"xy\")"
   ]
  },
  {
   "cell_type": "markdown",
   "id": "81d6b9a9",
   "metadata": {},
   "source": [
    "# Compress the String\n"
   ]
  },
  {
   "cell_type": "code",
   "execution_count": 412,
   "id": "b53e2c20",
   "metadata": {},
   "outputs": [],
   "source": [
    "def getCompressedString(input) :\n",
    "    \n",
    "    counter = 1\n",
    "    last_char = input[0]\n",
    "    newString = last_char\n",
    "    \n",
    "    for i in input[1:]:\n",
    "        if last_char == i:\n",
    "            counter += 1\n",
    "            \n",
    "        elif last_char == i and counter > 1:\n",
    "            counter += 1\n",
    "            \n",
    "        \n",
    "        elif last_char != i:\n",
    "            if counter == 1:\n",
    "                newString += str(i)\n",
    "            else:\n",
    "                newString += str(counter)\n",
    "                newString += str(i)\n",
    "            counter = 1\n",
    "        \n",
    "        last_char = i \n",
    "            \n",
    "        \n",
    "    if counter > 1:\n",
    "        newString += str(counter)\n",
    "    return newString          \n",
    "            "
   ]
  },
  {
   "cell_type": "code",
   "execution_count": 413,
   "id": "2d396c6e",
   "metadata": {},
   "outputs": [
    {
     "data": {
      "text/plain": [
       "'abcd'"
      ]
     },
     "execution_count": 413,
     "metadata": {},
     "output_type": "execute_result"
    }
   ],
   "source": [
    "getCompressedString(\"abcd\")"
   ]
  },
  {
   "cell_type": "markdown",
   "id": "ef38a960",
   "metadata": {},
   "source": [
    "# Rotate array"
   ]
  },
  {
   "cell_type": "code",
   "execution_count": 21,
   "id": "e5f5dcfe",
   "metadata": {},
   "outputs": [],
   "source": [
    "def rotate(arr, n, d):\n",
    "    for i in range(d):\n",
    "        arr.append(arr.pop(0))\n",
    "    \n",
    "    return arr\n",
    "\n"
   ]
  },
  {
   "cell_type": "code",
   "execution_count": null,
   "id": "e44aefe7",
   "metadata": {},
   "outputs": [],
   "source": [
    "def rotate(arr, n, d):\n",
    "    _ = arr[:d]\n",
    "    del arr[:d]\n",
    "    arr.extend(_)\n",
    "    \n",
    "    return arr"
   ]
  },
  {
   "cell_type": "markdown",
   "id": "dd2d7849",
   "metadata": {},
   "source": [
    "# Second Largest in array"
   ]
  },
  {
   "cell_type": "code",
   "execution_count": 68,
   "id": "f2328e7d",
   "metadata": {},
   "outputs": [],
   "source": [
    "def secondLargestElement(arr, n):\n",
    "    \n",
    "    l = -2147483648\n",
    "    s_l = -2147483648 \n",
    "    \n",
    "    if n == 0:\n",
    "        return s_l\n",
    "    \n",
    "    for i in arr:\n",
    "        if i > l:\n",
    "            s_l, l = l, i\n",
    "        elif i > s_l and i < l:\n",
    "            s_l = i\n",
    "        print(i, l, s_l)\n",
    "    \n",
    "    if s_l == l:\n",
    "        s_l = -2147483648\n",
    "    \n",
    "    return s_l"
   ]
  },
  {
   "cell_type": "code",
   "execution_count": 69,
   "id": "3ae2b821",
   "metadata": {},
   "outputs": [
    {
     "name": "stdout",
     "output_type": "stream",
     "text": [
      "1 1 -2147483648\n",
      "1 1 -2147483648\n",
      "2 2 1\n",
      "2 2 1\n",
      "2 2 1\n"
     ]
    },
    {
     "data": {
      "text/plain": [
       "1"
      ]
     },
     "execution_count": 69,
     "metadata": {},
     "output_type": "execute_result"
    }
   ],
   "source": [
    "arr = [1, 1, 2, 2, 2]\n",
    "secondLargestElement(arr, len(arr))"
   ]
  },
  {
   "cell_type": "markdown",
   "id": "691645b5",
   "metadata": {},
   "source": [
    "# Check Array Rotation\n"
   ]
  },
  {
   "cell_type": "code",
   "execution_count": 73,
   "id": "46ffc18f",
   "metadata": {},
   "outputs": [],
   "source": [
    "\n",
    "def arrayRotateCheck(arr, n):\n",
    "    \n",
    "    if n == 0:\n",
    "        return 0\n",
    "    k = 1\n",
    "    first = arr[0]\n",
    "    for i in arr[1:]:\n",
    "        if i >= first:\n",
    "            k += 1\n",
    "            continue\n",
    "        else:\n",
    "            return k\n",
    "    if k == n:\n",
    "        return 0\n",
    "\n"
   ]
  },
  {
   "cell_type": "code",
   "execution_count": 74,
   "id": "404b3505",
   "metadata": {},
   "outputs": [
    {
     "data": {
      "text/plain": [
       "0"
      ]
     },
     "execution_count": 74,
     "metadata": {},
     "output_type": "execute_result"
    }
   ],
   "source": [
    "arr = [1, 1, 2, 2, 2]\n",
    "arrayRotateCheck(arr, len(arr))"
   ]
  },
  {
   "cell_type": "markdown",
   "id": "08dfde7b",
   "metadata": {},
   "source": [
    "# Sort 0 1 2"
   ]
  },
  {
   "cell_type": "code",
   "execution_count": 122,
   "id": "910ee786",
   "metadata": {},
   "outputs": [],
   "source": [
    "def sort012(arr, n) :\n",
    "    #Your code goes here\n",
    "    zero_marker = 0\n",
    "    two_marker = n \n",
    "    \n",
    "    for i in range(n):\n",
    "        temp = arr[i]\n",
    "        if temp == 2:\n",
    "            two_marker -= 1\n",
    "        elif temp == 0:\n",
    "            zero_marker += 1\n",
    "    \n",
    "#     print(zero_marker)\n",
    "#     print(two_marker)\n",
    "    \n",
    "    arr[:zero_marker] = [0]*zero_marker\n",
    "    arr[two_marker:] = [2]*(n-two_marker)\n",
    "    arr[zero_marker:two_marker] = [1]*(two_marker-zero_marker)\n",
    "    \n",
    "    return arr"
   ]
  },
  {
   "cell_type": "code",
   "execution_count": 123,
   "id": "3a5bae92",
   "metadata": {},
   "outputs": [],
   "source": [
    "arr = [2, 1, 0, 1, 2, 0]"
   ]
  },
  {
   "cell_type": "code",
   "execution_count": 125,
   "id": "72318585",
   "metadata": {},
   "outputs": [
    {
     "data": {
      "text/plain": [
       "[0, 0, 1, 1, 2, 2]"
      ]
     },
     "execution_count": 125,
     "metadata": {},
     "output_type": "execute_result"
    }
   ],
   "source": [
    "# arr = [1, 2, 0, 0, 1, 1, 2, 2, 1, 0]\n",
    "sort012(arr, len(arr))"
   ]
  },
  {
   "cell_type": "markdown",
   "id": "093b795f",
   "metadata": {},
   "source": [
    "# Sum of Two Arrays"
   ]
  },
  {
   "cell_type": "code",
   "execution_count": 345,
   "id": "164eed66",
   "metadata": {},
   "outputs": [],
   "source": [
    "def sumOfTwoArrays(arr1, n, arr2, m, output) :\n",
    "    \n",
    "    max_len = max(n, m) + 1\n",
    "    \n",
    "    if n == 0:\n",
    "        output = arr2\n",
    "        output.insert(0,0)\n",
    "        return output\n",
    "    if m == 0:\n",
    "        output = arr1\n",
    "        output.insert(0,0)\n",
    "        return output\n",
    "    \n",
    "    if n > m:\n",
    "        fill = n - m\n",
    "        while fill != 0:\n",
    "            arr2.insert(0, 0)\n",
    "            fill -= 1\n",
    "    else:\n",
    "        fill = m - n\n",
    "        while fill != 0:\n",
    "            arr1.insert(0, 0)\n",
    "            fill -= 1\n",
    "    \n",
    "    arr1.insert(0,0)\n",
    "    arr2.insert(0,0)\n",
    "    \n",
    "    carry = 0\n",
    "    for i in range(max_len-1, -1, -1):\n",
    "        _ = arr1[i] + arr2[i] + carry\n",
    "        \n",
    "        if _ < 10:\n",
    "            output[i] = _\n",
    "            carry = 0\n",
    "        else:\n",
    "            carry = _ // 10\n",
    "            _ = _ % 10\n",
    "            output[i] = _\n",
    "    \n",
    "    return output\n",
    "\n"
   ]
  },
  {
   "cell_type": "code",
   "execution_count": 346,
   "id": "02821eca",
   "metadata": {},
   "outputs": [
    {
     "data": {
      "text/plain": [
       "5"
      ]
     },
     "execution_count": 346,
     "metadata": {},
     "output_type": "execute_result"
    }
   ],
   "source": [
    "15 % 10"
   ]
  },
  {
   "cell_type": "code",
   "execution_count": 347,
   "id": "705e2a35",
   "metadata": {},
   "outputs": [
    {
     "data": {
      "text/plain": [
       "[0, 9, 0]"
      ]
     },
     "execution_count": 347,
     "metadata": {},
     "output_type": "execute_result"
    }
   ],
   "source": [
    "arr1 = [6,8]\n",
    "arr2 = [2,2]\n",
    "output = [0]*3\n",
    "sumOfTwoArrays(arr1, len(arr1), arr2, len(arr2), output)"
   ]
  },
  {
   "cell_type": "code",
   "execution_count": 348,
   "id": "c1cf7804",
   "metadata": {},
   "outputs": [
    {
     "data": {
      "text/plain": [
       "[0, 9, 0]"
      ]
     },
     "execution_count": 348,
     "metadata": {},
     "output_type": "execute_result"
    }
   ],
   "source": [
    "output"
   ]
  },
  {
   "cell_type": "code",
   "execution_count": null,
   "id": "3379d53f",
   "metadata": {},
   "outputs": [],
   "source": []
  },
  {
   "cell_type": "code",
   "execution_count": null,
   "id": "6a271a27",
   "metadata": {},
   "outputs": [],
   "source": []
  },
  {
   "cell_type": "code",
   "execution_count": 350,
   "id": "73fb48a7",
   "metadata": {},
   "outputs": [
    {
     "data": {
      "text/plain": [
       "[0, 6, 9, 8, 5]"
      ]
     },
     "execution_count": 350,
     "metadata": {},
     "output_type": "execute_result"
    }
   ],
   "source": [
    "arr1 = [6,9,8,5]\n",
    "arr2 = 0\n",
    "output = [0]*5\n",
    "sumOfTwoArrays(arr1, len(arr1), None, 0, output)"
   ]
  },
  {
   "cell_type": "code",
   "execution_count": 246,
   "id": "1ed3ec8d",
   "metadata": {},
   "outputs": [
    {
     "data": {
      "text/plain": [
       "[0, 0, 0]"
      ]
     },
     "execution_count": 246,
     "metadata": {},
     "output_type": "execute_result"
    }
   ],
   "source": [
    "output"
   ]
  },
  {
   "cell_type": "code",
   "execution_count": null,
   "id": "8a1ffccf",
   "metadata": {},
   "outputs": [],
   "source": []
  },
  {
   "cell_type": "code",
   "execution_count": null,
   "id": "bb7040c9",
   "metadata": {},
   "outputs": [],
   "source": []
  },
  {
   "cell_type": "code",
   "execution_count": 197,
   "id": "d80c9f64",
   "metadata": {},
   "outputs": [
    {
     "data": {
      "text/plain": [
       "[6, 9, 8]"
      ]
     },
     "execution_count": 197,
     "metadata": {},
     "output_type": "execute_result"
    }
   ],
   "source": [
    "arr1"
   ]
  },
  {
   "cell_type": "code",
   "execution_count": 147,
   "id": "572b0a8e",
   "metadata": {},
   "outputs": [
    {
     "data": {
      "text/plain": [
       "[0, 0, 0, 0, 1, 2, 3]"
      ]
     },
     "execution_count": 147,
     "metadata": {},
     "output_type": "execute_result"
    }
   ],
   "source": [
    "arr2"
   ]
  },
  {
   "cell_type": "code",
   "execution_count": null,
   "id": "2dca98d1",
   "metadata": {},
   "outputs": [],
   "source": []
  },
  {
   "cell_type": "code",
   "execution_count": 127,
   "id": "d07884d6",
   "metadata": {},
   "outputs": [],
   "source": [
    "a = [1,2,3]\n",
    "b = [10]"
   ]
  },
  {
   "cell_type": "code",
   "execution_count": 128,
   "id": "0d8477b6",
   "metadata": {},
   "outputs": [],
   "source": [
    "c = [0]*2"
   ]
  },
  {
   "cell_type": "code",
   "execution_count": 136,
   "id": "0cd07769",
   "metadata": {},
   "outputs": [
    {
     "data": {
      "text/plain": [
       "4"
      ]
     },
     "execution_count": 136,
     "metadata": {},
     "output_type": "execute_result"
    }
   ],
   "source": [
    "abs(4)"
   ]
  },
  {
   "cell_type": "code",
   "execution_count": 133,
   "id": "ca25a86f",
   "metadata": {},
   "outputs": [],
   "source": [
    "a.insert(0, 0)"
   ]
  },
  {
   "cell_type": "code",
   "execution_count": 134,
   "id": "f91f928a",
   "metadata": {},
   "outputs": [
    {
     "data": {
      "text/plain": [
       "[0, 1, 2, 3]"
      ]
     },
     "execution_count": 134,
     "metadata": {},
     "output_type": "execute_result"
    }
   ],
   "source": [
    "a"
   ]
  },
  {
   "cell_type": "code",
   "execution_count": 131,
   "id": "d01cd092",
   "metadata": {},
   "outputs": [
    {
     "data": {
      "text/plain": [
       "[0, 0, 10]"
      ]
     },
     "execution_count": 131,
     "metadata": {},
     "output_type": "execute_result"
    }
   ],
   "source": [
    "c"
   ]
  },
  {
   "cell_type": "code",
   "execution_count": null,
   "id": "f7419884",
   "metadata": {},
   "outputs": [],
   "source": []
  }
 ],
 "metadata": {
  "kernelspec": {
   "display_name": "Python 3 (ipykernel)",
   "language": "python",
   "name": "python3"
  },
  "language_info": {
   "codemirror_mode": {
    "name": "ipython",
    "version": 3
   },
   "file_extension": ".py",
   "mimetype": "text/x-python",
   "name": "python",
   "nbconvert_exporter": "python",
   "pygments_lexer": "ipython3",
   "version": "3.9.7"
  }
 },
 "nbformat": 4,
 "nbformat_minor": 5
}
