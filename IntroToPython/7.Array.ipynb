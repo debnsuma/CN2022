{
 "cells": [
  {
   "cell_type": "markdown",
   "id": "db31a166",
   "metadata": {},
   "source": [
    "### Array Sum\n"
   ]
  },
  {
   "cell_type": "code",
   "execution_count": 7,
   "id": "39a657d0",
   "metadata": {},
   "outputs": [
    {
     "name": "stdout",
     "output_type": "stream",
     "text": [
      "4\n",
      "10 20 30 40\n",
      "100\n"
     ]
    }
   ],
   "source": [
    "n = int(input())\n",
    "nums = [ int(x) for x in input().split()]\n",
    "print(sum(nums))"
   ]
  },
  {
   "cell_type": "code",
   "execution_count": 6,
   "id": "6df0495b",
   "metadata": {},
   "outputs": [
    {
     "data": {
      "text/plain": [
       "10"
      ]
     },
     "execution_count": 6,
     "metadata": {},
     "output_type": "execute_result"
    }
   ],
   "source": [
    "sum(nums)"
   ]
  },
  {
   "cell_type": "markdown",
   "id": "89057bd5",
   "metadata": {},
   "source": [
    "### Linear Search"
   ]
  },
  {
   "cell_type": "code",
   "execution_count": 13,
   "id": "435f4650",
   "metadata": {},
   "outputs": [],
   "source": [
    "def linearSearch(nums, i):\n",
    "    if i in nums:\n",
    "        print(nums.index(i))\n",
    "    else:\n",
    "        print(-1)\n",
    "        "
   ]
  },
  {
   "cell_type": "code",
   "execution_count": 14,
   "id": "634c3d17",
   "metadata": {},
   "outputs": [
    {
     "name": "stdout",
     "output_type": "stream",
     "text": [
      "1 2 3 4 5\n",
      "4\n",
      "3\n"
     ]
    }
   ],
   "source": [
    "nums = [ int(x) for x in input().split()]\n",
    "i = int(input())\n",
    "linearSearch(nums, i)"
   ]
  },
  {
   "cell_type": "markdown",
   "id": "285024db",
   "metadata": {},
   "source": [
    "### Reverse a List"
   ]
  },
  {
   "cell_type": "code",
   "execution_count": 31,
   "id": "dbf3be61",
   "metadata": {},
   "outputs": [],
   "source": [
    "def reverseList(l):\n",
    "    length = len(l)\n",
    "    for i in range(length//2):\n",
    "        l[i], l[length-1-i] = l[length-1-i], l[i]\n"
   ]
  },
  {
   "cell_type": "code",
   "execution_count": 32,
   "id": "9eada7b9",
   "metadata": {},
   "outputs": [],
   "source": [
    "l = [1, 2, 3, 4, 5]\n",
    "reverseList(l)"
   ]
  },
  {
   "cell_type": "code",
   "execution_count": 33,
   "id": "2a12f8ca",
   "metadata": {},
   "outputs": [
    {
     "data": {
      "text/plain": [
       "[5, 4, 3, 2, 1]"
      ]
     },
     "execution_count": 33,
     "metadata": {},
     "output_type": "execute_result"
    }
   ],
   "source": [
    "l"
   ]
  },
  {
   "cell_type": "markdown",
   "id": "51cf96bb",
   "metadata": {},
   "source": [
    "### Alternate Swap"
   ]
  },
  {
   "cell_type": "code",
   "execution_count": null,
   "id": "24ba0ed3",
   "metadata": {},
   "outputs": [],
   "source": []
  },
  {
   "cell_type": "raw",
   "id": "10fa21d0",
   "metadata": {},
   "source": [
    "Input :  9 3 6 12 4 32\n",
    "Output : 3 9 12 6 32 4\n"
   ]
  },
  {
   "cell_type": "code",
   "execution_count": 44,
   "id": "402ef977",
   "metadata": {},
   "outputs": [],
   "source": [
    "def swapAlternate(arr, n) :\n",
    "    #Your code goes here\n",
    "    if n % 2 == 0:\n",
    "        l = len(arr)\n",
    "    else:\n",
    "        l = len(arr) - 1\n",
    "    for i in range(0, l, 2):\n",
    "        arr[i], arr[i+1] = arr[i+1], arr[i]"
   ]
  },
  {
   "cell_type": "code",
   "execution_count": 45,
   "id": "5323a575",
   "metadata": {},
   "outputs": [
    {
     "data": {
      "text/plain": [
       "[0, 2, 4, 6]"
      ]
     },
     "execution_count": 45,
     "metadata": {},
     "output_type": "execute_result"
    }
   ],
   "source": [
    "list(range(0, 7, 2))"
   ]
  },
  {
   "cell_type": "code",
   "execution_count": 48,
   "id": "2f0f2272",
   "metadata": {},
   "outputs": [],
   "source": [
    "arr = [9, 3, 6, 12, 4, 32, 33]\n",
    "swapAlternate(arr, 7)"
   ]
  },
  {
   "cell_type": "code",
   "execution_count": 49,
   "id": "9a04fa66",
   "metadata": {},
   "outputs": [
    {
     "data": {
      "text/plain": [
       "[3, 9, 12, 6, 32, 4, 33]"
      ]
     },
     "execution_count": 49,
     "metadata": {},
     "output_type": "execute_result"
    }
   ],
   "source": [
    "arr"
   ]
  },
  {
   "cell_type": "markdown",
   "id": "5fa97b45",
   "metadata": {},
   "source": [
    "### Find Unique\n"
   ]
  },
  {
   "cell_type": "code",
   "execution_count": 77,
   "id": "f7a6e597",
   "metadata": {},
   "outputs": [],
   "source": [
    "def findUnique(arr, n) :\n",
    "   \n",
    "    temp_arr = []\n",
    "    \n",
    "    for i in range(n):\n",
    "        if arr[i] not in temp_arr:\n",
    "            temp_arr.append(arr[i])\n",
    "        else:\n",
    "            temp_arr.remove(arr[i])\n",
    "    \n",
    "    return temp_arr[0]"
   ]
  },
  {
   "cell_type": "code",
   "execution_count": 78,
   "id": "d1e5ede5",
   "metadata": {},
   "outputs": [
    {
     "data": {
      "text/plain": [
       "1"
      ]
     },
     "execution_count": 78,
     "metadata": {},
     "output_type": "execute_result"
    }
   ],
   "source": [
    "findUnique([2, 3, 1, 6, 3, 6, 2], 7)"
   ]
  },
  {
   "cell_type": "markdown",
   "id": "691db506",
   "metadata": {},
   "source": [
    "### Find Duplicate\n"
   ]
  },
  {
   "cell_type": "code",
   "execution_count": 81,
   "id": "9a9bf626",
   "metadata": {},
   "outputs": [],
   "source": [
    "def duplicateNumber(arr, n) :\n",
    "    temp_arr = []\n",
    "    \n",
    "    for i in range(n):\n",
    "        if arr[i] not in temp_arr:\n",
    "            temp_arr.append(arr[i])\n",
    "        else:\n",
    "            return arr[i]\n",
    "    \n",
    "    "
   ]
  },
  {
   "cell_type": "code",
   "execution_count": 82,
   "id": "e9646153",
   "metadata": {},
   "outputs": [
    {
     "data": {
      "text/plain": [
       "3"
      ]
     },
     "execution_count": 82,
     "metadata": {},
     "output_type": "execute_result"
    }
   ],
   "source": [
    "duplicateNumber([0, 3, 1, 5, 4, 3, 2], 7)"
   ]
  },
  {
   "cell_type": "markdown",
   "id": "fdc8d248",
   "metadata": {},
   "source": [
    "### Array Intersection\n"
   ]
  },
  {
   "cell_type": "code",
   "execution_count": 102,
   "id": "97f14534",
   "metadata": {},
   "outputs": [],
   "source": [
    "def intersections(arr1, n, arr2, m) :\n",
    "    \n",
    "    my_result = []\n",
    "    for i in arr1:\n",
    "        if i in arr2:\n",
    "            my_result.append(i)\n",
    "            arr2.remove(i)\n",
    "            \n",
    "    \n",
    "    for i in my_result:\n",
    "        print(i, end=' ')\n",
    "            "
   ]
  },
  {
   "cell_type": "code",
   "execution_count": 103,
   "id": "0e079abc",
   "metadata": {},
   "outputs": [],
   "source": [
    "arr1 = [int(i) for i in \"11 11 12 12 13\".split()]"
   ]
  },
  {
   "cell_type": "code",
   "execution_count": 104,
   "id": "82c4262f",
   "metadata": {},
   "outputs": [],
   "source": [
    "arr2 = [int(i) for i in \"11 12 12 13 13\".split()]"
   ]
  },
  {
   "cell_type": "code",
   "execution_count": 105,
   "id": "a921382d",
   "metadata": {},
   "outputs": [
    {
     "name": "stdout",
     "output_type": "stream",
     "text": [
      "11 12 12 13 "
     ]
    }
   ],
   "source": [
    "intersections(arr1, len(arr1), arr2, len(arr2))"
   ]
  },
  {
   "cell_type": "markdown",
   "id": "2c5a84fe",
   "metadata": {},
   "source": [
    "### Pair Sum"
   ]
  },
  {
   "cell_type": "code",
   "execution_count": 106,
   "id": "7f467e9e",
   "metadata": {},
   "outputs": [],
   "source": [
    "def pairSum(arr, n, x) :\n",
    "    \n",
    "    no_pairs = 0\n",
    "    \n",
    "    for i in range(n):\n",
    "        for j in range(i+1, n):\n",
    "            if arr[i] + arr[j] == x:\n",
    "                no_pairs += 1\n",
    "    \n",
    "    return no_pairs\n",
    "\n"
   ]
  },
  {
   "cell_type": "code",
   "execution_count": 111,
   "id": "ee8868df",
   "metadata": {},
   "outputs": [],
   "source": [
    "arr1 = [int(i) for i in \"2 8 10 5 -2 5\".split()]"
   ]
  },
  {
   "cell_type": "code",
   "execution_count": 112,
   "id": "1b70029f",
   "metadata": {},
   "outputs": [
    {
     "data": {
      "text/plain": [
       "2"
      ]
     },
     "execution_count": 112,
     "metadata": {},
     "output_type": "execute_result"
    }
   ],
   "source": [
    "pairSum(arr1, len(arr1), 10)"
   ]
  },
  {
   "cell_type": "markdown",
   "id": "21e777f1",
   "metadata": {},
   "source": [
    "### Triplet Sum\n"
   ]
  },
  {
   "cell_type": "code",
   "execution_count": 136,
   "id": "176502d0",
   "metadata": {},
   "outputs": [],
   "source": [
    "def findTriplet(arr, n, x) :\n",
    "    #Your code goes here\n",
    "    #return your answer\n",
    "    \n",
    "    no_pairs = 0\n",
    "    if n < 3:\n",
    "        return no_pairs\n",
    "    \n",
    "    for i in range(n):\n",
    "        for j in range(i+1, n):\n",
    "            for k in range(j+1, n):\n",
    "                if (arr[i] + arr[j] + arr[k]) == x:\n",
    "                    no_pairs += 1\n",
    "    \n",
    "    print(no_pairs)\n",
    "    "
   ]
  },
  {
   "cell_type": "code",
   "execution_count": 137,
   "id": "ca4c1b27",
   "metadata": {},
   "outputs": [],
   "source": [
    "arr1 = [int(i) for i in \"2 -5 8 -6 0 5 10 11 -3\".split()]\n"
   ]
  },
  {
   "cell_type": "code",
   "execution_count": 138,
   "id": "f38c7821",
   "metadata": {},
   "outputs": [
    {
     "name": "stdout",
     "output_type": "stream",
     "text": [
      "5\n"
     ]
    }
   ],
   "source": [
    "findTriplet(arr1, len(arr1), 10)"
   ]
  },
  {
   "cell_type": "markdown",
   "id": "3d1e04e3",
   "metadata": {},
   "source": [
    "### Sort 0 1\n"
   ]
  },
  {
   "cell_type": "markdown",
   "id": "5cf84116",
   "metadata": {},
   "source": [
    "#### Approch 1"
   ]
  },
  {
   "cell_type": "code",
   "execution_count": 20,
   "id": "28296984",
   "metadata": {},
   "outputs": [],
   "source": [
    "def sortZeroesAndOne(arr, n) :\n",
    "    i = 0\n",
    "    while i < n:\n",
    "        \n",
    "        if arr[i] == 1:\n",
    "            pass\n",
    "        else:\n",
    "            arr.pop(i)\n",
    "            arr.insert(0, 0)        \n",
    "        i += 1\n",
    "        "
   ]
  },
  {
   "cell_type": "code",
   "execution_count": 21,
   "id": "0fc93b25",
   "metadata": {},
   "outputs": [
    {
     "data": {
      "text/plain": [
       "[0, 0, 0, 1, 1, 1, 1, 1]"
      ]
     },
     "execution_count": 21,
     "metadata": {},
     "output_type": "execute_result"
    }
   ],
   "source": [
    "arr1 = [int(i) for i in \"1 0 1 1 0 1 0 1\".split()]\n",
    "sortZeroesAndOne(arr1, len(arr1))\n",
    "arr1"
   ]
  },
  {
   "cell_type": "markdown",
   "id": "acf8e487",
   "metadata": {},
   "source": [
    "#### Approch 2"
   ]
  },
  {
   "cell_type": "code",
   "execution_count": 9,
   "id": "5c62db66",
   "metadata": {},
   "outputs": [],
   "source": [
    "def sortZeroesAndOne(arr, n) :\n",
    "    start = 0 \n",
    "    end = n-1\n",
    "    \n",
    "    while start > end:\n",
    "        if arr[start] == 0:\n",
    "            pass\n",
    "    \n",
    "        else:\n",
    "            if arr[end] == 0:\n",
    "                arr[start] = 0\n",
    "                arr[end] = 1\n",
    "                \n",
    "                end -= 1\n",
    "                start += 1\n",
    "            else:\n",
    "                end -= 1\n",
    "        \n",
    "        "
   ]
  },
  {
   "cell_type": "code",
   "execution_count": 22,
   "id": "1460ddf3",
   "metadata": {},
   "outputs": [
    {
     "data": {
      "text/plain": [
       "[0, 0, 0, 1, 1, 1, 1, 1]"
      ]
     },
     "execution_count": 22,
     "metadata": {},
     "output_type": "execute_result"
    }
   ],
   "source": [
    "arr1 = [int(i) for i in \"1 0 1 1 0 1 0 1\".split()]\n",
    "sortZeroesAndOne(arr1, len(arr1))\n",
    "arr1"
   ]
  },
  {
   "cell_type": "markdown",
   "id": "bb86fa3a",
   "metadata": {},
   "source": [
    "#### Approch 3 (Best one)"
   ]
  },
  {
   "cell_type": "code",
   "execution_count": 16,
   "id": "d1b9fdda",
   "metadata": {},
   "outputs": [],
   "source": [
    "def sortZeroesAndOne(arr, n) :\n",
    "    i = 0\n",
    "    j = n-1\n",
    "    \n",
    "    while j > i:\n",
    "        if arr[i] == 0:\n",
    "            i += 1\n",
    "            continue\n",
    "        elif arr[i] == 1:\n",
    "            if arr[j] == 0:\n",
    "                arr[i], arr[j] = arr[j], arr[i]\n",
    "                i += 1\n",
    "                j -= 1\n",
    "            elif arr[j] == 1:\n",
    "                j -= 1\n",
    "                continue \n",
    "        \n",
    "                \n",
    "                "
   ]
  },
  {
   "cell_type": "code",
   "execution_count": 17,
   "id": "f0623fb6",
   "metadata": {},
   "outputs": [],
   "source": [
    "arr1 = [int(i) for i in \"1 0 1 1 0 1 0 1\".split()]\n",
    "sortZeroesAndOne(arr1, len(arr1))"
   ]
  },
  {
   "cell_type": "code",
   "execution_count": 18,
   "id": "0f83b623",
   "metadata": {},
   "outputs": [
    {
     "data": {
      "text/plain": [
       "[0, 0, 0, 1, 1, 1, 1, 1]"
      ]
     },
     "execution_count": 18,
     "metadata": {},
     "output_type": "execute_result"
    }
   ],
   "source": [
    "arr1"
   ]
  },
  {
   "cell_type": "code",
   "execution_count": null,
   "id": "1343ad69",
   "metadata": {},
   "outputs": [],
   "source": []
  }
 ],
 "metadata": {
  "kernelspec": {
   "display_name": "Python 3 (ipykernel)",
   "language": "python",
   "name": "python3"
  },
  "language_info": {
   "codemirror_mode": {
    "name": "ipython",
    "version": 3
   },
   "file_extension": ".py",
   "mimetype": "text/x-python",
   "name": "python",
   "nbconvert_exporter": "python",
   "pygments_lexer": "ipython3",
   "version": "3.9.7"
  }
 },
 "nbformat": 4,
 "nbformat_minor": 5
}
