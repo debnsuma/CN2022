{
 "cells": [
  {
   "cell_type": "markdown",
   "id": "3c97bbb3",
   "metadata": {},
   "source": [
    "### Binary Search"
   ]
  },
  {
   "cell_type": "code",
   "execution_count": 104,
   "id": "fcec63de",
   "metadata": {},
   "outputs": [],
   "source": [
    "def binarySearch(arr, n, x) :\n",
    "    \n",
    "    lower = 0\n",
    "    upper = n - 1\n",
    "    mid = (upper + lower) // 2\n",
    "    while lower <= upper:        \n",
    "        \n",
    "        if x == arr[mid]:\n",
    "            return mid\n",
    "        elif x > arr[mid] :\n",
    "            lower = mid + 1\n",
    "        else:\n",
    "            upper = mid - 1\n",
    "        mid = (upper + lower) // 2\n",
    "        \n",
    "    \n",
    "    return -1"
   ]
  },
  {
   "cell_type": "code",
   "execution_count": 105,
   "id": "ab1a2c2f",
   "metadata": {},
   "outputs": [],
   "source": [
    "arr = [int(i) for i in \"1 4 8 10 15 19 24 28 32 33 35\".split(\" \")]"
   ]
  },
  {
   "cell_type": "code",
   "execution_count": 106,
   "id": "2ed822e6",
   "metadata": {},
   "outputs": [
    {
     "data": {
      "text/plain": [
       "[1, 4, 8, 10, 15, 19, 24, 28, 32, 33, 35]"
      ]
     },
     "execution_count": 106,
     "metadata": {},
     "output_type": "execute_result"
    }
   ],
   "source": [
    "arr"
   ]
  },
  {
   "cell_type": "code",
   "execution_count": 107,
   "id": "94932414",
   "metadata": {},
   "outputs": [
    {
     "data": {
      "text/plain": [
       "0"
      ]
     },
     "execution_count": 107,
     "metadata": {},
     "output_type": "execute_result"
    }
   ],
   "source": [
    "binarySearch(arr, len(arr), 1)"
   ]
  },
  {
   "cell_type": "markdown",
   "id": "b9fdebc5",
   "metadata": {},
   "source": [
    "### Selection Sort"
   ]
  },
  {
   "cell_type": "code",
   "execution_count": 1,
   "id": "c2c9bfc8",
   "metadata": {},
   "outputs": [],
   "source": [
    "def selectionSort(arr, n):\n",
    "    for i in range(n):\n",
    "        present_min_index = i\n",
    "        for j in range(i+1, n):\n",
    "            if arr[present_min_index] > arr[j]:\n",
    "                present_min_index = j\n",
    "        \n",
    "        arr[i], arr[present_min_index] = arr[present_min_index], arr[i]\n",
    "        "
   ]
  },
  {
   "cell_type": "code",
   "execution_count": 2,
   "id": "3c1c07c8",
   "metadata": {},
   "outputs": [],
   "source": [
    "arr = [int(i) for i in \"1 4 8 10 15 19 24 28 32 33 35\".split(\" \")]"
   ]
  },
  {
   "cell_type": "code",
   "execution_count": 3,
   "id": "f032fc06",
   "metadata": {},
   "outputs": [],
   "source": [
    "selectionSort(arr, len(arr))"
   ]
  },
  {
   "cell_type": "code",
   "execution_count": 4,
   "id": "7d6cc598",
   "metadata": {},
   "outputs": [
    {
     "data": {
      "text/plain": [
       "[1, 4, 8, 10, 15, 19, 24, 28, 32, 33, 35]"
      ]
     },
     "execution_count": 4,
     "metadata": {},
     "output_type": "execute_result"
    }
   ],
   "source": [
    "arr"
   ]
  },
  {
   "cell_type": "markdown",
   "id": "52b57ba4",
   "metadata": {},
   "source": [
    "### Code Bubble Sort"
   ]
  },
  {
   "cell_type": "code",
   "execution_count": 11,
   "id": "05b522d9",
   "metadata": {},
   "outputs": [],
   "source": [
    "\n",
    "def bubbleSort(arr, n):\n",
    " \n",
    "    # Traverse through all array elements\n",
    "    for i in range(n-1):\n",
    "    # range(n) also work but outer loop will\n",
    "    # repeat one time more than needed.\n",
    " \n",
    "        # Last i elements are already in place\n",
    "        for j in range(0, n-i-1):\n",
    " \n",
    "            # traverse the array from 0 to n-i-1\n",
    "            # Swap if the element found is greater\n",
    "            # than the next element\n",
    "            if arr[j] > arr[j + 1] :\n",
    "                arr[j], arr[j + 1] = arr[j + 1], arr[j]"
   ]
  },
  {
   "cell_type": "code",
   "execution_count": 12,
   "id": "b3ec301c",
   "metadata": {},
   "outputs": [],
   "source": [
    "arr = [int(i) for i in \"1 7 4 0 9 4\".split(\" \")]\n",
    "bubbleSort(arr, len(arr))"
   ]
  },
  {
   "cell_type": "code",
   "execution_count": 13,
   "id": "30a828bd",
   "metadata": {},
   "outputs": [
    {
     "data": {
      "text/plain": [
       "[0, 1, 4, 4, 7, 9]"
      ]
     },
     "execution_count": 13,
     "metadata": {},
     "output_type": "execute_result"
    }
   ],
   "source": [
    "arr"
   ]
  },
  {
   "cell_type": "markdown",
   "id": "d6359d92",
   "metadata": {},
   "source": [
    "### Insersion Sort"
   ]
  },
  {
   "cell_type": "code",
   "execution_count": 53,
   "id": "e856bd03",
   "metadata": {},
   "outputs": [],
   "source": [
    "def insertionSort(arr, n) :  \n",
    "    for i in range(1, n):\n",
    "        current = arr[i]\n",
    "        for j in range(i-1, -1, -1):\n",
    "            if current < arr[j]:\n",
    "                arr[j+1] = arr[j] \n",
    "                arr[j] = current\n",
    "                \n",
    "        \n"
   ]
  },
  {
   "cell_type": "code",
   "execution_count": 54,
   "id": "51872fbf",
   "metadata": {},
   "outputs": [],
   "source": [
    "arr = [int(i) for i in \"1 7 4 0 9 4\".split(\" \")]\n",
    "insertionSort(arr, len(arr))"
   ]
  },
  {
   "cell_type": "code",
   "execution_count": 55,
   "id": "8d20162b",
   "metadata": {},
   "outputs": [
    {
     "data": {
      "text/plain": [
       "[0, 1, 4, 4, 7, 9]"
      ]
     },
     "execution_count": 55,
     "metadata": {},
     "output_type": "execute_result"
    }
   ],
   "source": [
    "arr"
   ]
  },
  {
   "cell_type": "code",
   "execution_count": 52,
   "id": "749002db",
   "metadata": {},
   "outputs": [
    {
     "data": {
      "text/plain": [
       "[1, 0]"
      ]
     },
     "execution_count": 52,
     "metadata": {},
     "output_type": "execute_result"
    }
   ],
   "source": [
    "list(range(1, -1, -1))"
   ]
  },
  {
   "cell_type": "markdown",
   "id": "18a067fd",
   "metadata": {},
   "source": [
    "### Merge 2 sorted array"
   ]
  },
  {
   "cell_type": "code",
   "execution_count": 124,
   "id": "ff00a2c0",
   "metadata": {},
   "outputs": [],
   "source": [
    "def merge(arr1, n, arr2, m) : \n",
    "    i = 0 # for arr1 \n",
    "    j = 0 # for arr2\n",
    "    final_array = []        \n",
    "    \n",
    "    if n > m:\n",
    "        while i < n:\n",
    "            if j < m and arr1[i] < arr2[j] :\n",
    "                final_array.append(arr1[i])\n",
    "                i += 1\n",
    "\n",
    "            elif j < m and arr1[i] >= arr2[j]:\n",
    "                final_array.append(arr2[j])\n",
    "                j += 1\n",
    "            else:\n",
    "                final_array.append(arr1[i])\n",
    "                i += 1\n",
    "            print(final_array, end = ' ')\n",
    "            print(i, j)\n",
    "    else:\n",
    "        while j < m:\n",
    "            if i < n and arr2[j] < arr1[i] :\n",
    "                final_array.append(arr2[j])\n",
    "                j += 1\n",
    "\n",
    "            elif i < n and arr2[j] >= arr1[i]:\n",
    "                final_array.append(arr1[i])\n",
    "                i += 1\n",
    "            else:\n",
    "                final_array.append(arr2[j])\n",
    "                j += 1 \n",
    "            print(final_array, end = ' ')\n",
    "            print(i, j)\n",
    "    \n",
    "    return final_array\n",
    "            "
   ]
  },
  {
   "cell_type": "code",
   "execution_count": 125,
   "id": "f88b8fdd",
   "metadata": {},
   "outputs": [
    {
     "name": "stdout",
     "output_type": "stream",
     "text": [
      "[1] 1 0\n",
      "[1, 2] 1 1\n",
      "[1, 2, 3] 2 1\n",
      "[1, 2, 3, 6] 3 1\n",
      "[1, 2, 3, 6, 8] 3 2\n",
      "[1, 2, 3, 6, 8, 11] 4 2\n",
      "[1, 2, 3, 6, 8, 11, 12] 4 3\n",
      "[1, 2, 3, 6, 8, 11, 12, 12] 5 3\n",
      "[1, 2, 3, 6, 8, 11, 12, 12, 16] 5 4\n",
      "[1, 2, 3, 6, 8, 11, 12, 12, 16, 17] 6 4\n"
     ]
    },
    {
     "data": {
      "text/plain": [
       "[1, 2, 3, 6, 8, 11, 12, 12, 16, 17]"
      ]
     },
     "execution_count": 125,
     "metadata": {},
     "output_type": "execute_result"
    }
   ],
   "source": [
    "arr1 = [int(i) for i in \"1 3 6 11 12 17\".split(\" \")]\n",
    "arr2 = [int(i) for i in \"2 8 12 16 19\".split(\" \")]\n",
    "merge(arr1, len(arr1), arr2, len(arr2))\n",
    "\n"
   ]
  },
  {
   "cell_type": "code",
   "execution_count": null,
   "id": "232fd6bd",
   "metadata": {},
   "outputs": [],
   "source": [
    "1 2 3 6 8 11 12 12 16 17 19 \n"
   ]
  },
  {
   "cell_type": "code",
   "execution_count": 166,
   "id": "7c28fe0b",
   "metadata": {},
   "outputs": [],
   "source": [
    "def merge(arr1, n, arr2, m) : \n",
    "    \n",
    "    final_arr = []\n",
    "    i = 0 # for arr1 which can go till n\n",
    "    j = 0 # for arr2 which can go till m \n",
    "    k = 0 # this will go till n + m\n",
    "    \n",
    "    while k < n + m:\n",
    "        if i < n and j < m:\n",
    "            if arr1[i] < arr2[j]:\n",
    "                final_arr.append(arr1[i])\n",
    "                i += 1\n",
    "            else:\n",
    "                final_arr.append(arr2[j])\n",
    "                j += 1\n",
    "        elif i <= n and j >= m:\n",
    "            final_arr.append(arr1[i])\n",
    "            i += 1\n",
    "        \n",
    "        elif i >= n and j <= m:\n",
    "            final_arr.append(arr2[j])\n",
    "            j += 1   \n",
    "\n",
    "#         print(i, j, k, final_arr[-1])\n",
    "        k += 1\n",
    "        \n",
    "    \n",
    "    return final_arr\n",
    "        \n",
    "            "
   ]
  },
  {
   "cell_type": "code",
   "execution_count": 167,
   "id": "dda7eb9d",
   "metadata": {},
   "outputs": [
    {
     "data": {
      "text/plain": [
       "[1, 2, 3, 6, 8, 11, 12, 17, 19]"
      ]
     },
     "execution_count": 167,
     "metadata": {},
     "output_type": "execute_result"
    }
   ],
   "source": [
    "arr1 = [int(i) for i in \"1 3 6 11 12 17\".split(\" \")]\n",
    "arr2 = [int(i) for i in \"2 8 19\".split(\" \")]\n",
    "merge(arr1, len(arr1), arr2, len(arr2))\n",
    "\n"
   ]
  },
  {
   "cell_type": "markdown",
   "id": "56647094",
   "metadata": {},
   "source": [
    "### Q1 : Push Zero to End"
   ]
  },
  {
   "cell_type": "code",
   "execution_count": 78,
   "id": "2253af7b",
   "metadata": {},
   "outputs": [],
   "source": [
    "def pushZerosAtEnd(arr, n):\n",
    "    \n",
    "    for i in range(n-1):\n",
    "        end_pointer = n - 1\n",
    "        if arr[i] == 0:\n",
    "            for j in range(i+1, n):\n",
    "                arr[j-1] = arr[j]\n",
    "            arr[end_pointer] = 0\n",
    "            end_pointer -= 1\n",
    "    \n",
    "    \n",
    "                "
   ]
  },
  {
   "cell_type": "code",
   "execution_count": 79,
   "id": "6b797b0c",
   "metadata": {},
   "outputs": [],
   "source": [
    "arr1 = [int(i) for i in \"0 3 0 2 0\".split(\" \")]\n",
    "pushZerosAtEnd(arr1, len(arr1))"
   ]
  },
  {
   "cell_type": "code",
   "execution_count": 80,
   "id": "944f87ab",
   "metadata": {},
   "outputs": [
    {
     "data": {
      "text/plain": [
       "[3, 2, 0, 0, 0]"
      ]
     },
     "execution_count": 80,
     "metadata": {},
     "output_type": "execute_result"
    }
   ],
   "source": [
    "arr1"
   ]
  },
  {
   "cell_type": "code",
   "execution_count": 94,
   "id": "357d475c",
   "metadata": {},
   "outputs": [],
   "source": [
    "def pushZerosAtEnd(arr, n):\n",
    "    \n",
    "    i = 0\n",
    "    k = 0 \n",
    "    \n",
    "    while i < n:\n",
    "        if arr[i] == 0:\n",
    "            i += 1\n",
    "            continue\n",
    "        else:\n",
    "            arr[k], arr[i] = arr[i], arr[k]\n",
    "            k += 1\n",
    "            i += 1\n",
    "    \n",
    "    \n",
    "                "
   ]
  },
  {
   "cell_type": "code",
   "execution_count": 95,
   "id": "319ff1d3",
   "metadata": {},
   "outputs": [],
   "source": [
    "arr1 = [int(i) for i in \"1 2 3 0 0 0 2 0\".split(\" \")]\n",
    "pushZerosAtEnd(arr1, len(arr1))"
   ]
  },
  {
   "cell_type": "code",
   "execution_count": 96,
   "id": "e903b98e",
   "metadata": {},
   "outputs": [
    {
     "data": {
      "text/plain": [
       "[1, 2, 3, 2, 0, 0, 0, 0]"
      ]
     },
     "execution_count": 96,
     "metadata": {},
     "output_type": "execute_result"
    }
   ],
   "source": [
    "arr1"
   ]
  },
  {
   "cell_type": "code",
   "execution_count": null,
   "id": "aa58943d",
   "metadata": {},
   "outputs": [],
   "source": []
  }
 ],
 "metadata": {
  "kernelspec": {
   "display_name": "Python 3 (ipykernel)",
   "language": "python",
   "name": "python3"
  },
  "language_info": {
   "codemirror_mode": {
    "name": "ipython",
    "version": 3
   },
   "file_extension": ".py",
   "mimetype": "text/x-python",
   "name": "python",
   "nbconvert_exporter": "python",
   "pygments_lexer": "ipython3",
   "version": "3.9.7"
  }
 },
 "nbformat": 4,
 "nbformat_minor": 5
}
