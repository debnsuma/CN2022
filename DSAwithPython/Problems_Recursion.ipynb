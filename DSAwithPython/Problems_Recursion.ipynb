{
 "cells": [
  {
   "cell_type": "markdown",
   "id": "df449422",
   "metadata": {},
   "source": [
    "# Geometric Sum\n"
   ]
  },
  {
   "cell_type": "code",
   "execution_count": 47,
   "id": "f480965c",
   "metadata": {},
   "outputs": [],
   "source": [
    "def gSum(k):\n",
    "    \n",
    "    if k == 0:\n",
    "        return 1.0\n",
    "    \n",
    "    return gSum(k-1) + 1/(2**(k))\n",
    "    \n",
    "    "
   ]
  },
  {
   "cell_type": "code",
   "execution_count": 48,
   "id": "d1b4cbec",
   "metadata": {},
   "outputs": [
    {
     "data": {
      "text/plain": [
       "1.9375"
      ]
     },
     "execution_count": 48,
     "metadata": {},
     "output_type": "execute_result"
    }
   ],
   "source": [
    "gSum(4)"
   ]
  },
  {
   "cell_type": "markdown",
   "id": "1765a143",
   "metadata": {},
   "source": [
    "# Check Palindrome (recursive)\n"
   ]
  },
  {
   "cell_type": "code",
   "execution_count": 80,
   "id": "8a538fe1",
   "metadata": {},
   "outputs": [],
   "source": [
    "def checkPalindrome(s):\n",
    "    _s = list(s)\n",
    "    \n",
    "    if len(s) == 1 or len(s) == 0:\n",
    "        return True\n",
    "    \n",
    "    if s[0] != s[-1]:\n",
    "        return False\n",
    "    \n",
    "    return checkPalindrome(s[1:-1])"
   ]
  },
  {
   "cell_type": "code",
   "execution_count": 84,
   "id": "ff92ddce",
   "metadata": {},
   "outputs": [
    {
     "data": {
      "text/plain": [
       "True"
      ]
     },
     "execution_count": 84,
     "metadata": {},
     "output_type": "execute_result"
    }
   ],
   "source": [
    "s = \"maaaam\"\n",
    "checkPalindrome(s)"
   ]
  },
  {
   "cell_type": "code",
   "execution_count": 51,
   "id": "ec645b5f",
   "metadata": {},
   "outputs": [
    {
     "data": {
      "text/plain": [
       "'m'"
      ]
     },
     "execution_count": 51,
     "metadata": {},
     "output_type": "execute_result"
    }
   ],
   "source": [
    "s[0]"
   ]
  },
  {
   "cell_type": "code",
   "execution_count": 52,
   "id": "770ae27f",
   "metadata": {},
   "outputs": [
    {
     "data": {
      "text/plain": [
       "'m'"
      ]
     },
     "execution_count": 52,
     "metadata": {},
     "output_type": "execute_result"
    }
   ],
   "source": [
    "s[-1]"
   ]
  },
  {
   "cell_type": "code",
   "execution_count": 53,
   "id": "c5e78374",
   "metadata": {},
   "outputs": [
    {
     "data": {
      "text/plain": [
       "'madam'"
      ]
     },
     "execution_count": 53,
     "metadata": {},
     "output_type": "execute_result"
    }
   ],
   "source": [
    "s"
   ]
  },
  {
   "cell_type": "code",
   "execution_count": 55,
   "id": "8b07acdf",
   "metadata": {},
   "outputs": [
    {
     "data": {
      "text/plain": [
       "'madam'"
      ]
     },
     "execution_count": 55,
     "metadata": {},
     "output_type": "execute_result"
    }
   ],
   "source": [
    "s"
   ]
  },
  {
   "cell_type": "code",
   "execution_count": 57,
   "id": "73cbbb6b",
   "metadata": {},
   "outputs": [
    {
     "data": {
      "text/plain": [
       "'a'"
      ]
     },
     "execution_count": 57,
     "metadata": {},
     "output_type": "execute_result"
    }
   ],
   "source": [
    "s[3:-1]"
   ]
  },
  {
   "cell_type": "code",
   "execution_count": 58,
   "id": "d3a2195c",
   "metadata": {},
   "outputs": [],
   "source": [
    "a = \"AsadafafafafaB\""
   ]
  },
  {
   "cell_type": "code",
   "execution_count": 59,
   "id": "de3d6f8c",
   "metadata": {},
   "outputs": [
    {
     "data": {
      "text/plain": [
       "'sadafafafafa'"
      ]
     },
     "execution_count": 59,
     "metadata": {},
     "output_type": "execute_result"
    }
   ],
   "source": [
    "a[1:-1]"
   ]
  },
  {
   "cell_type": "markdown",
   "id": "b228a347",
   "metadata": {},
   "source": [
    "# Sum of digits (recursive)\n"
   ]
  },
  {
   "cell_type": "code",
   "execution_count": 93,
   "id": "1ec2c45b",
   "metadata": {},
   "outputs": [],
   "source": [
    "def sumDigits(numbers):\n",
    "    _numbers = list(map(int, list(numbers)))\n",
    "    \n",
    "    if len(_numbers) == 1:\n",
    "        return _numbers[0]\n",
    "    \n",
    "    total = sumDigits(numbers[0]) + sumDigits(numbers[1:]) \n",
    "    \n",
    "    return total"
   ]
  },
  {
   "cell_type": "code",
   "execution_count": 94,
   "id": "c301dad5",
   "metadata": {},
   "outputs": [],
   "source": [
    "numbers = \"12345\""
   ]
  },
  {
   "cell_type": "code",
   "execution_count": 95,
   "id": "71113f51",
   "metadata": {},
   "outputs": [
    {
     "data": {
      "text/plain": [
       "15"
      ]
     },
     "execution_count": 95,
     "metadata": {},
     "output_type": "execute_result"
    }
   ],
   "source": [
    "sumDigits(numbers)"
   ]
  },
  {
   "cell_type": "code",
   "execution_count": 92,
   "id": "1841783d",
   "metadata": {},
   "outputs": [
    {
     "data": {
      "text/plain": [
       "[1, 2, 3, 4, 5]"
      ]
     },
     "execution_count": 92,
     "metadata": {},
     "output_type": "execute_result"
    }
   ],
   "source": [
    "_numbers"
   ]
  },
  {
   "cell_type": "code",
   "execution_count": null,
   "id": "56ce48c3",
   "metadata": {},
   "outputs": [],
   "source": []
  }
 ],
 "metadata": {
  "kernelspec": {
   "display_name": "Python 3 (ipykernel)",
   "language": "python",
   "name": "python3"
  },
  "language_info": {
   "codemirror_mode": {
    "name": "ipython",
    "version": 3
   },
   "file_extension": ".py",
   "mimetype": "text/x-python",
   "name": "python",
   "nbconvert_exporter": "python",
   "pygments_lexer": "ipython3",
   "version": "3.9.7"
  }
 },
 "nbformat": 4,
 "nbformat_minor": 5
}
