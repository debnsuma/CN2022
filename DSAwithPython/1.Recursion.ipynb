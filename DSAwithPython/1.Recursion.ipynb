{
 "cells": [
  {
   "cell_type": "markdown",
   "id": "425eeead",
   "metadata": {},
   "source": [
    "# Power Of A Number\n"
   ]
  },
  {
   "cell_type": "code",
   "execution_count": null,
   "id": "34c8af83",
   "metadata": {},
   "outputs": [],
   "source": [
    "Write your code here\n",
    "To take space separated input for two variables, we use the following syntax (3 lines)\n",
    "a, b = input().split()\n",
    "a = int(a)\n",
    "b = int(b)"
   ]
  },
  {
   "cell_type": "code",
   "execution_count": 9,
   "id": "98fe4b7c",
   "metadata": {},
   "outputs": [],
   "source": [
    "def pow(x, n):\n",
    "    \n",
    "    if n == 0:\n",
    "        return 1\n",
    "    else:\n",
    "        return x * pow(x,  n-1)\n",
    "\n",
    "    return x * pow(x, n)\n",
    "    \n",
    "    "
   ]
  },
  {
   "cell_type": "code",
   "execution_count": 10,
   "id": "5050324a",
   "metadata": {},
   "outputs": [
    {
     "name": "stdout",
     "output_type": "stream",
     "text": [
      "2 10\n"
     ]
    }
   ],
   "source": [
    "a, b = input().split()\n",
    "a = int(a)\n",
    "b = int(b)"
   ]
  },
  {
   "cell_type": "code",
   "execution_count": 11,
   "id": "b9e246a0",
   "metadata": {},
   "outputs": [
    {
     "data": {
      "text/plain": [
       "1024"
      ]
     },
     "execution_count": 11,
     "metadata": {},
     "output_type": "execute_result"
    }
   ],
   "source": [
    "\n",
    "pow(a, b)"
   ]
  },
  {
   "cell_type": "markdown",
   "id": "59030132",
   "metadata": {},
   "source": [
    "# Print `n` number"
   ]
  },
  {
   "cell_type": "code",
   "execution_count": 1,
   "id": "118a08d0",
   "metadata": {},
   "outputs": [],
   "source": [
    "def printNnum(n):\n",
    "    if n == 0:\n",
    "        return \n",
    "    printNnum(n-1)\n",
    "    print(n)"
   ]
  },
  {
   "cell_type": "code",
   "execution_count": 2,
   "id": "af261cfe",
   "metadata": {},
   "outputs": [
    {
     "name": "stdout",
     "output_type": "stream",
     "text": [
      "Enter a number10\n",
      "1\n",
      "2\n",
      "3\n",
      "4\n",
      "5\n",
      "6\n",
      "7\n",
      "8\n",
      "9\n",
      "10\n"
     ]
    }
   ],
   "source": [
    "n = int(input(\"Enter a number\"))\n",
    "printNnum(n)"
   ]
  },
  {
   "cell_type": "code",
   "execution_count": 7,
   "id": "e7b3d608",
   "metadata": {},
   "outputs": [],
   "source": [
    "def printNnum(n):\n",
    "    if n == 0:\n",
    "        return \n",
    "    print(n)\n",
    "    printNnum(n-1)"
   ]
  },
  {
   "cell_type": "code",
   "execution_count": 8,
   "id": "203eef2d",
   "metadata": {},
   "outputs": [
    {
     "name": "stdout",
     "output_type": "stream",
     "text": [
      "Enter a number10\n",
      "10\n",
      "9\n",
      "8\n",
      "7\n",
      "6\n",
      "5\n",
      "4\n",
      "3\n",
      "2\n",
      "1\n"
     ]
    }
   ],
   "source": [
    "n = int(input(\"Enter a number\"))\n",
    "printNnum(n)"
   ]
  },
  {
   "cell_type": "code",
   "execution_count": 9,
   "id": "e5a7aeca",
   "metadata": {},
   "outputs": [
    {
     "name": "stdout",
     "output_type": "stream",
     "text": [
      "5 3 1 "
     ]
    }
   ],
   "source": [
    "def printNumbers(n):\n",
    "    if(n<0):\n",
    "        return\n",
    "    print(n,end=\" \")\n",
    "    printNumbers(n-2)\n",
    "num = 5\n",
    "printNumbers(num)"
   ]
  },
  {
   "cell_type": "code",
   "execution_count": 10,
   "id": "16d83761",
   "metadata": {},
   "outputs": [
    {
     "name": "stdout",
     "output_type": "stream",
     "text": [
      "16\n"
     ]
    }
   ],
   "source": [
    "def fun(n):\n",
    "    if(n == 4):\n",
    "        return n\n",
    "    else:\n",
    "        return 2*fun(n+1)\n",
    "\n",
    "\n",
    "print(fun(2))"
   ]
  },
  {
   "cell_type": "code",
   "execution_count": null,
   "id": "1a5a4100",
   "metadata": {},
   "outputs": [],
   "source": [
    "2 -> 16\n",
    "3 -> 8\n",
    "4 -> 4"
   ]
  },
  {
   "cell_type": "code",
   "execution_count": 27,
   "id": "a20d8e57",
   "metadata": {},
   "outputs": [],
   "source": [
    "def isSorted(n):\n",
    "    \n",
    "    l = len(n)\n",
    "    \n",
    "    if l == 0 or l == 1:\n",
    "        return True\n",
    "    if n[0] > n[1]:\n",
    "        return False\n",
    "    smaller_list = n[1:]\n",
    "    if isSorted(smaller_list):\n",
    "        return True\n",
    "    else:\n",
    "        return False\n",
    "        "
   ]
  },
  {
   "cell_type": "code",
   "execution_count": 29,
   "id": "15b5b2f2",
   "metadata": {},
   "outputs": [
    {
     "data": {
      "text/plain": [
       "True"
      ]
     },
     "execution_count": 29,
     "metadata": {},
     "output_type": "execute_result"
    }
   ],
   "source": [
    "n = [1, 2, 3, 4, 5, 6]\n",
    "isSorted(n)"
   ]
  },
  {
   "cell_type": "code",
   "execution_count": 32,
   "id": "d3f251b9",
   "metadata": {},
   "outputs": [],
   "source": [
    "def isSorted(n):\n",
    "    \n",
    "    l = len(n)\n",
    "    \n",
    "    if l == 0 or l == 1:\n",
    "        return True\n",
    "    if n[0] > n[1]:\n",
    "        return False\n",
    "    n.pop(0)\n",
    "    if isSorted(n):\n",
    "        return True\n",
    "    else:\n",
    "        return False\n",
    "        "
   ]
  },
  {
   "cell_type": "code",
   "execution_count": 34,
   "id": "7b8de216",
   "metadata": {},
   "outputs": [
    {
     "data": {
      "text/plain": [
       "True"
      ]
     },
     "execution_count": 34,
     "metadata": {},
     "output_type": "execute_result"
    }
   ],
   "source": [
    "n = [1, 2, 3, 4, 5, 6]\n",
    "isSorted(n)"
   ]
  },
  {
   "cell_type": "markdown",
   "id": "32857385",
   "metadata": {},
   "source": [
    "# Sum Of Array\n"
   ]
  },
  {
   "cell_type": "code",
   "execution_count": 36,
   "id": "8bafa3ca",
   "metadata": {},
   "outputs": [],
   "source": [
    "def sumArray(arr):\n",
    "    \n",
    "    if len(arr) == 1:\n",
    "        return arr[0]\n",
    "    \n",
    "    smaller_list = arr[1:]\n",
    "    total = arr[0] + sumArray(smaller_list)\n",
    "    \n",
    "    return total\n"
   ]
  },
  {
   "cell_type": "code",
   "execution_count": 39,
   "id": "ec813721",
   "metadata": {},
   "outputs": [
    {
     "name": "stdout",
     "output_type": "stream",
     "text": [
      "5\n",
      "10 10 20 20 30\n",
      "90\n"
     ]
    }
   ],
   "source": [
    "\n",
    "# Main\n",
    "from sys import setrecursionlimit\n",
    "setrecursionlimit(11000)\n",
    "n=int(input())\n",
    "arr=list(int(i) for i in input().strip().split(' '))\n",
    "print(sumArray(arr))\n"
   ]
  },
  {
   "cell_type": "code",
   "execution_count": 40,
   "id": "d38ea6e5",
   "metadata": {},
   "outputs": [
    {
     "data": {
      "text/plain": [
       "[10, 10, 20, 20, 30]"
      ]
     },
     "execution_count": 40,
     "metadata": {},
     "output_type": "execute_result"
    }
   ],
   "source": [
    "arr"
   ]
  },
  {
   "cell_type": "code",
   "execution_count": 41,
   "id": "3a8760bc",
   "metadata": {},
   "outputs": [
    {
     "data": {
      "text/plain": [
       "90"
      ]
     },
     "execution_count": 41,
     "metadata": {},
     "output_type": "execute_result"
    }
   ],
   "source": [
    "sum(arr)"
   ]
  },
  {
   "cell_type": "markdown",
   "id": "8b44cc95",
   "metadata": {},
   "source": [
    "# Check Number in Array\n"
   ]
  },
  {
   "cell_type": "code",
   "execution_count": 30,
   "id": "0fcf9f14",
   "metadata": {},
   "outputs": [],
   "source": [
    "def checkNumber(arr, x):\n",
    "    \n",
    "    if len(arr) == 0:\n",
    "        return False\n",
    "    \n",
    "    if arr[0] == x:\n",
    "        return True\n",
    "\n",
    "    return checkNumber(arr[1:], x)\n",
    "\n"
   ]
  },
  {
   "cell_type": "code",
   "execution_count": 32,
   "id": "ffb7936b",
   "metadata": {},
   "outputs": [
    {
     "name": "stdout",
     "output_type": "stream",
     "text": [
      "5\n",
      "1 2 6 4 5\n",
      "10\n",
      "false\n"
     ]
    }
   ],
   "source": [
    "\n",
    "# Main\n",
    "from sys import setrecursionlimit\n",
    "setrecursionlimit(11000)\n",
    "n=int(input())\n",
    "arr=list(int(i) for i in input().strip().split(' '))\n",
    "x=int(input())\n",
    "if checkNumber(arr, x):\n",
    "    print('true')\n",
    "else:\n",
    "    print('false')"
   ]
  },
  {
   "cell_type": "code",
   "execution_count": 13,
   "id": "5a52e612",
   "metadata": {},
   "outputs": [],
   "source": [
    "a = [1,2,3,4,5]\n",
    "a = [1, 2]"
   ]
  },
  {
   "cell_type": "code",
   "execution_count": 14,
   "id": "ef2b5365",
   "metadata": {},
   "outputs": [
    {
     "data": {
      "text/plain": [
       "[2]"
      ]
     },
     "execution_count": 14,
     "metadata": {},
     "output_type": "execute_result"
    }
   ],
   "source": [
    "a[1:]"
   ]
  },
  {
   "cell_type": "markdown",
   "id": "43a7db8e",
   "metadata": {},
   "source": [
    "# First Index "
   ]
  },
  {
   "cell_type": "code",
   "execution_count": 69,
   "id": "db513570",
   "metadata": {},
   "outputs": [],
   "source": [
    "def firstIndex(arr, x):\n",
    "\n",
    "    if len(arr) == 0:\n",
    "        return -1\n",
    "    elif arr[0] == x:\n",
    "        return 0 \n",
    "    \n",
    "    shorterList = arr[1:]\n",
    "    shorterListOutput = firstIndex(shorterList, x)\n",
    "\n",
    "    if shorterListOutput == -1:\n",
    "        return -1\n",
    "    else:\n",
    "        return shorterListOutput + 1\n",
    "\n",
    "#     if shorterListOutput == 0:\n",
    "#         return shorterListOutput + 1\n",
    "#     elif shorterListOutput == -1:\n",
    "#         return -1"
   ]
  },
  {
   "cell_type": "code",
   "execution_count": 70,
   "id": "5f7ed83b",
   "metadata": {},
   "outputs": [
    {
     "name": "stdout",
     "output_type": "stream",
     "text": [
      "44\n",
      "34 57 82 41 65 35 82 27 36 12 6 40 66 99 25 29 22 25 12 24 65 15 5 43 28 33 76 32 13 95 22 84 71 23 28 7 65 94 18 47 9 42 61 73 \n",
      "61\n",
      "42\n"
     ]
    }
   ],
   "source": [
    "# Main\n",
    "from sys import setrecursionlimit\n",
    "setrecursionlimit(11000)\n",
    "n=int(input())\n",
    "arr=list(int(i) for i in input().strip().split(' '))\n",
    "x=int(input())\n",
    "print(firstIndex(arr, x))\n"
   ]
  },
  {
   "cell_type": "markdown",
   "id": "aecb71a5",
   "metadata": {},
   "source": [
    "# Last Index"
   ]
  },
  {
   "cell_type": "code",
   "execution_count": 76,
   "id": "a0d90484",
   "metadata": {},
   "outputs": [],
   "source": [
    "def lastIndex(arr, x):\n",
    "\n",
    "    if len(arr) == 0:\n",
    "        return -1\n",
    "\n",
    "    \n",
    "    shorterList = arr[1:]\n",
    "    shorterListOutput = lastIndex(shorterList, x)\n",
    "\n",
    "    if shorterListOutput != -1:\n",
    "        return shorterListOutput + 1\n",
    "    else:\n",
    "        if arr[0] == x:\n",
    "            return 0\n",
    "        else:\n",
    "            return -1 "
   ]
  },
  {
   "cell_type": "code",
   "execution_count": 78,
   "id": "382356bc",
   "metadata": {},
   "outputs": [
    {
     "name": "stdout",
     "output_type": "stream",
     "text": [
      "44\n",
      "34 57 82 41 65 35 82 27 36 12 6 40 66 99 25 29 22 25 12 24 65 15 5 43 28 33 76 32 13 95 22 84 71 23 28 7 65 94 18 47 9 42 61 61\n",
      "61\n",
      "43\n"
     ]
    }
   ],
   "source": [
    "# Main\n",
    "from sys import setrecursionlimit\n",
    "setrecursionlimit(11000)\n",
    "n=int(input())\n",
    "arr=list(int(i) for i in input().strip().split(' '))\n",
    "x=int(input())\n",
    "print(lastIndex(arr, x))"
   ]
  },
  {
   "cell_type": "markdown",
   "id": "bd5a5342",
   "metadata": {},
   "source": [
    "# Remove X"
   ]
  },
  {
   "cell_type": "code",
   "execution_count": 29,
   "id": "7c21cb3c",
   "metadata": {},
   "outputs": [],
   "source": [
    "def removeX(s):\n",
    "    \n",
    "    if len(s) == 0:\n",
    "        return s\n",
    "    \n",
    "    smallerStr = s[1:]\n",
    "    smallerOutput = removeX(smallerStr)\n",
    "    if s[0] == \"x\":\n",
    "        return smallerOutput\n",
    "    else:\n",
    "        return s[0] + smallerOutput\n",
    "    \n",
    "    "
   ]
  },
  {
   "cell_type": "code",
   "execution_count": 30,
   "id": "8cac7e9d",
   "metadata": {},
   "outputs": [
    {
     "data": {
      "text/plain": [
       "'abcd'"
      ]
     },
     "execution_count": 30,
     "metadata": {},
     "output_type": "execute_result"
    }
   ],
   "source": [
    "removeX(\"xabcxdx\")"
   ]
  },
  {
   "cell_type": "markdown",
   "id": "ada6798e",
   "metadata": {},
   "source": [
    "# Remove Duplicates Recursively\n"
   ]
  },
  {
   "cell_type": "code",
   "execution_count": 36,
   "id": "c43c824d",
   "metadata": {},
   "outputs": [],
   "source": [
    "def removeConsecutiveDuplicates(string):\n",
    "    \n",
    "    if len(string) <= 1:\n",
    "        return string \n",
    "    \n",
    "    smallerString = string[1:]\n",
    "    smallerOutput = removeConsecutiveDuplicates(smallerString)\n",
    "    \n",
    "    if string[0] == string[1]:\n",
    "        return smallerOutput\n",
    "    \n",
    "    else:\n",
    "        return string[0] + smallerOutput"
   ]
  },
  {
   "cell_type": "code",
   "execution_count": 39,
   "id": "e1758177",
   "metadata": {},
   "outputs": [
    {
     "data": {
      "text/plain": [
       "'abcd'"
      ]
     },
     "execution_count": 39,
     "metadata": {},
     "output_type": "execute_result"
    }
   ],
   "source": [
    "removeConsecutiveDuplicates(\"aaabccd\")"
   ]
  },
  {
   "cell_type": "markdown",
   "id": "0816b3b0",
   "metadata": {},
   "source": [
    "# Merge Sort"
   ]
  },
  {
   "cell_type": "code",
   "execution_count": 247,
   "id": "6bf2dd76",
   "metadata": {},
   "outputs": [],
   "source": [
    "def merge(a1, a2, a):\n",
    "    i = 0\n",
    "    j = 0\n",
    "    k = 0\n",
    "    \n",
    "    while i < len(a1) and j < len(a2):\n",
    "        if a1[i] < a2[j]:\n",
    "            a[k] = a1[i]\n",
    "            k = k + 1\n",
    "            i = i + 1\n",
    "        else:\n",
    "            a[k] = a2[j]\n",
    "            k = k + 1           \n",
    "            j = j + 1\n",
    "    \n",
    "    while i < len(a1):\n",
    "        a[k] = a1[i]\n",
    "        k = k + 1 \n",
    "        i = i + 1\n",
    "    while k < len(a2):\n",
    "        a[k] = a2[j]\n",
    "        k = k + 1  \n",
    "        j = j + 1\n"
   ]
  },
  {
   "cell_type": "code",
   "execution_count": 248,
   "id": "9dbface0",
   "metadata": {},
   "outputs": [],
   "source": [
    "def mergeSort(a):\n",
    "    \n",
    "    if len(a) == 0 or len(a) == 1:\n",
    "        return \n",
    "    \n",
    "    mid = len(a) // 2 \n",
    "    a1 = a[:mid]\n",
    "    a2 = a[mid:]\n",
    "    \n",
    "    mergeSort(a1)\n",
    "    mergeSort(a2)\n",
    "    \n",
    "    merge(a1, a2, a)\n",
    "    "
   ]
  },
  {
   "cell_type": "code",
   "execution_count": 253,
   "id": "d884a37c",
   "metadata": {},
   "outputs": [
    {
     "name": "stdout",
     "output_type": "stream",
     "text": [
      "[1, 3, 4, 4, 7, 4, 10]\n"
     ]
    }
   ],
   "source": [
    "a = [10,4,3,1,7,9,4]\n",
    "mergSort(a)\n",
    "print(a)"
   ]
  },
  {
   "cell_type": "code",
   "execution_count": 254,
   "id": "14bdf464",
   "metadata": {},
   "outputs": [
    {
     "name": "stdout",
     "output_type": "stream",
     "text": [
      "[1, 3, 4, 4, 7, 9, 10]\n"
     ]
    }
   ],
   "source": [
    "a = [10,4,3,1,7,9,4]\n",
    "print(sorted(a))"
   ]
  },
  {
   "cell_type": "code",
   "execution_count": 234,
   "id": "06f7305b",
   "metadata": {},
   "outputs": [
    {
     "data": {
      "text/plain": [
       "[]"
      ]
     },
     "execution_count": 234,
     "metadata": {},
     "output_type": "execute_result"
    }
   ],
   "source": [
    "a[1:0]"
   ]
  },
  {
   "cell_type": "code",
   "execution_count": 91,
   "id": "52037cfd",
   "metadata": {},
   "outputs": [
    {
     "name": "stdout",
     "output_type": "stream",
     "text": [
      "Given array is\n",
      "10 1 1000 100 3 4 19 0 3 100 \n",
      "Sorted array is: \n",
      "0 1 3 3 4 10 19 100 100 1000 \n"
     ]
    }
   ],
   "source": [
    "# Python program for implementation of MergeSort\n",
    "def mergeSort(arr):\n",
    "\tif len(arr) > 1:\n",
    "\n",
    "        # Finding the mid of the array\n",
    "\t\tmid = len(arr)//2\n",
    "\n",
    "\t\t# Dividing the array elements\n",
    "\t\tL = arr[:mid]\n",
    "\n",
    "\t\t# into 2 halves\n",
    "\t\tR = arr[mid:]\n",
    "\n",
    "\t\t# Sorting the first half\n",
    "\t\tmergeSort(L)\n",
    "\n",
    "\t\t# Sorting the second half\n",
    "\t\tmergeSort(R)\n",
    "\n",
    "\t\ti = j = k = 0\n",
    "\n",
    "\t\t# Copy data to temp arrays L[] and R[]\n",
    "\t\twhile i < len(L) and j < len(R):\n",
    "\t\t\tif L[i] < R[j]:\n",
    "\t\t\t\tarr[k] = L[i]\n",
    "\t\t\t\ti += 1\n",
    "\t\t\telse:\n",
    "\t\t\t\tarr[k] = R[j]\n",
    "\t\t\t\tj += 1\n",
    "\t\t\tk += 1\n",
    "\n",
    "\t\t# Checking if any element was left\n",
    "\t\twhile i < len(L):\n",
    "\t\t\tarr[k] = L[i]\n",
    "\t\t\ti += 1\n",
    "\t\t\tk += 1\n",
    "\n",
    "\t\twhile j < len(R):\n",
    "\t\t\tarr[k] = R[j]\n",
    "\t\t\tj += 1\n",
    "\t\t\tk += 1\n",
    "\n",
    "# Code to print the list\n",
    "\n",
    "\n",
    "def printList(arr):\n",
    "\tfor i in range(len(arr)):\n",
    "\t\tprint(arr[i], end=\" \")\n",
    "\tprint()\n",
    "\n",
    "\n",
    "# Driver Code\n",
    "if __name__ == '__main__':\n",
    "\tarr = [10, 1, 1000, 100, 3, 4, 19, 0, 3, 100]\n",
    "\tprint(\"Given array is\", end=\"\\n\")\n",
    "\tprintList(arr)\n",
    "\tmergeSort(arr)\n",
    "\tprint(\"Sorted array is: \", end=\"\\n\")\n",
    "\tprintList(arr)\n",
    "\n",
    "# This code is contributed by Mayank Khanna\n"
   ]
  },
  {
   "cell_type": "markdown",
   "id": "bbbadb80",
   "metadata": {},
   "source": [
    "# Quick Sort"
   ]
  },
  {
   "cell_type": "code",
   "execution_count": 140,
   "id": "aeb965d5",
   "metadata": {},
   "outputs": [],
   "source": [
    "def partition(a, p, r):\n",
    "    \n",
    "    pivot = a[p]\n",
    "    i = p\n",
    "    for j in range(p+1, r+1):\n",
    "        if a[j] < pivot:\n",
    "            i += 1\n",
    "            a[i], a[j] = a[j], a[i]\n",
    "    \n",
    "    a[i], a[p] = a[p], a[i]\n",
    "    \n",
    "    return i\n",
    "    \n",
    "    "
   ]
  },
  {
   "cell_type": "code",
   "execution_count": 141,
   "id": "338eda96",
   "metadata": {},
   "outputs": [],
   "source": [
    "def quickSort(a, p, r):\n",
    "    \n",
    "    if p < r:\n",
    "        q = partition(a, p, r)\n",
    "        quickSort(a, p, q-1)\n",
    "        quickSort(a, q+1, r)\n",
    "    "
   ]
  },
  {
   "cell_type": "code",
   "execution_count": 143,
   "id": "9fb739bc",
   "metadata": {},
   "outputs": [
    {
     "name": "stdout",
     "output_type": "stream",
     "text": [
      "7\n",
      "100 3 4 22 4 55 1\n",
      "1 3 4 4 22 55 100\n"
     ]
    }
   ],
   "source": [
    "n=int(input())\n",
    "arr=list(int(i) for i in input().strip().split(' '))\n",
    "quickSort(arr, 0, len(arr) - 1)\n",
    "print(*arr)"
   ]
  },
  {
   "cell_type": "markdown",
   "id": "6b5c68c0",
   "metadata": {},
   "source": [
    "# Tower Of Hanoi - Problem\n"
   ]
  },
  {
   "cell_type": "code",
   "execution_count": 7,
   "id": "2066bc78",
   "metadata": {},
   "outputs": [],
   "source": [
    "def towerofhanoi(n, source, aux, dest):\n",
    "    if n == 1:\n",
    "        print(source, dest)\n",
    "        return\n",
    "    elif n == 0:\n",
    "        return \n",
    "    towerofhanoi(n-1, source, dest, aux)\n",
    "    print(source, dest)\n",
    "    towerofhanoi(n-1, aux, source, dest)\n",
    "\n"
   ]
  },
  {
   "cell_type": "code",
   "execution_count": 8,
   "id": "dbae799f",
   "metadata": {},
   "outputs": [
    {
     "name": "stdout",
     "output_type": "stream",
     "text": [
      "0\n"
     ]
    }
   ],
   "source": [
    "n=int(input())\n",
    "towerofhanoi(n, 'a', 'b', 'c')"
   ]
  },
  {
   "cell_type": "code",
   "execution_count": null,
   "id": "e42e7860",
   "metadata": {},
   "outputs": [],
   "source": []
  }
 ],
 "metadata": {
  "kernelspec": {
   "display_name": "Python 3 (ipykernel)",
   "language": "python",
   "name": "python3"
  },
  "language_info": {
   "codemirror_mode": {
    "name": "ipython",
    "version": 3
   },
   "file_extension": ".py",
   "mimetype": "text/x-python",
   "name": "python",
   "nbconvert_exporter": "python",
   "pygments_lexer": "ipython3",
   "version": "3.9.7"
  }
 },
 "nbformat": 4,
 "nbformat_minor": 5
}
