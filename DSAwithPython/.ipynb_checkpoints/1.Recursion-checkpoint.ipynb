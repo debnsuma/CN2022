{
 "cells": [
  {
   "cell_type": "markdown",
   "id": "425eeead",
   "metadata": {},
   "source": [
    "# Power Of A Number\n"
   ]
  },
  {
   "cell_type": "code",
   "execution_count": null,
   "id": "34c8af83",
   "metadata": {},
   "outputs": [],
   "source": [
    "Write your code here\n",
    "To take space separated input for two variables, we use the following syntax (3 lines)\n",
    "a, b = input().split()\n",
    "a = int(a)\n",
    "b = int(b)"
   ]
  },
  {
   "cell_type": "code",
   "execution_count": 9,
   "id": "98fe4b7c",
   "metadata": {},
   "outputs": [],
   "source": [
    "def pow(x, n):\n",
    "    \n",
    "    if n == 0:\n",
    "        return 1\n",
    "    else:\n",
    "        return x * pow(x,  n-1)\n",
    "\n",
    "    return x * pow(x, n)\n",
    "    \n",
    "    "
   ]
  },
  {
   "cell_type": "code",
   "execution_count": 10,
   "id": "5050324a",
   "metadata": {},
   "outputs": [
    {
     "name": "stdout",
     "output_type": "stream",
     "text": [
      "2 10\n"
     ]
    }
   ],
   "source": [
    "a, b = input().split()\n",
    "a = int(a)\n",
    "b = int(b)"
   ]
  },
  {
   "cell_type": "code",
   "execution_count": 11,
   "id": "b9e246a0",
   "metadata": {},
   "outputs": [
    {
     "data": {
      "text/plain": [
       "1024"
      ]
     },
     "execution_count": 11,
     "metadata": {},
     "output_type": "execute_result"
    }
   ],
   "source": [
    "\n",
    "pow(a, b)"
   ]
  },
  {
   "cell_type": "markdown",
   "id": "59030132",
   "metadata": {},
   "source": [
    "# Print `n` number"
   ]
  },
  {
   "cell_type": "code",
   "execution_count": 1,
   "id": "118a08d0",
   "metadata": {},
   "outputs": [],
   "source": [
    "def printNnum(n):\n",
    "    if n == 0:\n",
    "        return \n",
    "    printNnum(n-1)\n",
    "    print(n)"
   ]
  },
  {
   "cell_type": "code",
   "execution_count": 2,
   "id": "af261cfe",
   "metadata": {},
   "outputs": [
    {
     "name": "stdout",
     "output_type": "stream",
     "text": [
      "Enter a number10\n",
      "1\n",
      "2\n",
      "3\n",
      "4\n",
      "5\n",
      "6\n",
      "7\n",
      "8\n",
      "9\n",
      "10\n"
     ]
    }
   ],
   "source": [
    "n = int(input(\"Enter a number\"))\n",
    "printNnum(n)"
   ]
  },
  {
   "cell_type": "code",
   "execution_count": 7,
   "id": "e7b3d608",
   "metadata": {},
   "outputs": [],
   "source": [
    "def printNnum(n):\n",
    "    if n == 0:\n",
    "        return \n",
    "    print(n)\n",
    "    printNnum(n-1)"
   ]
  },
  {
   "cell_type": "code",
   "execution_count": 8,
   "id": "203eef2d",
   "metadata": {},
   "outputs": [
    {
     "name": "stdout",
     "output_type": "stream",
     "text": [
      "Enter a number10\n",
      "10\n",
      "9\n",
      "8\n",
      "7\n",
      "6\n",
      "5\n",
      "4\n",
      "3\n",
      "2\n",
      "1\n"
     ]
    }
   ],
   "source": [
    "n = int(input(\"Enter a number\"))\n",
    "printNnum(n)"
   ]
  },
  {
   "cell_type": "code",
   "execution_count": 9,
   "id": "e5a7aeca",
   "metadata": {},
   "outputs": [
    {
     "name": "stdout",
     "output_type": "stream",
     "text": [
      "5 3 1 "
     ]
    }
   ],
   "source": [
    "def printNumbers(n):\n",
    "    if(n<0):\n",
    "        return\n",
    "    print(n,end=\" \")\n",
    "    printNumbers(n-2)\n",
    "num = 5\n",
    "printNumbers(num)"
   ]
  },
  {
   "cell_type": "code",
   "execution_count": 10,
   "id": "16d83761",
   "metadata": {},
   "outputs": [
    {
     "name": "stdout",
     "output_type": "stream",
     "text": [
      "16\n"
     ]
    }
   ],
   "source": [
    "def fun(n):\n",
    "    if(n == 4):\n",
    "        return n\n",
    "    else:\n",
    "        return 2*fun(n+1)\n",
    "\n",
    "\n",
    "print(fun(2))"
   ]
  },
  {
   "cell_type": "code",
   "execution_count": null,
   "id": "1a5a4100",
   "metadata": {},
   "outputs": [],
   "source": [
    "2 -> 16\n",
    "3 -> 8\n",
    "4 -> 4"
   ]
  },
  {
   "cell_type": "code",
   "execution_count": 27,
   "id": "a20d8e57",
   "metadata": {},
   "outputs": [],
   "source": [
    "def isSorted(n):\n",
    "    \n",
    "    l = len(n)\n",
    "    \n",
    "    if l == 0 or l == 1:\n",
    "        return True\n",
    "    if n[0] > n[1]:\n",
    "        return False\n",
    "    smaller_list = n[1:]\n",
    "    if isSorted(smaller_list):\n",
    "        return True\n",
    "    else:\n",
    "        return False\n",
    "        "
   ]
  },
  {
   "cell_type": "code",
   "execution_count": 29,
   "id": "15b5b2f2",
   "metadata": {},
   "outputs": [
    {
     "data": {
      "text/plain": [
       "True"
      ]
     },
     "execution_count": 29,
     "metadata": {},
     "output_type": "execute_result"
    }
   ],
   "source": [
    "n = [1, 2, 3, 4, 5, 6]\n",
    "isSorted(n)"
   ]
  },
  {
   "cell_type": "code",
   "execution_count": 32,
   "id": "d3f251b9",
   "metadata": {},
   "outputs": [],
   "source": [
    "def isSorted(n):\n",
    "    \n",
    "    l = len(n)\n",
    "    \n",
    "    if l == 0 or l == 1:\n",
    "        return True\n",
    "    if n[0] > n[1]:\n",
    "        return False\n",
    "    n.pop(0)\n",
    "    if isSorted(n):\n",
    "        return True\n",
    "    else:\n",
    "        return False\n",
    "        "
   ]
  },
  {
   "cell_type": "code",
   "execution_count": 34,
   "id": "7b8de216",
   "metadata": {},
   "outputs": [
    {
     "data": {
      "text/plain": [
       "True"
      ]
     },
     "execution_count": 34,
     "metadata": {},
     "output_type": "execute_result"
    }
   ],
   "source": [
    "n = [1, 2, 3, 4, 5, 6]\n",
    "isSorted(n)"
   ]
  },
  {
   "cell_type": "markdown",
   "id": "32857385",
   "metadata": {},
   "source": [
    "# Sum Of Array\n"
   ]
  },
  {
   "cell_type": "code",
   "execution_count": 36,
   "id": "8bafa3ca",
   "metadata": {},
   "outputs": [],
   "source": [
    "def sumArray(arr):\n",
    "    \n",
    "    if len(arr) == 1:\n",
    "        return arr[0]\n",
    "    \n",
    "    smaller_list = arr[1:]\n",
    "    total = arr[0] + sumArray(smaller_list)\n",
    "    \n",
    "    return total\n"
   ]
  },
  {
   "cell_type": "code",
   "execution_count": 39,
   "id": "ec813721",
   "metadata": {},
   "outputs": [
    {
     "name": "stdout",
     "output_type": "stream",
     "text": [
      "5\n",
      "10 10 20 20 30\n",
      "90\n"
     ]
    }
   ],
   "source": [
    "\n",
    "# Main\n",
    "from sys import setrecursionlimit\n",
    "setrecursionlimit(11000)\n",
    "n=int(input())\n",
    "arr=list(int(i) for i in input().strip().split(' '))\n",
    "print(sumArray(arr))\n"
   ]
  },
  {
   "cell_type": "code",
   "execution_count": 40,
   "id": "d38ea6e5",
   "metadata": {},
   "outputs": [
    {
     "data": {
      "text/plain": [
       "[10, 10, 20, 20, 30]"
      ]
     },
     "execution_count": 40,
     "metadata": {},
     "output_type": "execute_result"
    }
   ],
   "source": [
    "arr"
   ]
  },
  {
   "cell_type": "code",
   "execution_count": 41,
   "id": "3a8760bc",
   "metadata": {},
   "outputs": [
    {
     "data": {
      "text/plain": [
       "90"
      ]
     },
     "execution_count": 41,
     "metadata": {},
     "output_type": "execute_result"
    }
   ],
   "source": [
    "sum(arr)"
   ]
  },
  {
   "cell_type": "markdown",
   "id": "8b44cc95",
   "metadata": {},
   "source": [
    "# Check Number in Array\n"
   ]
  },
  {
   "cell_type": "code",
   "execution_count": 42,
   "id": "0fcf9f14",
   "metadata": {},
   "outputs": [],
   "source": [
    "def checkNumber(arr, x):\n",
    "    # Please add your code here\n",
    "    pass\n"
   ]
  },
  {
   "cell_type": "code",
   "execution_count": null,
   "id": "ffb7936b",
   "metadata": {},
   "outputs": [],
   "source": [
    "\n",
    "# Main\n",
    "from sys import setrecursionlimit\n",
    "setrecursionlimit(11000)\n",
    "n=int(input())\n",
    "arr=list(int(i) for i in input().strip().split(' '))\n",
    "x=int(input())\n",
    "if checkNumber(arr, x):\n",
    "    print('true')\n",
    "else:\n",
    "    print('false')"
   ]
  }
 ],
 "metadata": {
  "kernelspec": {
   "display_name": "Python 3 (ipykernel)",
   "language": "python",
   "name": "python3"
  },
  "language_info": {
   "codemirror_mode": {
    "name": "ipython",
    "version": 3
   },
   "file_extension": ".py",
   "mimetype": "text/x-python",
   "name": "python",
   "nbconvert_exporter": "python",
   "pygments_lexer": "ipython3",
   "version": "3.9.7"
  }
 },
 "nbformat": 4,
 "nbformat_minor": 5
}
